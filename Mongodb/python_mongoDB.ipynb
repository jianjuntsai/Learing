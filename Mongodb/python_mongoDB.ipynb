{
 "cells": [
  {
   "cell_type": "markdown",
   "metadata": {},
   "source": [
    "# Python 操作 MongoDB"
   ]
  },
  {
   "cell_type": "code",
   "execution_count": 19,
   "metadata": {},
   "outputs": [],
   "source": [
    "import pymongo"
   ]
  },
  {
   "cell_type": "markdown",
   "metadata": {},
   "source": [
    "## 连接数据库 Making a Connection with MongoClient\n",
    "\n",
    "几种连接方法\n",
    "\n",
    "- 简写 client = MongoClient()\n",
    "- client = MongoClient('localhost',27017)\n",
    "- 使用URI client = MongoClient('mongodb://localhost:27017/')\n",
    "\n",
    "The first step when working with PyMongo is to create a :class:`~pymongo.mongo_client.MongoClient` to the running mongod instance. Doing so is easy:"
   ]
  },
  {
   "cell_type": "code",
   "execution_count": 20,
   "metadata": {},
   "outputs": [],
   "source": [
    "from pymongo import MongoClient\n",
    "client = MongoClient()"
   ]
  },
  {
   "cell_type": "code",
   "execution_count": 21,
   "metadata": {},
   "outputs": [
    {
     "data": {
      "text/plain": [
       "27017"
      ]
     },
     "execution_count": 21,
     "metadata": {},
     "output_type": "execute_result"
    }
   ],
   "source": [
    "client.PORT"
   ]
  },
  {
   "cell_type": "code",
   "execution_count": 22,
   "metadata": {},
   "outputs": [
    {
     "data": {
      "text/plain": [
       "'localhost'"
      ]
     },
     "execution_count": 22,
     "metadata": {},
     "output_type": "execute_result"
    }
   ],
   "source": [
    "client.HOST"
   ]
  },
  {
   "cell_type": "markdown",
   "metadata": {},
   "source": [
    "The above code will connect on the default host and port. We can also specify the host and port explicitly, as follows:"
   ]
  },
  {
   "cell_type": "code",
   "execution_count": 23,
   "metadata": {},
   "outputs": [],
   "source": [
    "client = MongoClient('localhost', 27017)"
   ]
  },
  {
   "cell_type": "markdown",
   "metadata": {},
   "source": [
    "Or use the MongoDB URI format:"
   ]
  },
  {
   "cell_type": "code",
   "execution_count": 24,
   "metadata": {},
   "outputs": [],
   "source": [
    "client = MongoClient('mongodb://localhost:27017/')"
   ]
  },
  {
   "cell_type": "markdown",
   "metadata": {},
   "source": [
    "## Getting a Database"
   ]
  },
  {
   "cell_type": "code",
   "execution_count": 25,
   "metadata": {},
   "outputs": [
    {
     "data": {
      "text/plain": [
       "['admin', 'config', 'local', 'student', 'test-database']"
      ]
     },
     "execution_count": 25,
     "metadata": {},
     "output_type": "execute_result"
    }
   ],
   "source": [
    "client.list_database_names()"
   ]
  },
  {
   "cell_type": "code",
   "execution_count": 26,
   "metadata": {},
   "outputs": [],
   "source": [
    "db = client.student"
   ]
  },
  {
   "cell_type": "markdown",
   "metadata": {},
   "source": [
    "If your database name is such that using attribute style access won't work (like test-database), you can use dictionary style access instead:\n"
   ]
  },
  {
   "cell_type": "code",
   "execution_count": 27,
   "metadata": {},
   "outputs": [],
   "source": [
    "db= client['student']"
   ]
  },
  {
   "cell_type": "markdown",
   "metadata": {},
   "source": [
    "## Getting a Collection"
   ]
  },
  {
   "cell_type": "markdown",
   "metadata": {},
   "source": [
    "A collection is a group of documents stored in MongoDB, and can be thought of as roughly the equivalent of a table in a relational database. Getting a collection in PyMongo works the same as getting a database:"
   ]
  },
  {
   "cell_type": "code",
   "execution_count": 28,
   "metadata": {},
   "outputs": [
    {
     "data": {
      "text/plain": [
       "['info_student']"
      ]
     },
     "execution_count": 28,
     "metadata": {},
     "output_type": "execute_result"
    }
   ],
   "source": [
    "db.list_collection_names()"
   ]
  },
  {
   "cell_type": "code",
   "execution_count": 29,
   "metadata": {},
   "outputs": [],
   "source": [
    "collection = db.info_student"
   ]
  },
  {
   "cell_type": "markdown",
   "metadata": {},
   "source": [
    "An important note about collections (and databases) in MongoDB is that they are created lazily - none of the above commands have actually performed any operations on the MongoDB server. Collections and databases are created when the first document is inserted into them."
   ]
  },
  {
   "cell_type": "markdown",
   "metadata": {},
   "source": [
    "## Documents"
   ]
  },
  {
   "cell_type": "markdown",
   "metadata": {},
   "source": [
    "## 新增数据"
   ]
  },
  {
   "cell_type": "code",
   "execution_count": 30,
   "metadata": {},
   "outputs": [],
   "source": [
    "from datetime import datetime"
   ]
  },
  {
   "cell_type": "code",
   "execution_count": 31,
   "metadata": {},
   "outputs": [],
   "source": [
    "db = client['test-database']"
   ]
  },
  {
   "cell_type": "code",
   "execution_count": 32,
   "metadata": {},
   "outputs": [],
   "source": [
    "import datetime\n",
    "post = {\"author\": \"Mike\",\n",
    "        \"text\": \"My first blog post!\",\n",
    "        \"tags\": [\"mongodb\", \"python\", \"pymongo\"],\n",
    "        \"date\": datetime.datetime.utcnow()}"
   ]
  },
  {
   "cell_type": "code",
   "execution_count": 33,
   "metadata": {},
   "outputs": [],
   "source": [
    "posts = db.posts"
   ]
  },
  {
   "cell_type": "code",
   "execution_count": 34,
   "metadata": {},
   "outputs": [],
   "source": [
    "post_id = posts.insert_one(post).inserted_id"
   ]
  },
  {
   "cell_type": "code",
   "execution_count": 35,
   "metadata": {},
   "outputs": [
    {
     "data": {
      "text/plain": [
       "ObjectId('5cf2339dd422c5028e526b1e')"
      ]
     },
     "execution_count": 35,
     "metadata": {},
     "output_type": "execute_result"
    }
   ],
   "source": [
    "post_id"
   ]
  },
  {
   "cell_type": "code",
   "execution_count": 36,
   "metadata": {},
   "outputs": [
    {
     "data": {
      "text/plain": [
       "['posts', 'info_student']"
      ]
     },
     "execution_count": 36,
     "metadata": {},
     "output_type": "execute_result"
    }
   ],
   "source": [
    "db.list_collection_names()"
   ]
  },
  {
   "cell_type": "code",
   "execution_count": 37,
   "metadata": {},
   "outputs": [
    {
     "data": {
      "text/plain": [
       "['admin', 'config', 'local', 'student', 'test-database']"
      ]
     },
     "execution_count": 37,
     "metadata": {},
     "output_type": "execute_result"
    }
   ],
   "source": [
    "client.list_database_names()"
   ]
  },
  {
   "cell_type": "markdown",
   "metadata": {},
   "source": [
    "## 查询数据 Getting a Single Document With find_one()"
   ]
  },
  {
   "cell_type": "code",
   "execution_count": 38,
   "metadata": {},
   "outputs": [
    {
     "data": {
      "text/plain": [
       "['admin', 'config', 'local', 'student', 'test-database']"
      ]
     },
     "execution_count": 38,
     "metadata": {},
     "output_type": "execute_result"
    }
   ],
   "source": [
    "client.list_database_names()"
   ]
  },
  {
   "cell_type": "code",
   "execution_count": 39,
   "metadata": {},
   "outputs": [],
   "source": [
    "db = client.student"
   ]
  },
  {
   "cell_type": "code",
   "execution_count": 40,
   "metadata": {},
   "outputs": [
    {
     "data": {
      "text/plain": [
       "['info_student']"
      ]
     },
     "execution_count": 40,
     "metadata": {},
     "output_type": "execute_result"
    }
   ],
   "source": [
    "db.list_collection_names()"
   ]
  },
  {
   "cell_type": "code",
   "execution_count": 41,
   "metadata": {},
   "outputs": [
    {
     "data": {
      "text/plain": [
       "{'_id': ObjectId('5cd599af54507e8759dba40a'),\n",
       " 'name': 'bob',\n",
       " 'age': 16.0,\n",
       " 'sex': 'male',\n",
       " 'grade': 95.0}"
      ]
     },
     "execution_count": 41,
     "metadata": {},
     "output_type": "execute_result"
    }
   ],
   "source": [
    "# 查询一条数据\n",
    "\n",
    "db.info_student.find_one()"
   ]
  },
  {
   "cell_type": "code",
   "execution_count": 42,
   "metadata": {},
   "outputs": [
    {
     "data": {
      "text/plain": [
       "dict"
      ]
     },
     "execution_count": 42,
     "metadata": {},
     "output_type": "execute_result"
    }
   ],
   "source": [
    "type(db.info_student.find_one())"
   ]
  },
  {
   "cell_type": "code",
   "execution_count": 43,
   "metadata": {},
   "outputs": [],
   "source": [
    "oid = db.info_student.find_one()['_id']"
   ]
  },
  {
   "cell_type": "code",
   "execution_count": 44,
   "metadata": {},
   "outputs": [
    {
     "data": {
      "text/plain": [
       "pymongo.cursor.Cursor"
      ]
     },
     "execution_count": 44,
     "metadata": {},
     "output_type": "execute_result"
    }
   ],
   "source": [
    "type(db.info_student.find({'sex':'female'},{'_id':0}))"
   ]
  },
  {
   "cell_type": "code",
   "execution_count": 45,
   "metadata": {},
   "outputs": [
    {
     "name": "stdout",
     "output_type": "stream",
     "text": [
      "{'name': 'ahb', 'age': 20.0, 'sex': 'female', 'grade': 45.0}\n",
      "{'name': 'bob4', 'age': 18.0, 'sex': 'female', 'grade': 95.0}\n",
      "{'name': '_新的标题_', 'age': 99, 'sex': 'female', 'created_at': datetime.datetime(2019, 5, 11, 23, 6, 58, 363000)}\n",
      "{'name': '_新的标题_', 'age': 121, 'sex': 'female', 'created_at': datetime.datetime(2019, 5, 11, 23, 19, 51, 529000)}\n",
      "{'name': '_新的标题_', 'age': 22, 'sex': 'female', 'created_at': datetime.datetime(2019, 5, 11, 23, 20, 43, 987000)}\n",
      "{'name': '_新的标题_', 'age': 22, 'sex': 'female', 'created_at': datetime.datetime(2019, 5, 15, 23, 28, 49, 980000), 'tages': ['baseball', 'basketball']}\n",
      "{'name': '_新的标题_', 'age': 22, 'sex': 'female', 'created_at': datetime.datetime(2019, 5, 15, 23, 36, 12, 274000), 'tages': ['swimming', 'basketball']}\n"
     ]
    }
   ],
   "source": [
    "for i in db.info_student.find({'sex':'female'},{'_id':0}):\n",
    "    print(i)"
   ]
  },
  {
   "cell_type": "code",
   "execution_count": 46,
   "metadata": {},
   "outputs": [
    {
     "data": {
      "text/plain": [
       "{'_id': ObjectId('5cd599af54507e8759dba40a'),\n",
       " 'name': 'bob',\n",
       " 'age': 16.0,\n",
       " 'sex': 'male',\n",
       " 'grade': 95.0}"
      ]
     },
     "execution_count": 46,
     "metadata": {},
     "output_type": "execute_result"
    }
   ],
   "source": [
    "db.info_student.find_one({\"_id\":oid})"
   ]
  },
  {
   "cell_type": "code",
   "execution_count": 47,
   "metadata": {},
   "outputs": [],
   "source": [
    "from bson.objectid import ObjectId\n",
    "\n",
    "# The web framework gets post_id from the URL and passes it as a string\n",
    "def get(post_id):\n",
    "    # Convert from string to ObjectId:\n",
    "    document = client.db.collection.find_one({'_id': ObjectId(post_id)})"
   ]
  },
  {
   "cell_type": "code",
   "execution_count": 48,
   "metadata": {},
   "outputs": [
    {
     "data": {
      "text/plain": [
       "{'_id': ObjectId('5cd599af54507e8759dba40a'),\n",
       " 'name': 'bob',\n",
       " 'age': 16.0,\n",
       " 'sex': 'male',\n",
       " 'grade': 95.0}"
      ]
     },
     "execution_count": 48,
     "metadata": {},
     "output_type": "execute_result"
    }
   ],
   "source": [
    "db.info_student.find_one({\"_id\":ObjectId('5cd599af54507e8759dba40a')})"
   ]
  },
  {
   "cell_type": "code",
   "execution_count": 49,
   "metadata": {},
   "outputs": [
    {
     "data": {
      "text/plain": [
       "{'_id': ObjectId('5cd599af54507e8759dba40a'),\n",
       " 'name': 'bob',\n",
       " 'age': 16.0,\n",
       " 'sex': 'male',\n",
       " 'grade': 95.0}"
      ]
     },
     "execution_count": 49,
     "metadata": {},
     "output_type": "execute_result"
    }
   ],
   "source": [
    "db.info_student.find_one({'sex':'male'})"
   ]
  },
  {
   "cell_type": "code",
   "execution_count": 50,
   "metadata": {},
   "outputs": [],
   "source": [
    "import pprint"
   ]
  },
  {
   "cell_type": "code",
   "execution_count": 51,
   "metadata": {},
   "outputs": [
    {
     "name": "stdout",
     "output_type": "stream",
     "text": [
      "{'_id': ObjectId('5cd599c154507e8759dba40b'),\n",
      " 'age': 20.0,\n",
      " 'grade': 45.0,\n",
      " 'name': 'ahb',\n",
      " 'sex': 'female'}\n"
     ]
    }
   ],
   "source": [
    "pprint.pprint(db.info_student.find_one({'sex':'female'}))"
   ]
  },
  {
   "cell_type": "markdown",
   "metadata": {},
   "source": [
    "## Bulk Inserts"
   ]
  },
  {
   "cell_type": "code",
   "execution_count": 57,
   "metadata": {},
   "outputs": [
    {
     "data": {
      "text/plain": [
       "['admin', 'config', 'local', 'student', 'test-database']"
      ]
     },
     "execution_count": 57,
     "metadata": {},
     "output_type": "execute_result"
    }
   ],
   "source": [
    "client.list_database_names()"
   ]
  },
  {
   "cell_type": "code",
   "execution_count": 60,
   "metadata": {},
   "outputs": [],
   "source": [
    "db = client['test-database']"
   ]
  },
  {
   "cell_type": "code",
   "execution_count": 61,
   "metadata": {},
   "outputs": [
    {
     "data": {
      "text/plain": [
       "['posts', 'info_student']"
      ]
     },
     "execution_count": 61,
     "metadata": {},
     "output_type": "execute_result"
    }
   ],
   "source": [
    "db.list_collection_names()"
   ]
  },
  {
   "cell_type": "code",
   "execution_count": 63,
   "metadata": {},
   "outputs": [],
   "source": [
    "posts = db.posts"
   ]
  },
  {
   "cell_type": "code",
   "execution_count": 64,
   "metadata": {},
   "outputs": [],
   "source": [
    "new_posts = [{\"author\": \"Mike\",\n",
    "...               \"text\": \"Another post!\",\n",
    "...               \"tags\": [\"bulk\", \"insert\"],\n",
    "...               \"date\": datetime.datetime(2009, 11, 12, 11, 14)},\n",
    "...              {\"author\": \"Eliot\",\n",
    "...               \"title\": \"MongoDB is fun\",\n",
    "...               \"text\": \"and pretty easy too!\",\n",
    "...               \"date\": datetime.datetime(2009, 11, 10, 10, 45)}]"
   ]
  },
  {
   "cell_type": "code",
   "execution_count": 65,
   "metadata": {},
   "outputs": [],
   "source": [
    "result = posts.insert_many(new_posts)"
   ]
  },
  {
   "cell_type": "code",
   "execution_count": 66,
   "metadata": {
    "scrolled": true
   },
   "outputs": [
    {
     "data": {
      "text/plain": [
       "[ObjectId('5cf23447d422c5028e526b1f'), ObjectId('5cf23447d422c5028e526b20')]"
      ]
     },
     "execution_count": 66,
     "metadata": {},
     "output_type": "execute_result"
    }
   ],
   "source": [
    "result.inserted_ids"
   ]
  },
  {
   "cell_type": "code",
   "execution_count": 74,
   "metadata": {},
   "outputs": [
    {
     "name": "stdout",
     "output_type": "stream",
     "text": [
      "{'_id': ObjectId('5cdc32cad422c513f1369781'), 'author': 'Mike', 'text': 'My first blog post!', 'tags': ['mongodb', 'python', 'pymongo'], 'date': datetime.datetime(2019, 5, 15, 15, 39, 5, 162000)}\n",
      "{'_id': ObjectId('5cdc332dd422c513f1369782'), 'author': 'Mike', 'text': 'My first blog post!', 'tags': ['mongodb', 'python', 'pymongo'], 'date': datetime.datetime(2019, 5, 15, 15, 41, 32, 257000)}\n",
      "{'_id': ObjectId('5cdc3445d422c513f1369787'), 'author': 'Mike', 'text': 'My first blog post!', 'tags': ['mongodb', 'python', 'pymongo'], 'date': datetime.datetime(2019, 5, 15, 15, 45, 51, 478000)}\n",
      "{'_id': ObjectId('5cf2339dd422c5028e526b1e'), 'author': 'Mike', 'text': 'My first blog post!', 'tags': ['mongodb', 'python', 'pymongo'], 'date': datetime.datetime(2019, 6, 1, 8, 13, 17, 42000)}\n",
      "{'_id': ObjectId('5cf23447d422c5028e526b1f'), 'author': 'Mike', 'text': 'Another post!', 'tags': ['bulk', 'insert'], 'date': datetime.datetime(2009, 11, 12, 11, 14)}\n"
     ]
    }
   ],
   "source": [
    "for post in posts.find({'author':'Mike'}):\n",
    "    print(post)"
   ]
  },
  {
   "cell_type": "markdown",
   "metadata": {},
   "source": [
    "## Count"
   ]
  },
  {
   "cell_type": "code",
   "execution_count": 71,
   "metadata": {},
   "outputs": [
    {
     "data": {
      "text/plain": [
       "6"
      ]
     },
     "execution_count": 71,
     "metadata": {},
     "output_type": "execute_result"
    }
   ],
   "source": [
    "posts.count_documents({})"
   ]
  },
  {
   "cell_type": "code",
   "execution_count": 72,
   "metadata": {},
   "outputs": [
    {
     "data": {
      "text/plain": [
       "5"
      ]
     },
     "execution_count": 72,
     "metadata": {},
     "output_type": "execute_result"
    }
   ],
   "source": [
    "posts.count_documents({'author':'Mike'})"
   ]
  },
  {
   "cell_type": "markdown",
   "metadata": {},
   "source": [
    "## update"
   ]
  },
  {
   "cell_type": "code",
   "execution_count": 4,
   "metadata": {},
   "outputs": [],
   "source": [
    "from pymongo import MongoClient"
   ]
  },
  {
   "cell_type": "code",
   "execution_count": 5,
   "metadata": {},
   "outputs": [],
   "source": [
    "client = MongoClient()"
   ]
  },
  {
   "cell_type": "code",
   "execution_count": 7,
   "metadata": {},
   "outputs": [
    {
     "data": {
      "text/plain": [
       "['Book_DouBan', 'admin', 'config', 'local', 'student', 'test-database']"
      ]
     },
     "execution_count": 7,
     "metadata": {},
     "output_type": "execute_result"
    }
   ],
   "source": [
    "client.list_database_names()"
   ]
  },
  {
   "cell_type": "code",
   "execution_count": 24,
   "metadata": {},
   "outputs": [],
   "source": [
    "db = client['test-database']"
   ]
  },
  {
   "cell_type": "code",
   "execution_count": 25,
   "metadata": {},
   "outputs": [
    {
     "data": {
      "text/plain": [
       "['posts', 'info_student']"
      ]
     },
     "execution_count": 25,
     "metadata": {},
     "output_type": "execute_result"
    }
   ],
   "source": [
    "db.list_collection_names()"
   ]
  },
  {
   "cell_type": "code",
   "execution_count": 76,
   "metadata": {
    "scrolled": true
   },
   "outputs": [],
   "source": [
    "rest = db.posts.update_one({'author':'Mike'},{\"$set\":{'author':\"Joey\"}})"
   ]
  },
  {
   "cell_type": "code",
   "execution_count": 77,
   "metadata": {},
   "outputs": [
    {
     "data": {
      "text/plain": [
       "1"
      ]
     },
     "execution_count": 77,
     "metadata": {},
     "output_type": "execute_result"
    }
   ],
   "source": [
    "rest.matched_count"
   ]
  },
  {
   "cell_type": "code",
   "execution_count": 78,
   "metadata": {},
   "outputs": [
    {
     "data": {
      "text/plain": [
       "1"
      ]
     },
     "execution_count": 78,
     "metadata": {},
     "output_type": "execute_result"
    }
   ],
   "source": [
    "rest.modified_count"
   ]
  },
  {
   "cell_type": "code",
   "execution_count": 90,
   "metadata": {},
   "outputs": [],
   "source": [
    "rest = db.posts.update_many({'author':'Mike'},\n",
    "                            {\"$set\":{'text':\"it is last update\"}})"
   ]
  },
  {
   "cell_type": "code",
   "execution_count": 91,
   "metadata": {},
   "outputs": [
    {
     "data": {
      "text/plain": [
       "2"
      ]
     },
     "execution_count": 91,
     "metadata": {},
     "output_type": "execute_result"
    }
   ],
   "source": [
    "rest.matched_count"
   ]
  },
  {
   "cell_type": "code",
   "execution_count": 92,
   "metadata": {},
   "outputs": [
    {
     "data": {
      "text/plain": [
       "2"
      ]
     },
     "execution_count": 92,
     "metadata": {},
     "output_type": "execute_result"
    }
   ],
   "source": [
    "rest.modified_count"
   ]
  },
  {
   "cell_type": "code",
   "execution_count": 94,
   "metadata": {},
   "outputs": [],
   "source": [
    "rest = db.posts.update_many({},\n",
    "                            {\"$set\":{'text':\"it is last update\"}})"
   ]
  },
  {
   "cell_type": "code",
   "execution_count": 95,
   "metadata": {},
   "outputs": [
    {
     "data": {
      "text/plain": [
       "6"
      ]
     },
     "execution_count": 95,
     "metadata": {},
     "output_type": "execute_result"
    }
   ],
   "source": [
    "rest.matched_count"
   ]
  },
  {
   "cell_type": "code",
   "execution_count": 96,
   "metadata": {},
   "outputs": [
    {
     "data": {
      "text/plain": [
       "4"
      ]
     },
     "execution_count": 96,
     "metadata": {},
     "output_type": "execute_result"
    }
   ],
   "source": [
    "rest.modified_count"
   ]
  },
  {
   "cell_type": "code",
   "execution_count": 97,
   "metadata": {},
   "outputs": [
    {
     "name": "stdout",
     "output_type": "stream",
     "text": [
      "{'_id': ObjectId('5cdc32cad422c513f1369781'), 'text': 'it is last update'}\n",
      "{'_id': ObjectId('5cdc332dd422c513f1369782'), 'author': 'Joey', 'text': 'it is last update', 'tags': ['mongodb', 'python', 'pymongo'], 'date': datetime.datetime(2019, 5, 15, 15, 41, 32, 257000)}\n",
      "{'_id': ObjectId('5cdc3445d422c513f1369787'), 'author': 'Joey', 'text': 'it is last update', 'tags': ['mongodb', 'python', 'pymongo'], 'date': datetime.datetime(2019, 5, 15, 15, 45, 51, 478000)}\n",
      "{'_id': ObjectId('5cf2339dd422c5028e526b1e'), 'author': 'Mike', 'text': 'it is last update', 'tags': ['mongodb', 'python', 'pymongo'], 'date': datetime.datetime(2019, 6, 1, 8, 13, 17, 42000)}\n",
      "{'_id': ObjectId('5cf23447d422c5028e526b1f'), 'author': 'Mike', 'text': 'it is last update', 'tags': ['bulk', 'insert'], 'date': datetime.datetime(2009, 11, 12, 11, 14)}\n",
      "{'_id': ObjectId('5cf23447d422c5028e526b20'), 'author': 'Eliot', 'title': 'MongoDB is fun', 'text': 'it is last update', 'date': datetime.datetime(2009, 11, 10, 10, 45)}\n"
     ]
    }
   ],
   "source": [
    "for i in db.posts.find({}):\n",
    "    print (i)"
   ]
  },
  {
   "cell_type": "code",
   "execution_count": 101,
   "metadata": {},
   "outputs": [],
   "source": [
    "db = client.student"
   ]
  },
  {
   "cell_type": "code",
   "execution_count": 108,
   "metadata": {},
   "outputs": [
    {
     "data": {
      "text/plain": [
       "['info_student']"
      ]
     },
     "execution_count": 108,
     "metadata": {},
     "output_type": "execute_result"
    }
   ],
   "source": [
    "db.list_collection_names()"
   ]
  },
  {
   "cell_type": "code",
   "execution_count": 121,
   "metadata": {},
   "outputs": [
    {
     "name": "stdout",
     "output_type": "stream",
     "text": [
      "{'_id': ObjectId('5cd59a4954507e8759dba40c'), 'name': 'xi', 'age': 15.0, 'sex': 'male', 'grade': 75.0}\n",
      "{'_id': ObjectId('5cd59a4954507e8759dba40d'), 'name': 'xi', 'age': 15.0, 'sex': 'male', 'grade': 75.0}\n",
      "{'_id': ObjectId('5cd59a8954507e8759dba40e'), 'name': 'xi', 'age': 15.0, 'sex': 'male', 'grade': 75.0}\n",
      "{'_id': ObjectId('5cd59a8954507e8759dba410'), 'name': 'xi', 'age': 15.0, 'sex': 'male', 'grade': 35.0}\n",
      "{'_id': ObjectId('5cd59a8954507e8759dba411'), 'name': 'xi', 'age': 15.0, 'sex': 'male', 'grade': 25.0, 'school': 'soft'}\n",
      "{'_id': ObjectId('5cd59aa054507e8759dba412'), 'name': 'xi', 'age': 15.0, 'sex': 'male', 'grade': 75.0}\n",
      "{'_id': ObjectId('5cd59aa054507e8759dba413'), 'name': 'xi', 'age': 15.0, 'sex': 'male', 'grade': 75.0}\n"
     ]
    }
   ],
   "source": [
    "for i in db['info_student'].find({'name':'xi'}):\n",
    "    print (i)"
   ]
  },
  {
   "cell_type": "code",
   "execution_count": 131,
   "metadata": {},
   "outputs": [],
   "source": [
    "result = db['info_student'].update_many({'name':'xi'},{\"$inc\":{\"age\":10}})"
   ]
  },
  {
   "cell_type": "code",
   "execution_count": 132,
   "metadata": {},
   "outputs": [
    {
     "data": {
      "text/plain": [
       "7"
      ]
     },
     "execution_count": 132,
     "metadata": {},
     "output_type": "execute_result"
    }
   ],
   "source": [
    "result.matched_count"
   ]
  },
  {
   "cell_type": "code",
   "execution_count": 133,
   "metadata": {},
   "outputs": [
    {
     "data": {
      "text/plain": [
       "7"
      ]
     },
     "execution_count": 133,
     "metadata": {},
     "output_type": "execute_result"
    }
   ],
   "source": [
    "result.modified_count"
   ]
  },
  {
   "cell_type": "markdown",
   "metadata": {},
   "source": [
    "## Delete"
   ]
  },
  {
   "cell_type": "code",
   "execution_count": 136,
   "metadata": {},
   "outputs": [],
   "source": [
    "rest = student.delete_one({'name':'xi'})"
   ]
  },
  {
   "cell_type": "code",
   "execution_count": 137,
   "metadata": {},
   "outputs": [
    {
     "data": {
      "text/plain": [
       "1"
      ]
     },
     "execution_count": 137,
     "metadata": {},
     "output_type": "execute_result"
    }
   ],
   "source": [
    "rest.deleted_count"
   ]
  },
  {
   "cell_type": "code",
   "execution_count": 138,
   "metadata": {},
   "outputs": [
    {
     "data": {
      "text/plain": [
       "{'n': 1, 'ok': 1.0}"
      ]
     },
     "execution_count": 138,
     "metadata": {},
     "output_type": "execute_result"
    }
   ],
   "source": [
    "rest.raw_result"
   ]
  },
  {
   "cell_type": "code",
   "execution_count": 145,
   "metadata": {},
   "outputs": [],
   "source": [
    "rest = student.delete_many({'age':{'$lt':20}})"
   ]
  },
  {
   "cell_type": "code",
   "execution_count": 146,
   "metadata": {},
   "outputs": [
    {
     "data": {
      "text/plain": [
       "4"
      ]
     },
     "execution_count": 146,
     "metadata": {},
     "output_type": "execute_result"
    }
   ],
   "source": [
    "rest.deleted_count"
   ]
  },
  {
   "cell_type": "code",
   "execution_count": 149,
   "metadata": {},
   "outputs": [
    {
     "data": {
      "text/plain": [
       "2"
      ]
     },
     "execution_count": 149,
     "metadata": {},
     "output_type": "execute_result"
    }
   ],
   "source": [
    "rest = student.delete_many({'age':{'$gt':90}})\n",
    "rest.deleted_count"
   ]
  },
  {
   "cell_type": "code",
   "execution_count": 150,
   "metadata": {},
   "outputs": [
    {
     "name": "stdout",
     "output_type": "stream",
     "text": [
      "{'_id': ObjectId('5cd599c154507e8759dba40b'), 'name': 'ahb', 'age': 20.0, 'sex': 'female', 'grade': 45.0}\n",
      "{'_id': ObjectId('5cd59a4954507e8759dba40d'), 'name': 'xi', 'age': 35.0, 'sex': 'male', 'grade': 75.0}\n",
      "{'_id': ObjectId('5cd59a8954507e8759dba40e'), 'name': 'xi', 'age': 35.0, 'sex': 'male', 'grade': 75.0}\n",
      "{'_id': ObjectId('5cd59a8954507e8759dba410'), 'name': 'xi', 'age': 35.0, 'sex': 'male', 'grade': 35.0}\n",
      "{'_id': ObjectId('5cd59a8954507e8759dba411'), 'name': 'xi', 'age': 35.0, 'sex': 'male', 'grade': 25.0, 'school': 'soft'}\n",
      "{'_id': ObjectId('5cd59aa054507e8759dba412'), 'name': 'xi', 'age': 35.0, 'sex': 'male', 'grade': 75.0}\n",
      "{'_id': ObjectId('5cd59aa054507e8759dba413'), 'name': 'xi', 'age': 35.0, 'sex': 'male', 'grade': 75.0}\n",
      "{'_id': ObjectId('5cd6e84cd422c50666051771'), 'name': '_新的标题_', 'age': 22, 'sex': 'female', 'created_at': datetime.datetime(2019, 5, 11, 23, 20, 43, 987000)}\n",
      "{'_id': ObjectId('5cdc3034d422c513f136977f'), 'name': '_新的标题_', 'age': 22, 'sex': 'female', 'created_at': datetime.datetime(2019, 5, 15, 23, 28, 49, 980000), 'tages': ['baseball', 'basketball']}\n",
      "{'_id': ObjectId('5cdc31ecd422c513f1369780'), 'name': '_新的标题_', 'age': 22, 'sex': 'female', 'created_at': datetime.datetime(2019, 5, 15, 23, 36, 12, 274000), 'tages': ['swimming', 'basketball']}\n"
     ]
    }
   ],
   "source": [
    "for i in student.find({}):\n",
    "    print(i)"
   ]
  },
  {
   "cell_type": "markdown",
   "metadata": {},
   "source": [
    "## pandas "
   ]
  },
  {
   "cell_type": "code",
   "execution_count": 76,
   "metadata": {},
   "outputs": [],
   "source": [
    "import pandas as pd"
   ]
  },
  {
   "cell_type": "code",
   "execution_count": 77,
   "metadata": {},
   "outputs": [
    {
     "data": {
      "text/html": [
       "<div>\n",
       "<style scoped>\n",
       "    .dataframe tbody tr th:only-of-type {\n",
       "        vertical-align: middle;\n",
       "    }\n",
       "\n",
       "    .dataframe tbody tr th {\n",
       "        vertical-align: top;\n",
       "    }\n",
       "\n",
       "    .dataframe thead th {\n",
       "        text-align: right;\n",
       "    }\n",
       "</style>\n",
       "<table border=\"1\" class=\"dataframe\">\n",
       "  <thead>\n",
       "    <tr style=\"text-align: right;\">\n",
       "      <th></th>\n",
       "      <th>_id</th>\n",
       "      <th>author</th>\n",
       "      <th>date</th>\n",
       "      <th>tags</th>\n",
       "      <th>text</th>\n",
       "      <th>title</th>\n",
       "    </tr>\n",
       "  </thead>\n",
       "  <tbody>\n",
       "    <tr>\n",
       "      <th>0</th>\n",
       "      <td>5cdc32cad422c513f1369781</td>\n",
       "      <td>Mike</td>\n",
       "      <td>2019-05-15 15:39:05.162</td>\n",
       "      <td>[mongodb, python, pymongo]</td>\n",
       "      <td>My first blog post!</td>\n",
       "      <td>NaN</td>\n",
       "    </tr>\n",
       "    <tr>\n",
       "      <th>1</th>\n",
       "      <td>5cdc332dd422c513f1369782</td>\n",
       "      <td>Mike</td>\n",
       "      <td>2019-05-15 15:41:32.257</td>\n",
       "      <td>[mongodb, python, pymongo]</td>\n",
       "      <td>My first blog post!</td>\n",
       "      <td>NaN</td>\n",
       "    </tr>\n",
       "    <tr>\n",
       "      <th>2</th>\n",
       "      <td>5cdc3445d422c513f1369787</td>\n",
       "      <td>Mike</td>\n",
       "      <td>2019-05-15 15:45:51.478</td>\n",
       "      <td>[mongodb, python, pymongo]</td>\n",
       "      <td>My first blog post!</td>\n",
       "      <td>NaN</td>\n",
       "    </tr>\n",
       "    <tr>\n",
       "      <th>3</th>\n",
       "      <td>5cf2339dd422c5028e526b1e</td>\n",
       "      <td>Mike</td>\n",
       "      <td>2019-06-01 08:13:17.042</td>\n",
       "      <td>[mongodb, python, pymongo]</td>\n",
       "      <td>My first blog post!</td>\n",
       "      <td>NaN</td>\n",
       "    </tr>\n",
       "    <tr>\n",
       "      <th>4</th>\n",
       "      <td>5cf23447d422c5028e526b1f</td>\n",
       "      <td>Mike</td>\n",
       "      <td>2009-11-12 11:14:00.000</td>\n",
       "      <td>[bulk, insert]</td>\n",
       "      <td>Another post!</td>\n",
       "      <td>NaN</td>\n",
       "    </tr>\n",
       "    <tr>\n",
       "      <th>5</th>\n",
       "      <td>5cf23447d422c5028e526b20</td>\n",
       "      <td>Eliot</td>\n",
       "      <td>2009-11-10 10:45:00.000</td>\n",
       "      <td>NaN</td>\n",
       "      <td>and pretty easy too!</td>\n",
       "      <td>MongoDB is fun</td>\n",
       "    </tr>\n",
       "  </tbody>\n",
       "</table>\n",
       "</div>"
      ],
      "text/plain": [
       "                        _id author                    date  \\\n",
       "0  5cdc32cad422c513f1369781   Mike 2019-05-15 15:39:05.162   \n",
       "1  5cdc332dd422c513f1369782   Mike 2019-05-15 15:41:32.257   \n",
       "2  5cdc3445d422c513f1369787   Mike 2019-05-15 15:45:51.478   \n",
       "3  5cf2339dd422c5028e526b1e   Mike 2019-06-01 08:13:17.042   \n",
       "4  5cf23447d422c5028e526b1f   Mike 2009-11-12 11:14:00.000   \n",
       "5  5cf23447d422c5028e526b20  Eliot 2009-11-10 10:45:00.000   \n",
       "\n",
       "                         tags                  text           title  \n",
       "0  [mongodb, python, pymongo]   My first blog post!             NaN  \n",
       "1  [mongodb, python, pymongo]   My first blog post!             NaN  \n",
       "2  [mongodb, python, pymongo]   My first blog post!             NaN  \n",
       "3  [mongodb, python, pymongo]   My first blog post!             NaN  \n",
       "4              [bulk, insert]         Another post!             NaN  \n",
       "5                         NaN  and pretty easy too!  MongoDB is fun  "
      ]
     },
     "execution_count": 77,
     "metadata": {},
     "output_type": "execute_result"
    }
   ],
   "source": [
    "pd.DataFrame(list(posts.find()))"
   ]
  }
 ],
 "metadata": {
  "kernelspec": {
   "display_name": "Python 3",
   "language": "python",
   "name": "python3"
  },
  "language_info": {
   "codemirror_mode": {
    "name": "ipython",
    "version": 3
   },
   "file_extension": ".py",
   "mimetype": "text/x-python",
   "name": "python",
   "nbconvert_exporter": "python",
   "pygments_lexer": "ipython3",
   "version": "3.7.1"
  }
 },
 "nbformat": 4,
 "nbformat_minor": 2
}
