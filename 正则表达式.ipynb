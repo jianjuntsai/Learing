{
 "cells": [
  {
   "cell_type": "markdown",
   "metadata": {},
   "source": [
    "# 正则表达式"
   ]
  },
  {
   "cell_type": "markdown",
   "metadata": {},
   "source": [
    "[在线测试](http://tool.oschina.net/regex)"
   ]
  },
  {
   "cell_type": "markdown",
   "metadata": {},
   "source": [
    "### 常见匹配内容\n",
    "\n",
    "\n",
    "````\n",
    "\\w      匹配字母数字及下划线\n",
    "\\W      匹配f非字母数字下划线\n",
    "\\s      匹配任意空白字符，等价于[\\t\\n\\r\\f]\n",
    "\\S      匹配任意非空字符\n",
    "\\d      匹配任意数字\n",
    "\\D      匹配任意非数字\n",
    "\\A      匹配字符串开始\n",
    "\\Z      匹配字符串结束，如果存在换行，只匹配换行前的结束字符串\n",
    "\\z      匹配字符串结束\n",
    "\\G      匹配最后匹配完成的位置\n",
    "\\n      匹配一个换行符\n",
    "\\t      匹配一个制表符\n",
    "^       匹配字符串的开头\n",
    "$       匹配字符串的末尾\n",
    ".       匹配任意字符，除了换行符，re.DOTALL标记被指定时，则可以匹配包括换行符的任意字符\n",
    "[....]  用来表示一组字符，单独列出：[amk]匹配a,m或k\n",
    "[^...]  不在[]中的字符：[^abc]匹配除了a,b,c之外的字符\n",
    "*       匹配0个或多个的表达式\n",
    "+       匹配1个或者多个的表达式\n",
    "?       匹配0个或1个由前面的正则表达式定义的片段，非贪婪方式\n",
    "{n}     精确匹配n前面的表示\n",
    "{m,m}   匹配n到m次由前面的正则表达式定义片段，贪婪模式\n",
    "a|b     匹配a或者b\n",
    "()      匹配括号内的表达式，也表示一个组\n",
    "\n",
    "```"
   ]
  },
  {
   "cell_type": "markdown",
   "metadata": {},
   "source": [
    "![](http://r.photo.store.qq.com/psb?/V12RfvTp2UiL6h/LZWPM5rGW05epogxdZgK.TjUZfN5SjaucMriZuA15rk!/r/dPMAAAAAAAAA)"
   ]
  },
  {
   "cell_type": "markdown",
   "metadata": {},
   "source": [
    "## re 模块\n",
    "\n",
    "* **re模块** 中提供很多函数，这些函数和方法可以帮助你使用正则表达式对字符串进行匹配、提取和替换等操作，你也可以将正则表达式编译为对象后，通过对象的方法对字符串进行相同的操作。\n",
    "\n",
    "以下为将要介绍的re模块里的函数和方法：\n",
    "\n",
    "|函数|功能|函数|功能|\n",
    "|:-:|:-:|:-:|:-:|\n",
    "|**re.compile ( )**|将字符串形式的正则表达式编译为Pattern对象|**re.match ( )**|匹配字符串开头|\n",
    "|**re.search ( )**|从左到右扫描字符串，返回对应第一个匹配对象|**re.finall ( )**|匹配的子字符串以列表形式返回|\n",
    "|**re.finditer ( )**|返回匹配访问顺序|**re.split ( )**|按照能够匹配的子串将string分割后返回列表|\n",
    "|**re.sub ( )**| 输出修改替换后的字符串|**re.subn ( )**|返回一个元组（新字符串，替换次数)|\n",
    "|**re.escape ( )**|转义除ASCII字母、数字和下划线的所有字符|**re.purge ( )**|清除所有正则表达式缓存|"
   ]
  },
  {
   "cell_type": "markdown",
   "metadata": {},
   "source": [
    "* **函数句法** \n",
    "\n",
    "【例】** re.match(pattern, string, flags=0)**\n",
    "\n",
    "      pattern：需要匹配的正则表达式\n",
    "\n",
    "      string：需要被匹配的字符串\n",
    "\n",
    "      flags：匹配模式，取值可以使用按位或运算符'|'表示同时生效，比如 re.compile('pattern', re.I | re.M)\n",
    "      \n",
    "|flags|功能|\n",
    "|:-|:-|  \n",
    "|**re.I(re.IGNORECASE)**  |忽略大小写（括号内是完整写法，下同)|\n",
    "|**re.M(MULTILINE)**  |多行模式，'^'和'$'匹配每行的开头和结尾|\n",
    "|**re.S(DOTALL)**  |点任意匹配模式，'.'匹配任意字符，包括换行符|\n",
    "|**re.L(LOCALE)**  |使预定字符类 \\w \\W \\b \\B \\s \\S 取决于当前区域设定|\n",
    "|**re.U(UNICODE)**  |使预定字符类 \\w \\W \\b \\B \\s \\S \\d \\D 取决于unicode定义的字符属性|\n",
    "|**re.X(VERBOSE)**  |详细模式。这个模式下正则表达式可以是多行，忽略空白字符，并可以加入注释|\n",
    "|**re.A(ASCII)**  |在unicode字符串模式的情况下影响\\w, \\W, \\b, \\B, \\d, \\D, \\s, \\S，让它们只匹配ASCII码,在bytes字符串模式下会被忽略|\n"
   ]
  },
  {
   "cell_type": "code",
   "execution_count": 18,
   "metadata": {},
   "outputs": [],
   "source": [
    "import re\n",
    "\n",
    "content= \"Hello 123 4567 World_This is a regex Demo\"\n",
    "\n",
    "result = re.match(r'^Hello\\s\\d{3}\\s\\d{4}\\s\\w{10}',content)"
   ]
  },
  {
   "cell_type": "code",
   "execution_count": 19,
   "metadata": {},
   "outputs": [
    {
     "name": "stdout",
     "output_type": "stream",
     "text": [
      "<re.Match object; span=(0, 25), match='Hello 123 4567 World_This'>\n"
     ]
    }
   ],
   "source": [
    "print(result)"
   ]
  },
  {
   "cell_type": "code",
   "execution_count": 20,
   "metadata": {},
   "outputs": [
    {
     "data": {
      "text/plain": [
       "'Hello 123 4567 World_This'"
      ]
     },
     "execution_count": 20,
     "metadata": {},
     "output_type": "execute_result"
    }
   ],
   "source": [
    "result.group() #输出匹配结果"
   ]
  },
  {
   "cell_type": "code",
   "execution_count": 22,
   "metadata": {},
   "outputs": [
    {
     "data": {
      "text/plain": [
       "(0, 25)"
      ]
     },
     "execution_count": 22,
     "metadata": {},
     "output_type": "execute_result"
    }
   ],
   "source": [
    "result.span() #返回匹配字符范围"
   ]
  },
  {
   "cell_type": "markdown",
   "metadata": {},
   "source": [
    "### 匹配目标"
   ]
  },
  {
   "cell_type": "code",
   "execution_count": 24,
   "metadata": {},
   "outputs": [],
   "source": [
    "result = re.match(r'^Hello\\s(\\d{3}\\s\\d{4})\\s\\w{10}',content)"
   ]
  },
  {
   "cell_type": "code",
   "execution_count": 29,
   "metadata": {},
   "outputs": [
    {
     "data": {
      "text/plain": [
       "'123 4567'"
      ]
     },
     "execution_count": 29,
     "metadata": {},
     "output_type": "execute_result"
    }
   ],
   "source": [
    "result.group(1) #匹配的第1个小括号里的内容"
   ]
  },
  {
   "cell_type": "markdown",
   "metadata": {},
   "source": [
    "### 贪婪匹配"
   ]
  },
  {
   "cell_type": "code",
   "execution_count": 43,
   "metadata": {},
   "outputs": [],
   "source": [
    "content = \"Hello 1234567 World_This is a regex Demo\"\n",
    "\n",
    "result = re.match(r'^Hello\\s(\\d+).*Demo$',content)"
   ]
  },
  {
   "cell_type": "code",
   "execution_count": 44,
   "metadata": {},
   "outputs": [
    {
     "data": {
      "text/plain": [
       "'1234567'"
      ]
     },
     "execution_count": 44,
     "metadata": {},
     "output_type": "execute_result"
    }
   ],
   "source": [
    "result.group(1)"
   ]
  },
  {
   "cell_type": "code",
   "execution_count": 45,
   "metadata": {},
   "outputs": [
    {
     "data": {
      "text/plain": [
       "'1'"
      ]
     },
     "execution_count": 45,
     "metadata": {},
     "output_type": "execute_result"
    }
   ],
   "source": [
    "result = re.match(r'^Hello\\s(\\d+?).*Demo$',content)\n",
    "result.group(1)"
   ]
  },
  {
   "cell_type": "code",
   "execution_count": 46,
   "metadata": {},
   "outputs": [
    {
     "data": {
      "text/plain": [
       "'7'"
      ]
     },
     "execution_count": 46,
     "metadata": {},
     "output_type": "execute_result"
    }
   ],
   "source": [
    "result = re.match(r'^H.*(\\d+).*Demo$',content)\n",
    "result.group(1)"
   ]
  },
  {
   "cell_type": "code",
   "execution_count": 48,
   "metadata": {},
   "outputs": [
    {
     "data": {
      "text/plain": [
       "'1234567'"
      ]
     },
     "execution_count": 48,
     "metadata": {},
     "output_type": "execute_result"
    }
   ],
   "source": [
    "result = re.match(r'^H.*?(\\d+).*Demo$',content)\n",
    "result.group(1)"
   ]
  },
  {
   "cell_type": "markdown",
   "metadata": {},
   "source": [
    "### 区配模式"
   ]
  },
  {
   "cell_type": "code",
   "execution_count": 52,
   "metadata": {},
   "outputs": [],
   "source": [
    "content = '''Hello 1234567 World_This\n",
    "is a regex Demo'''\n",
    "\n",
    "result = re.match(r'^Hello.*?(\\d+).*Demo$',content, re.S)"
   ]
  },
  {
   "cell_type": "code",
   "execution_count": 53,
   "metadata": {},
   "outputs": [
    {
     "data": {
      "text/plain": [
       "<re.Match object; span=(0, 40), match='Hello 1234567 World_This\\nis a regex Demo'>"
      ]
     },
     "execution_count": 53,
     "metadata": {},
     "output_type": "execute_result"
    }
   ],
   "source": [
    "result"
   ]
  },
  {
   "cell_type": "markdown",
   "metadata": {},
   "source": [
    "### 转义"
   ]
  },
  {
   "cell_type": "code",
   "execution_count": 59,
   "metadata": {
    "scrolled": true
   },
   "outputs": [
    {
     "name": "stdout",
     "output_type": "stream",
     "text": [
      "<re.Match object; span=(0, 14), match='price is $5.00'>\n",
      "$5.00\n"
     ]
    }
   ],
   "source": [
    "content= \"price is $5.00\"\n",
    "\n",
    "result = re.match(r'^p.*(\\$\\d.\\d\\d)$',content)\n",
    "print(result)\n",
    "print(result.group(1))"
   ]
  },
  {
   "cell_type": "markdown",
   "metadata": {},
   "source": [
    "### 小结"
   ]
  },
  {
   "cell_type": "markdown",
   "metadata": {},
   "source": [
    "尽量使用泛匹配，使用括号得到匹配目标，尽量使用非贪婪模式，有换行符就用re.S\n",
    "强调re.match是从字符串的起始位置匹配一个模式"
   ]
  },
  {
   "cell_type": "code",
   "execution_count": 82,
   "metadata": {},
   "outputs": [],
   "source": [
    "#例子提取歌名和歌手\n",
    "\n",
    "html = '''<div id=\"songs-list\">\n",
    "    <h2 class=\"title\">经典老歌</h2>\n",
    "    <p class=\"introduction\">\n",
    "        经典老歌列表\n",
    "    </p>\n",
    "    <ul id=\"list\" class=\"list-group\">\n",
    "        <li data-view=\"2\">一路上有你</li>\n",
    "        <li data-view=\"7\">\n",
    "            <a href=\"/2.mp3\" singer=\"任贤齐\">沧海一声笑</a>\n",
    "        </li>\n",
    "        <li data-view=\"4\" class=\"active\">\n",
    "            <a href=\"/3.mp3\" singer=\"齐秦\">往事随风</a>\n",
    "        </li>\n",
    "        <li data-view=\"6\"><a href=\"/4.mp3\" singer=\"beyond\">光辉岁月</a></li>\n",
    "        <li data-view=\"5\"><a href=\"/5.mp3\" singer=\"陈慧琳\">记事本</a></li>\n",
    "        <li data-view=\"5\">\n",
    "            <a href=\"/6.mp3\" singer=\"邓丽君\">但愿人长久</a>\n",
    "        </li>\n",
    "    </ul>\n",
    "</div>'''"
   ]
  },
  {
   "cell_type": "code",
   "execution_count": 123,
   "metadata": {},
   "outputs": [],
   "source": [
    "result = re.findall(r'<a href=\"(.*?)\".*?singer=\"(.*?)\">(.*?)</a>',html,re.S)"
   ]
  },
  {
   "cell_type": "code",
   "execution_count": 105,
   "metadata": {},
   "outputs": [
    {
     "data": {
      "text/plain": [
       "[('/2.mp3', '任贤齐', '沧海一声笑'),\n",
       " ('/3.mp3', '齐秦', '往事随风'),\n",
       " ('/4.mp3', 'beyond', '光辉岁月'),\n",
       " ('/5.mp3', '陈慧琳', '记事本'),\n",
       " ('/6.mp3', '邓丽君', '但愿人长久')]"
      ]
     },
     "execution_count": 105,
     "metadata": {},
     "output_type": "execute_result"
    }
   ],
   "source": [
    "result"
   ]
  },
  {
   "cell_type": "code",
   "execution_count": 94,
   "metadata": {},
   "outputs": [
    {
     "name": "stdout",
     "output_type": "stream",
     "text": [
      "<a href=\"/2.mp3\" singer=\"任贤齐\">沧海一声笑</a> 任贤齐 沧海一声笑\n"
     ]
    }
   ],
   "source": [
    "result = re.search(r'<a href.*?singer=\"(.*?)\">(.*?)</a>',html,re.S)\n",
    "print(result.group(0),result.group(1),result.group(2))"
   ]
  },
  {
   "cell_type": "code",
   "execution_count": 97,
   "metadata": {},
   "outputs": [
    {
     "name": "stdout",
     "output_type": "stream",
     "text": [
      "<li data-view=\"2\">一路上有你</li>\n",
      "        <li data-view=\"7\">\n",
      "            <a href=\"/2.mp3\" singer=\"任贤齐\">沧海一声笑</a>\n",
      "        </li>\n",
      "        <li data-view=\"4\" class=\"active\">\n",
      "            <a href=\"/3.mp3\" singer=\"齐秦\">往事随风</a> 齐秦 往事随风\n"
     ]
    }
   ],
   "source": [
    "result = re.search(r'<li.*?active.*?singer=\"(.*?)\">(.*?)</a>',html,re.S)\n",
    "print(result.group(0),result.group(1),result.group(2))"
   ]
  },
  {
   "cell_type": "code",
   "execution_count": 143,
   "metadata": {
    "scrolled": true
   },
   "outputs": [
    {
     "data": {
      "text/plain": [
       "[('', '一路上有你', ''),\n",
       " ('<a href=\"/2.mp3\" singer=\"任贤齐\">', '沧海一声笑', '</a>'),\n",
       " ('<a href=\"/3.mp3\" singer=\"齐秦\">', '往事随风', '</a>'),\n",
       " ('<a href=\"/4.mp3\" singer=\"beyond\">', '光辉岁月', '</a>'),\n",
       " ('<a href=\"/5.mp3\" singer=\"陈慧琳\">', '记事本', '</a>'),\n",
       " ('<a href=\"/6.mp3\" singer=\"邓丽君\">', '但愿人长久', '</a>')]"
      ]
     },
     "execution_count": 143,
     "metadata": {},
     "output_type": "execute_result"
    }
   ],
   "source": [
    "result = re.findall(r'<li.*?>\\s*?(<a href.*?>)?(\\w+)(</a>)?\\s*?</li>',html)\n",
    "result"
   ]
  },
  {
   "cell_type": "markdown",
   "metadata": {},
   "source": [
    "## re.sub"
   ]
  },
  {
   "cell_type": "code",
   "execution_count": 1,
   "metadata": {},
   "outputs": [
    {
     "name": "stdout",
     "output_type": "stream",
     "text": [
      "Extra things hello  World_this is a regex Demo extra things\n"
     ]
    }
   ],
   "source": [
    "#用空替换上面内容中的数字\n",
    "\n",
    "import re\n",
    "\n",
    "content = \"Extra things hello 123455 World_this is a regex Demo extra things\"\n",
    "\n",
    "content = re.sub('\\d+','',content)\n",
    "print(content)"
   ]
  },
  {
   "cell_type": "code",
   "execution_count": 11,
   "metadata": {},
   "outputs": [
    {
     "data": {
      "text/plain": [
       "'Extra things hello 123455 789 World_this is a regex Demo 333 789 extra things'"
      ]
     },
     "execution_count": 11,
     "metadata": {},
     "output_type": "execute_result"
    }
   ],
   "source": [
    "# 用原有数字+789替换现有的数字\n",
    "\n",
    "content = \"Extra things hello 123455 World_this is a regex Demo 333 extra things\"\n",
    "\n",
    "re.sub(r'(\\d+)',r'\\1 789',content)"
   ]
  },
  {
   "cell_type": "markdown",
   "metadata": {},
   "source": [
    "## re.compile"
   ]
  },
  {
   "cell_type": "code",
   "execution_count": 20,
   "metadata": {},
   "outputs": [],
   "source": [
    "#匹配下面的字符串\n",
    "\n",
    "content= \"\"\"hello 12345 world_this\n",
    "123 fan\n",
    "\"\"\"\n",
    "\n",
    "result = re.compile(r'^he.*?fan$',re.S)"
   ]
  },
  {
   "cell_type": "code",
   "execution_count": 25,
   "metadata": {},
   "outputs": [
    {
     "data": {
      "text/plain": [
       "'hello 12345 world_this\\n123 fan'"
      ]
     },
     "execution_count": 25,
     "metadata": {},
     "output_type": "execute_result"
    }
   ],
   "source": [
    "result.match(content).group(0)"
   ]
  },
  {
   "cell_type": "markdown",
   "metadata": {},
   "source": [
    "#### 实例"
   ]
  },
  {
   "cell_type": "code",
   "execution_count": 6,
   "metadata": {},
   "outputs": [],
   "source": [
    "import requests\n",
    "import re\n",
    "\n",
    "response = requests.get('https://book.douban.com/')"
   ]
  },
  {
   "cell_type": "code",
   "execution_count": 7,
   "metadata": {},
   "outputs": [
    {
     "data": {
      "text/plain": [
       "(<bound method Response.raise_for_status of <Response [200]>>, 'utf-8')"
      ]
     },
     "execution_count": 7,
     "metadata": {},
     "output_type": "execute_result"
    }
   ],
   "source": [
    "response.raise_for_status,response.encoding"
   ]
  },
  {
   "cell_type": "code",
   "execution_count": 8,
   "metadata": {},
   "outputs": [],
   "source": [
    "html = response.text"
   ]
  },
  {
   "cell_type": "code",
   "execution_count": 10,
   "metadata": {
    "scrolled": false
   },
   "outputs": [
    {
     "data": {
      "text/plain": [
       "[('https://book.douban.com/subject/33400116/?icn=index-latestbook-subject',\n",
       "  '悬崖上的谋杀',\n",
       "  '\\n                [英] 阿加莎·克里斯蒂\\n              '),\n",
       " ('https://book.douban.com/subject/30420870/?icn=index-latestbook-subject',\n",
       "  '王权派的革命',\n",
       "  '\\n                埃里克·纳尔逊\\n              '),\n",
       " ('https://book.douban.com/subject/30419379/?icn=index-latestbook-subject',\n",
       "  '佩恩先生',\n",
       "  '\\n                [智利] 罗贝托·波拉尼奥\\n              '),\n",
       " ('https://book.douban.com/subject/33435992/?icn=index-latestbook-subject',\n",
       "  '思想史研究课堂讲录（增订版）',\n",
       "  '\\n                葛兆光\\n              '),\n",
       " ('https://book.douban.com/subject/30466204/?icn=index-latestbook-subject',\n",
       "  '赖床的男人',\n",
       "  '\\n                [英]戴维·洛奇\\n              '),\n",
       " ('https://book.douban.com/subject/33387440/?icn=index-latestbook-subject',\n",
       "  '我在挪威做木匠',\n",
       "  '\\n                [挪] 奥勒·托斯滕森\\n              '),\n",
       " ('https://book.douban.com/subject/33430542/?icn=index-latestbook-subject',\n",
       "  '沙漏做招牌的疗养院',\n",
       "  '\\n                [波兰] 布鲁诺·舒尔茨\\n              '),\n",
       " ('https://book.douban.com/subject/33412681/?icn=index-latestbook-subject',\n",
       "  '欢迎来到你的世界',\n",
       "  '\\n                [美]莎拉·威廉姆斯·戈德哈根\\n              '),\n",
       " ('https://book.douban.com/subject/33426127/?icn=index-latestbook-subject',\n",
       "  '渺小一生',\n",
       "  '\\n                [美]柳原汉雅\\n              '),\n",
       " ('https://book.douban.com/subject/30362709/?icn=index-latestbook-subject',\n",
       "  '重返查令十字街84号',\n",
       "  '\\n                [美]海莲·汉芙\\n              '),\n",
       " ('https://book.douban.com/subject/30475773/?icn=index-latestbook-subject',\n",
       "  '那时上帝是只兔子',\n",
       "  '\\n                [英] 莎拉·韦曼\\n              '),\n",
       " ('https://book.douban.com/subject/30481930/?icn=index-latestbook-subject',\n",
       "  '写给所有人的编程思维',\n",
       "  '\\n                (英) 吉姆·克里斯蒂安&nbsp;/&nbsp;于应机&nbsp;/&nbsp;李阳欢\\n              '),\n",
       " ('https://book.douban.com/subject/30391624/?icn=index-latestbook-subject',\n",
       "  '三折画',\n",
       "  '\\n                [法] 克洛德·西蒙\\n              '),\n",
       " ('https://book.douban.com/subject/33408138/?icn=index-latestbook-subject',\n",
       "  '言利',\n",
       "  '\\n                [美]罗威廉（William T. Rowe）\\n              '),\n",
       " ('https://book.douban.com/subject/33408001/?icn=index-latestbook-subject',\n",
       "  '少年赫比',\n",
       "  '\\n                [美] 赫尔曼·沃克\\n              '),\n",
       " ('https://book.douban.com/subject/33411972/?icn=index-latestbook-subject',\n",
       "  '故事写作大师班',\n",
       "  '\\n                [美]约翰•特鲁比&nbsp;/&nbsp;John Truby\\n              '),\n",
       " ('https://book.douban.com/subject/33428941/?icn=index-latestbook-subject',\n",
       "  '泽诺的意识',\n",
       "  '\\n                [意]伊塔洛·斯韦沃\\n              '),\n",
       " ('https://book.douban.com/subject/27114628/?icn=index-latestbook-subject',\n",
       "  '巴黎评论·短篇小说课堂',\n",
       "  '\\n                洛林·斯坦恩/塞迪·斯坦恩 主编\\n              '),\n",
       " ('https://book.douban.com/subject/30421975/?icn=index-latestbook-subject',\n",
       "  '罪与罚',\n",
       "  '\\n                （俄）费奥多尔·陀思妥耶夫斯基\\n              '),\n",
       " ('https://book.douban.com/subject/27110806/?icn=index-latestbook-subject',\n",
       "  '巴黎评论 · 作家访谈4',\n",
       "  '\\n                《巴黎评论》编辑部 编\\n              '),\n",
       " ('https://book.douban.com/subject/30172071/?icn=index-latestbook-subject',\n",
       "  '失去名字的女孩',\n",
       "  '\\n                [美]玛莎·霍尔·凯莉\\n              '),\n",
       " ('https://book.douban.com/subject/30471283/?icn=index-latestbook-subject',\n",
       "  '吹云记',\n",
       "  '\\n                高军\\n              '),\n",
       " ('https://book.douban.com/subject/33445034/?icn=index-latestbook-subject',\n",
       "  '喜鹊谋杀案',\n",
       "  '\\n                [英] 安东尼·霍洛维茨&nbsp;/&nbsp;Anthony Horowitz\\n              '),\n",
       " ('https://book.douban.com/subject/33454024/?icn=index-latestbook-subject',\n",
       "  '电影导演的电影理论',\n",
       "  '\\n                [法]雅克·奥蒙\\n              '),\n",
       " ('https://book.douban.com/subject/30441553/?icn=index-latestbook-subject',\n",
       "  '书店',\n",
       "  '\\n                [英]佩内洛普·菲茨杰拉德\\n              '),\n",
       " ('https://book.douban.com/subject/27141016/?icn=index-latestbook-subject',\n",
       "  '黑羊与灰鹰',\n",
       "  '\\n                [英] 丽贝卡·韦斯特\\n              '),\n",
       " ('https://book.douban.com/subject/33400559/?icn=index-latestbook-subject',\n",
       "  '睡莲花下的奇书',\n",
       "  '\\n                [以]斯维特拉娜·多洛舍娃\\n              '),\n",
       " ('https://book.douban.com/subject/33111439/?icn=index-latestbook-subject',\n",
       "  '有所不为的反叛者',\n",
       "  '\\n                罗新\\n              '),\n",
       " ('https://book.douban.com/subject/30425286/?icn=index-latestbook-subject',\n",
       "  '杀人游戏',\n",
       "  '\\n                雷钧\\n              '),\n",
       " ('https://book.douban.com/subject/30284742/?icn=index-latestbook-subject',\n",
       "  '冲击与回应',\n",
       "  '\\n                费正清&nbsp;/&nbsp;邓嗣禹 编著\\n              '),\n",
       " ('https://book.douban.com/subject/30434081/?icn=index-latestbook-subject',\n",
       "  '帝国轶闻',\n",
       "  '\\n                [墨西哥]费尔南多·德尔帕索(Fernado del Paso)\\n              '),\n",
       " ('https://book.douban.com/subject/33454375/?icn=index-latestbook-subject',\n",
       "  '中国食辣史',\n",
       "  '\\n                曹雨\\n              '),\n",
       " ('https://book.douban.com/subject/30353889/?icn=index-latestbook-subject',\n",
       "  '两姐妹',\n",
       "  '\\n                (挪) 奥斯娜·塞厄斯塔\\n              '),\n",
       " ('https://book.douban.com/subject/33435429/?icn=index-latestbook-subject',\n",
       "  '游戏图鉴',\n",
       "  '\\n                [日] 奥成达 著&nbsp;/&nbsp;[日] 永田晴美 绘\\n              '),\n",
       " ('https://book.douban.com/subject/33372274/?icn=index-latestbook-subject',\n",
       "  '三体艺术插画集',\n",
       "  '\\n                三体宇宙&nbsp;/&nbsp;未来事务管理局&nbsp;/&nbsp;森雨文化\\n              '),\n",
       " ('https://book.douban.com/subject/30354270/?icn=index-latestbook-subject',\n",
       "  '地狱书单',\n",
       "  '\\n                (美) 格雷迪·亨德里克斯\\n              '),\n",
       " ('https://book.douban.com/subject/30321026/?icn=index-latestbook-subject',\n",
       "  '修道院纪事',\n",
       "  '\\n                [葡]若泽·萨拉马戈\\n              '),\n",
       " ('https://book.douban.com/subject/33396395/?icn=index-latestbook-subject',\n",
       "  '幕后产品',\n",
       "  '\\n                王诗沐\\n              '),\n",
       " ('https://book.douban.com/subject/30487144/?icn=index-latestbook-subject',\n",
       "  '炎昼',\n",
       "  '\\n                [日] 京极夏彦\\n              '),\n",
       " ('https://book.douban.com/subject/33424246/?icn=index-latestbook-subject',\n",
       "  '完整的天下经验',\n",
       "  '\\n                韦兵\\n              ')]"
      ]
     },
     "execution_count": 10,
     "metadata": {},
     "output_type": "execute_result"
    }
   ],
   "source": [
    "re.findall(r'<li.*?class=\"cover\".*?<a href=\"(.*?)\" title=\"(.*?)\">.*?<div class=\"author\">(.*?)</div>'\n",
    "           ,html,re.S)"
   ]
  },
  {
   "cell_type": "code",
   "execution_count": 31,
   "metadata": {},
   "outputs": [
    {
     "data": {
      "text/plain": [
       "'\\n\\n<!DOCTYPE html>\\n<html lang=\"zh-CN\" class=\" book-new-nav\">\\n  <head>\\n    <meta charset=\"utf-8\">\\n    <meta name=\"google-site-verification\" content=\"ok0wCgT20tBBgo9_zat2iAcimtN4Ftf5ccsh092Xeyw\" />\\n    <meta http-equiv=\"Pragma\" content=\"no-cache\">\\n    <meta http-equiv=\"X-UA-Compatible\" content=\"IE=edge,chrome=1\">\\n    <meta http-equiv=\"Expires\" content=\"Sun, 6 Mar 2005 01:00:00 GMT\">\\n    \\n  <meta http-equiv=\"mobile-agent\" content=\"format=xhtml; url=http://m.douban.com/book/\">\\n  <meta name=\"keywords\" content=\"豆瓣读书,新书速递,畅销书,书评,书单\"/>\\n  <meta name=\"description\" content=\"记录你读过的、想读和正在读的书，顺便打分，添加标签及个人附注，写评论。根据你的口味，推荐适合的书给你。\" />\\n  <meta name=\"verify-v1\" content=\"EYARGSAVd5U+06FeTmxO8Mj28Fc/hM/9PqMfrlMo8YA=\">\\n  <meta property=\"wb:webmaster\" content=\"7c86191e898cd20d\">\\n  <meta property=\"qc:admins\" content=\"1520412177364752166375\">\\n\\n    <title>\\n    豆瓣读书\\n</title>\\n    <link rel=\"shortcut icon\" href=\"https://img3.doubanio.com/favicon.ico\"\\n      type=\"image/x-icon\">\\n    <script src=\"https://img3.doubanio.com/f/book/0495cb173e298c28593766009c7b0a953246c5b5/js/book/lib/jquery/jquery.js\"></script>\\n    <script>\\n      var Douban = {}, Book = {}\\n      var Do=function(){Do.actions.push([].slice.call(arguments))};Do.ready=function(){Do.actions.push([].slice.call(arguments))},Do.add=Do.define=function(o,l){Do.mods[o]=l},Do.global=function(){Do.global.mods=Array.concat(Do.global.mods,[].slice.call(arguments))},Do.global.mods=[],Do.mods={},Do.actions=[];\\n    </script>\\n    \\n\\n<script src=\"https://img3.doubanio.com/f/book/6a411a14e088636db2bc428ec7125b476791e3fd/js/book/lib/define.js\"></script>\\n<script>\\n  define.ns(\\'Book\\')\\n  define.config({\\n    \\'jquery\\': \\'$\\'\\n  , \\'piwik\\': \\'Piwik\\'\\n  , \\'mod/ga\\': \\'Book.ga\\'\\n  , \\'mod/ajax\\': \\'Book.ajax\\'\\n  , \\'mod/cookie\\': \\'Book.cookie\\'\\n  })\\n\\n  Do.add(\\'mod/cookie\\', {\\n    path: \\'https://img3.doubanio.com/f/book/6542b92d560cd64f30c9248e6c35499cc11c0d29/js/book/mod/cookie.js\\'\\n  , type: \\'js\\'\\n  })\\n\\n  Do.add(\\'mod/ajax\\', {\\n    path: \\'https://img3.doubanio.com/f/book/b455e168dbfaa03597d2e336c3f56e32843361c9/js/book/mod/ajax.js\\'\\n  , requires: [\\'mod/cookie\\']\\n  , type: \\'js\\'\\n  })\\n\\n  Do.add(\\'mod/ga\\', {\\n    path: \\'https://img3.doubanio.com/f/book/42544a42ebd9be4aee64b3a8c6df1a15a8c8e020/js/book/mod/ga.js\\'\\n  , type: \\'js\\'\\n  })\\n</script>\\n\\n    \\n<script>!function(e){var o=function(o,n,t){var c,i,r=new Date;n=n||30,t=t||\"/\",r.setTime(r.getTime()+24*n*60*60*1e3),c=\"; expires=\"+r.toGMTString();for(i in o)e.cookie=i+\"=\"+o[i]+c+\"; path=\"+t},n=function(o){var n,t,c,i=o+\"=\",r=e.cookie.split(\";\");for(t=0,c=r.length;t<c;t++)if(n=r[t].replace(/^\\\\s+|\\\\s+$/g,\"\"),0==n.indexOf(i))return n.substring(i.length,n.length).replace(/\\\\\"/g,\"\");return null},t=e.write,c={\"douban.com\":1,\"douban.fm\":1,\"google.com\":1,\"google.cn\":1,\"googleapis.com\":1,\"gmaptiles.co.kr\":1,\"gstatic.com\":1,\"gstatic.cn\":1,\"google-analytics.com\":1,\"googleadservices.com\":1},i=function(e,o){var n=new Image;n.onload=function(){},n.src=\"https://www.douban.com/j/except_report?kind=ra022&reason=\"+encodeURIComponent(e)+\"&environment=\"+encodeURIComponent(o)},r=function(o){try{t.call(e,o)}catch(e){t(o)}},a=/<script.*?src\\\\=[\"\\']?([^\"\\'\\\\s>]+)/gi,g=/http:\\\\/\\\\/(.+?)\\\\.([^\\\\/]+).+/i;e.writeln=e.write=function(e){var t,l=a.exec(e);return l&&(t=g.exec(l[1]))?c[t[2]]?void r(e):void(\"tqs\"!==n(\"hj\")&&(i(l[1],location.href),o({hj:\"tqs\"},1),setTimeout(function(){location.replace(location.href)},50))):void r(e)}}(document);\\n</script>\\n\\n    \\n  \\n  <link href=\"https://img3.doubanio.com/f/book/7447c6dfeef0a88e2baaea2e4776bce9fd4cfb8e/css/book/master.css\" rel=\"stylesheet\" type=\"text/css\">\\n\\n  <link href=\"https://img3.doubanio.com/f/book/222a5c61e041638af8defc87cf97f4a863a77922/css/book/base/init.css\" rel=\"stylesheet\">\\n  <style type=\"text/css\"></style>\\n  <script>var _head_start = new Date();</script>\\n  \\n\\n  \\n  <script type=\\'text/javascript\\'>\\n    var _vds = _vds || [];\\n    (function(){ _vds.push([\\'setAccountId\\', \\'22c937bbd8ebd703f2d8e9445f7dfd03\\']);\\n        _vds.push([\\'setCS1\\',\\'user_id\\',\\'0\\']);\\n            (function() {var vds = document.createElement(\\'script\\');\\n                vds.type=\\'text/javascript\\';\\n                vds.async = true;\\n                vds.src = (\\'https:\\' == document.location.protocol ? \\'https://\\' : \\'http://\\') + \\'dn-growing.qbox.me/vds.js\\';\\n                var s = document.getElementsByTagName(\\'script\\')[0];\\n                s.parentNode.insertBefore(vds, s);\\n            })();\\n    })();\\n</script>\\n\\n  \\n  <script type=\\'text/javascript\\'>\\n    var _vwo_code=(function(){\\n      var account_id=249272,\\n          settings_tolerance=2000,\\n          library_tolerance=2500,\\n          use_existing_jquery=false,\\n          // DO NOT EDIT BELOW THIS LINE\\n          f=false,d=document;return{use_existing_jquery:function(){return use_existing_jquery;},library_tolerance:function(){return library_tolerance;},finish:function(){if(!f){f=true;var a=d.getElementById(\\'_vis_opt_path_hides\\');if(a)a.parentNode.removeChild(a);}},finished:function(){return f;},load:function(a){var b=d.createElement(\\'script\\');b.src=a;b.type=\\'text/javascript\\';b.innerText;b.onerror=function(){_vwo_code.finish();};d.getElementsByTagName(\\'head\\')[0].appendChild(b);},init:function(){settings_timer=setTimeout(\\'_vwo_code.finish()\\',settings_tolerance);var a=d.createElement(\\'style\\'),b=\\'body{opacity:0 !important;filter:alpha(opacity=0) !important;background:none !important;}\\',h=d.getElementsByTagName(\\'head\\')[0];a.setAttribute(\\'id\\',\\'_vis_opt_path_hides\\');a.setAttribute(\\'type\\',\\'text/css\\');if(a.styleSheet)a.styleSheet.cssText=b;else a.appendChild(d.createTextNode(b));h.appendChild(a);this.load(\\'//dev.visualwebsiteoptimizer.com/j.php?a=\\'+account_id+\\'&u=\\'+encodeURIComponent(d.URL)+\\'&r=\\'+Math.random());return settings_timer;}};}());_vwo_settings_timer=_vwo_code.init();\\n  </script>\\n\\n\\n  <script></script>\\n  <link rel=\"stylesheet\" href=\"https://img3.doubanio.com/misc/mixed_static/13419eb47c7c7dd7.css\">\\n\\n  </head>\\n  <body>\\n    \\n  <script>var _body_start = new Date();</script>\\n  \\n  \\n\\n\\n\\n    <link href=\"//img3.doubanio.com/dae/accounts/resources/4bf727f/shire/bundle.css\" rel=\"stylesheet\" type=\"text/css\">\\n\\n\\n\\n<div id=\"db-global-nav\" class=\"global-nav\">\\n  <div class=\"bd\">\\n    \\n<div class=\"top-nav-info\">\\n  <a href=\"https://accounts.douban.com/passport/login?source=book\" class=\"nav-login\" rel=\"nofollow\">登录/注册</a>\\n</div>\\n\\n\\n    <div class=\"top-nav-doubanapp\">\\n  <a href=\"https://www.douban.com/doubanapp/app?channel=top-nav\" class=\"lnk-doubanapp\">下载豆瓣客户端</a>\\n  <div id=\"doubanapp-tip\">\\n    <a href=\"https://www.douban.com/doubanapp/app?channel=qipao\" class=\"tip-link\">豆瓣 <span class=\"version\">6.0</span> 全新发布</a>\\n    <a href=\"javascript: void 0;\" class=\"tip-close\">×</a>\\n  </div>\\n  <div id=\"top-nav-appintro\" class=\"more-items\">\\n    <p class=\"appintro-title\">豆瓣</p>\\n    <p class=\"qrcode\">扫码直接下载</p>\\n    <div class=\"download\">\\n      <a href=\"https://www.douban.com/doubanapp/redirect?channel=top-nav&direct_dl=1&download=iOS\">iPhone</a>\\n      <span>·</span>\\n      <a href=\"https://www.douban.com/doubanapp/redirect?channel=top-nav&direct_dl=1&download=Android\" class=\"download-android\">Android</a>\\n    </div>\\n  </div>\\n</div>\\n\\n    \\n\\n\\n<div class=\"global-nav-items\">\\n  <ul>\\n    <li class=\"\">\\n      <a href=\"https://www.douban.com\" target=\"_blank\" data-moreurl-dict=\"{&quot;from&quot;:&quot;top-nav-click-main&quot;,&quot;uid&quot;:&quot;0&quot;}\">豆瓣</a>\\n    </li>\\n    <li class=\"on\">\\n      <a href=\"https://book.douban.com\"  data-moreurl-dict=\"{&quot;from&quot;:&quot;top-nav-click-book&quot;,&quot;uid&quot;:&quot;0&quot;}\">读书</a>\\n    </li>\\n    <li class=\"\">\\n      <a href=\"https://movie.douban.com\" target=\"_blank\" data-moreurl-dict=\"{&quot;from&quot;:&quot;top-nav-click-movie&quot;,&quot;uid&quot;:&quot;0&quot;}\">电影</a>\\n    </li>\\n    <li class=\"\">\\n      <a href=\"https://music.douban.com\" target=\"_blank\" data-moreurl-dict=\"{&quot;from&quot;:&quot;top-nav-click-music&quot;,&quot;uid&quot;:&quot;0&quot;}\">音乐</a>\\n    </li>\\n    <li class=\"\">\\n      <a href=\"https://www.douban.com/location\" target=\"_blank\" data-moreurl-dict=\"{&quot;from&quot;:&quot;top-nav-click-location&quot;,&quot;uid&quot;:&quot;0&quot;}\">同城</a>\\n    </li>\\n    <li class=\"\">\\n      <a href=\"https://www.douban.com/group\" target=\"_blank\" data-moreurl-dict=\"{&quot;from&quot;:&quot;top-nav-click-group&quot;,&quot;uid&quot;:&quot;0&quot;}\">小组</a>\\n    </li>\\n    <li class=\"\">\\n      <a href=\"https://read.douban.com&#47;?dcs=top-nav&amp;dcm=douban\" target=\"_blank\" data-moreurl-dict=\"{&quot;from&quot;:&quot;top-nav-click-read&quot;,&quot;uid&quot;:&quot;0&quot;}\">阅读</a>\\n    </li>\\n    <li class=\"\">\\n      <a href=\"https://douban.fm&#47;?from_=shire_top_nav\" target=\"_blank\" data-moreurl-dict=\"{&quot;from&quot;:&quot;top-nav-click-fm&quot;,&quot;uid&quot;:&quot;0&quot;}\">FM</a>\\n    </li>\\n    <li class=\"\">\\n      <a href=\"https://time.douban.com&#47;?dt_time_source=douban-web_top_nav\" target=\"_blank\" data-moreurl-dict=\"{&quot;from&quot;:&quot;top-nav-click-time&quot;,&quot;uid&quot;:&quot;0&quot;}\">时间</a>\\n    </li>\\n    <li class=\"\">\\n      <a href=\"https://market.douban.com&#47;?utm_campaign=douban_top_nav&amp;utm_source=douban&amp;utm_medium=pc_web\" target=\"_blank\" data-moreurl-dict=\"{&quot;from&quot;:&quot;top-nav-click-market&quot;,&quot;uid&quot;:&quot;0&quot;}\">豆品</a>\\n    </li>\\n    <li>\\n      <a href=\"#more\" class=\"bn-more\"><span>更多</span></a>\\n      <div class=\"more-items\">\\n        <table cellpadding=\"0\" cellspacing=\"0\">\\n          <tbody>\\n            <tr>\\n              <td>\\n                <a href=\"https://ypy.douban.com\" target=\"_blank\" data-moreurl-dict=\"{&quot;from&quot;:&quot;top-nav-click-ypy&quot;,&quot;uid&quot;:&quot;0&quot;}\">豆瓣摄影</a>\\n              </td>\\n            </tr>\\n          </tbody>\\n        </table>\\n      </div>\\n    </li>\\n  </ul>\\n</div>\\n\\n  </div>\\n</div>\\n<script>\\n  ;window._GLOBAL_NAV = {\\n    DOUBAN_URL: \"https://www.douban.com\",\\n    N_NEW_NOTIS: 0,\\n    N_NEW_DOUMAIL: 0\\n  };\\n</script>\\n\\n\\n\\n    <script src=\"//img3.doubanio.com/dae/accounts/resources/4bf727f/shire/bundle.js\" defer=\"defer\"></script>\\n\\n\\n\\n\\n  \\n\\n\\n\\n    <link href=\"//img3.doubanio.com/dae/accounts/resources/4bf727f/book/bundle.css\" rel=\"stylesheet\" type=\"text/css\">\\n\\n\\n\\n\\n<div id=\"db-nav-book\" class=\"nav\">\\n  <div class=\"nav-wrap\">\\n  <div class=\"nav-primary\">\\n    <div class=\"nav-logo\">\\n      <a href=\"https:&#47;&#47;book.douban.com\">豆瓣读书</a>\\n    </div>\\n    <div class=\"nav-search\">\\n      <form action=\"https:&#47;&#47;book.douban.com/subject_search\" method=\"get\">\\n        <fieldset>\\n          <legend>搜索：</legend>\\n          <label for=\"inp-query\">\\n          </label>\\n          <div class=\"inp\"><input id=\"inp-query\" name=\"search_text\" size=\"22\" maxlength=\"60\" placeholder=\"书名、作者、ISBN\" value=\"\"></div>\\n          <div class=\"inp-btn\"><input type=\"submit\" value=\"搜索\"></div>\\n          <input type=\"hidden\" name=\"cat\" value=\"1001\" />\\n        </fieldset>\\n      </form>\\n    </div>\\n  </div>\\n  </div>\\n  <div class=\"nav-secondary\">\\n    \\n\\n<div class=\"nav-items\">\\n  <ul>\\n    <li    ><a href=\"https://book.douban.com/cart/\"\\n     >购书单</a>\\n    </li>\\n    <li    ><a href=\"https://read.douban.com/ebooks/?dcs=book-nav&dcm=douban\"\\n            target=\"_blank\"\\n     >电子图书</a>\\n    </li>\\n    <li    ><a href=\"https://market.douban.com/book?utm_campaign=book_nav_freyr&utm_source=douban&utm_medium=pc_web\"\\n     >豆瓣书店</a>\\n    </li>\\n    <li    ><a href=\"https://book.douban.com/annual/2018?source=navigation\"\\n            target=\"_blank\"\\n     >2018年度榜单</a>\\n    </li>\\n    <li    ><a href=\"https://www.douban.com/standbyme/2018?source=navigation\"\\n            target=\"_blank\"\\n     >2018书影音报告</a>\\n    </li>\\n    <li          class=\" book-cart\"\\n    ><a href=\"https://market.douban.com/cart/?biz_type=book&utm_campaign=book_nav_cart&utm_source=douban&utm_medium=pc_web\"\\n            target=\"_blank\"\\n     >购物车</a>\\n    </li>\\n  </ul>\\n</div>\\n\\n    <a href=\"https://book.douban.com/annual/2018?source=book_navigation\" class=\"bookannual2018\"></a>\\n  </div>\\n</div>\\n\\n<script id=\"suggResult\" type=\"text/x-jquery-tmpl\">\\n  <li data-link=\"{{= url}}\">\\n            <a href=\"{{= url}}\" onclick=\"moreurl(this, {from:\\'book_search_sugg\\', query:\\'{{= keyword }}\\', subject_id:\\'{{= id}}\\', i: \\'{{= index}}\\', type: \\'{{= type}}\\'})\">\\n            <img src=\"{{= pic}}\" width=\"40\" />\\n            <div>\\n                <em>{{= title}}</em>\\n                {{if year}}\\n                    <span>{{= year}}</span>\\n                {{/if}}\\n                <p>\\n                {{if type == \"b\"}}\\n                    {{= author_name}}\\n                {{else type == \"a\" }}\\n                    {{if en_name}}\\n                        {{= en_name}}\\n                    {{/if}}\\n                {{/if}}\\n                 </p>\\n            </div>\\n        </a>\\n        </li>\\n  </script>\\n\\n\\n\\n\\n    <script src=\"//img3.doubanio.com/dae/accounts/resources/4bf727f/book/bundle.js\" defer=\"defer\"></script>\\n\\n\\n\\n\\n\\n  <div id=\"wrapper\">\\n    \\n  <!-- douban ad begin -->\\n  <div id=\"dale_book_home_top_super_banner\" class=\"ad-placeholder\" style=\"margin: -18px 0 0;\">\\n  </div>\\n  <!-- douban ad end -->\\n\\n    \\n  <div id=\"content\">\\n    \\n\\n    <div class=\"grid-16-8 clearfix\">\\n      \\n      <div class=\"article\">\\n  \\n  \\n\\n  \\n  \\n  <div class=\"section books-express \">\\n    <div class=\"hd\">\\n      \\n  <h2 class=\\'\\'>\\n    <span class=\"\">新书速递</span>\\n      <span class=\"link-more\">\\n        <a class=\"\" href=\"/latest?icn=index-latestbook-all\"\\n          >更多»</a>\\n      </span>\\n  </h2>\\n\\n      <div class=\"slide-controls\">\\n        <ol class=\"slide-dots\">\\n          <li><a data-index=\"1\" href=\"#\" class=\"\"></a></li>\\n          <li><a data-index=\"2\" href=\"#\" class=\"\"></a></li>\\n          <li><a data-index=\"3\" href=\"#\" class=\"\"></a></li>\\n          <li><a data-index=\"4\" href=\"#\" class=\"\"></a></li>\\n        </ol>\\n        <div class=\"slide-btns\">\\n          <a href=\"#\" class=\"prev\">&#8249;</a>\\n          <a href=\"#\" class=\"next\">&#8250;</a>\\n        </div>\\n      </div>\\n    </div>\\n    <div class=\"bd\">\\n      <div class=\"carousel\">\\n        <div class=\"slide-list\">\\n          \\n  \\n    <ul class=\"list-col list-col5 list-express slide-item\">\\n          \\n  \\n          <li class=\"\">\\n            <div class=\"cover\">\\n              <a href=\"https://book.douban.com/subject/30172071/?icn=index-latestbook-subject\" title=\"失去名字的女孩\">\\n                <img src=\"https://img3.doubanio.com/view/subject/m/public/s32279496.jpg\" class=\"\"\\n                  width=\"115px\" height=\"172px\" alt=\"失去名字的女孩\">\\n              </a>\\n            </div>\\n            <div class=\"info\">\\n              <div class=\"title\">\\n                <a class=\"\" href=\"https://book.douban.com/subject/30172071/?icn=index-latestbook-subject\"\\n                  title=\"失去名字的女孩\">失去名字的女孩</a>\\n              </div>\\n              <div class=\"author\">\\n                [美]玛莎·霍尔·凯莉\\n              </div>\\n              <div class=\"more-meta\">\\n                <h4 class=\"title\">\\n                  失去名字的女孩\\n                </h4>\\n                <p>\\n                  <span class=\"author\">\\n                    [美]玛莎·霍尔·凯莉\\n                  </span>\\n                  /\\n                  <span class=\"year\">\\n                    2019-5-1\\n                  </span>\\n                  /\\n                  <span class=\"publisher\">\\n                    四川文艺出版社\\n                  </span>\\n                </p>\\n                <p class=\"abstract\">\\n                  \\n                  守护好心中小小的火种，它将伴你度过艰难时刻\\n美国豆瓣13万读者评分4星半小说\\n那年夏天，波兰少女卡茜亚和伙伴们爬上山峰看日出，看到几千难民在山脚下黑暗的田野中沉睡。那一年，纳粹的军歌刺破华沙的夜空，所有的美梦在一夕之间彻底粉碎。家乡硝烟弥漫，家人流离失所，而卡茜亚拒绝屈 服，哪怕被送入可怕的地狱——拉文斯布吕克集中营。\\n一洋之隔，纽约社交圈歌舞升平...\\n                </p>\\n              </div>\\n            </div>\\n          </li>\\n          \\n  \\n          <li class=\"\">\\n            <div class=\"cover\">\\n              <a href=\"https://book.douban.com/subject/27110806/?icn=index-latestbook-subject\" title=\"巴黎评论 · 作家访谈4\">\\n                <img src=\"https://img1.doubanio.com/view/subject/m/public/s32259459.jpg\" class=\"\"\\n                  width=\"115px\" height=\"172px\" alt=\"巴黎评论 · 作家访谈4\">\\n              </a>\\n            </div>\\n            <div class=\"info\">\\n              <div class=\"title\">\\n                <a class=\"\" href=\"https://book.douban.com/subject/27110806/?icn=index-latestbook-subject\"\\n                  title=\"巴黎评论 · 作家访谈4\">巴黎评论 · 作家访谈4</a>\\n              </div>\\n              <div class=\"author\">\\n                《巴黎评论》编辑部 编\\n              </div>\\n              <div class=\"more-meta\">\\n                <h4 class=\"title\">\\n                  巴黎评论 · 作家访谈4\\n                </h4>\\n                <p>\\n                  <span class=\"author\">\\n                    《巴黎评论》编辑部 编\\n                  </span>\\n                  /\\n                  <span class=\"year\">\\n                    2019-5\\n                  </span>\\n                  /\\n                  <span class=\"publisher\">\\n                    人民文学出版社\\n                  </span>\\n                </p>\\n                <p class=\"abstract\">\\n                  \\n                  “作家访谈”是美国文学杂志《巴黎评论》（Paris Review）最持久、最著名的特色栏目。自一九五三年创刊号中的E.M.福斯特访谈至今，《巴黎评论》一期不落地刊登当代最伟大作家的长篇访谈，最初冠以“小说的艺术”之名，逐渐扩展到“诗歌的艺术”“批评的艺术”等，迄今已达三百篇以上，囊括了二十世纪下半叶至今世界文坛几乎所有的重要作家。作家访谈已然成为《巴黎评...\\n                </p>\\n              </div>\\n            </div>\\n          </li>\\n          \\n  \\n          <li class=\"\">\\n            <div class=\"cover\">\\n              <a href=\"https://book.douban.com/subject/33370472/?icn=index-latestbook-subject\" title=\"天根\">\\n                <img src=\"https://img1.doubanio.com/view/subject/m/public/s32326689.jpg\" class=\"\"\\n                  width=\"115px\" height=\"172px\" alt=\"天根\">\\n              </a>\\n            </div>\\n            <div class=\"info\">\\n              <div class=\"title\">\\n                <a class=\"\" href=\"https://book.douban.com/subject/33370472/?icn=index-latestbook-subject\"\\n                  title=\"天根\">天根</a>\\n              </div>\\n              <div class=\"author\">\\n                [法] 罗曼·加里\\n              </div>\\n              <div class=\"more-meta\">\\n                <h4 class=\"title\">\\n                  天根\\n                </h4>\\n                <p>\\n                  <span class=\"author\">\\n                    [法] 罗曼·加里\\n                  </span>\\n                  /\\n                  <span class=\"year\">\\n                    2019-4\\n                  </span>\\n                  /\\n                  <span class=\"publisher\">\\n                    人民文学出版社\\n                  </span>\\n                </p>\\n                <p class=\"abstract\">\\n                  \\n                  ★ 作家、飞行员、外交官、导演、编剧……\\n★ 唯一一位两次获得龚古尔文学奖的法国作家\\n★ 二十世纪法国传奇作家罗曼·加里代表作\\n★ 二十世纪法国第一部生态小说\\n★ 1956年龚古尔文学奖获奖作品\\n“根多得数不清，无比地多种多样和无比地美丽，其中一些深深扎在人的心灵中——一种向上向前、无休止且备受折磨的渴望——对无限的需要，渴求，预感，无限的期待——这一切缩小...\\n                </p>\\n              </div>\\n            </div>\\n          </li>\\n          \\n  \\n          <li class=\"\">\\n            <div class=\"cover\">\\n              <a href=\"https://book.douban.com/subject/30432494/?icn=index-latestbook-subject\" title=\"蓝夜\">\\n                <img src=\"https://img3.doubanio.com/view/subject/m/public/s32296675.jpg\" class=\"\"\\n                  width=\"115px\" height=\"172px\" alt=\"蓝夜\">\\n              </a>\\n            </div>\\n            <div class=\"info\">\\n              <div class=\"title\">\\n                <a class=\"\" href=\"https://book.douban.com/subject/30432494/?icn=index-latestbook-subject\"\\n                  title=\"蓝夜\">蓝夜</a>\\n              </div>\\n              <div class=\"author\">\\n                [美]琼·狄迪恩\\n              </div>\\n              <div class=\"more-meta\">\\n                <h4 class=\"title\">\\n                  蓝夜\\n                </h4>\\n                <p>\\n                  <span class=\"author\">\\n                    [美]琼·狄迪恩\\n                  </span>\\n                  /\\n                  <span class=\"year\">\\n                    2019-5\\n                  </span>\\n                  /\\n                  <span class=\"publisher\">\\n                    江苏凤凰文艺出版社\\n                  </span>\\n                </p>\\n                <p class=\"abstract\">\\n                  \\n                  We tell ourselves stories in order to live.\\n为了生存，我们讲述。——琼•狄迪恩\\n————————————\\n★美国国家图书奖、美国国家人文奖章得主，当代现象级女作家琼•狄迪恩——她在精神上塑造了当代的美国女性！\\n奥巴马总统亲自为她颁发“国家人文奖章”，称她是“美国政治和文化至为尖锐和值得尊敬的观察家”。她的文字鼓 舞了几代美国女性的思想与精神。\\n★蒋方舟微...\\n                </p>\\n              </div>\\n            </div>\\n          </li>\\n          \\n  \\n          <li class=\"\">\\n            <div class=\"cover\">\\n              <a href=\"https://book.douban.com/subject/30466204/?icn=index-latestbook-subject\" title=\"赖床的男人\">\\n                <img src=\"https://img1.doubanio.com/view/subject/m/public/s32318137.jpg\" class=\"\"\\n                  width=\"115px\" height=\"172px\" alt=\"赖床的男人\">\\n              </a>\\n            </div>\\n            <div class=\"info\">\\n              <div class=\"title\">\\n                <a class=\"\" href=\"https://book.douban.com/subject/30466204/?icn=index-latestbook-subject\"\\n                  title=\"赖床的男人\">赖床的男人</a>\\n              </div>\\n              <div class=\"author\">\\n                [英]戴维·洛奇\\n              </div>\\n              <div class=\"more-meta\">\\n                <h4 class=\"title\">\\n                  赖床的男人\\n                </h4>\\n                <p>\\n                  <span class=\"author\">\\n                    [英]戴维·洛奇\\n                  </span>\\n                  /\\n                  <span class=\"year\">\\n                    2019-5\\n                  </span>\\n                  /\\n                  <span class=\"publisher\">\\n                    新星出版社\\n                  </span>\\n                </p>\\n                <p class=\"abstract\">\\n                  \\n                  《赖床的男人》是学院派小说代表、布克奖提名作家戴维•洛奇的短篇小说集，由《赖床的男人》《小气鬼》《我的第一份工作》《在气候淫热的地方》《酥胸酒店》《田园交响曲》《一场刻骨铭心的婚礼》《我的前一个老婆》等八个短篇小说构成，延续了。与其长篇小说相比，更轻松活泼，同时兼具戴维•洛奇一贯的辛辣讽刺风格。戴维•洛奇认为，“这八个故事几乎包含了我作为...\\n                </p>\\n              </div>\\n            </div>\\n          </li>\\n          \\n  \\n          <li class=\"\">\\n            <div class=\"cover\">\\n              <a href=\"https://book.douban.com/subject/30436197/?icn=index-latestbook-subject\" title=\"丹麦一年\">\\n                <img src=\"https://img3.doubanio.com/view/subject/m/public/s32278312.jpg\" class=\"\"\\n                  width=\"115px\" height=\"172px\" alt=\"丹麦一年\">\\n              </a>\\n            </div>\\n            <div class=\"info\">\\n              <div class=\"title\">\\n                <a class=\"\" href=\"https://book.douban.com/subject/30436197/?icn=index-latestbook-subject\"\\n                  title=\"丹麦一年\">丹麦一年</a>\\n              </div>\\n              <div class=\"author\">\\n                [英] 海伦•拉塞尔\\n              </div>\\n              <div class=\"more-meta\">\\n                <h4 class=\"title\">\\n                  丹麦一年\\n                </h4>\\n                <p>\\n                  <span class=\"author\">\\n                    [英] 海伦•拉塞尔\\n                  </span>\\n                  /\\n                  <span class=\"year\">\\n                    2019-5\\n                  </span>\\n                  /\\n                  <span class=\"publisher\">\\n                    浦睿文化·湖南文艺出版社\\n                  </span>\\n                </p>\\n                <p class=\"abstract\">\\n                  \\n                  世界上最幸福的地方，\\n不是迪士尼乐园，而是丹麦，\\n这个缺少光照、连狗都可能抑郁的国度。\\n----------\\n丹麦人幸福生活的秘诀是什么？\\n他们天生就快乐吗？\\n有什么是他们知道而我们不知道的呢？\\n作家海伦•拉塞尔认为寻找答案的方法只有一个：在丹麦生活一年。\\n----------\\n从家庭到职场，从婴儿到小狗、奶牛，从毒品到酗酒、性病，从美食到室内设计，随着海伦•拉塞尔一年十二个月的观...\\n                </p>\\n              </div>\\n            </div>\\n          </li>\\n          \\n  \\n          <li class=\"\">\\n            <div class=\"cover\">\\n              <a href=\"https://book.douban.com/subject/33428941/?icn=index-latestbook-subject\" title=\"泽诺的意识\">\\n                <img src=\"https://img1.doubanio.com/view/subject/m/public/s32311017.jpg\" class=\"\"\\n                  width=\"115px\" height=\"172px\" alt=\"泽诺的意识\">\\n              </a>\\n            </div>\\n            <div class=\"info\">\\n              <div class=\"title\">\\n                <a class=\"\" href=\"https://book.douban.com/subject/33428941/?icn=index-latestbook-subject\"\\n                  title=\"泽诺的意识\">泽诺的意识</a>\\n              </div>\\n              <div class=\"author\">\\n                [意]伊塔洛·斯韦沃\\n              </div>\\n              <div class=\"more-meta\">\\n                <h4 class=\"title\">\\n                  泽诺的意识\\n                </h4>\\n                <p>\\n                  <span class=\"author\">\\n                    [意]伊塔洛·斯韦沃\\n                  </span>\\n                  /\\n                  <span class=\"year\">\\n                    2019-5\\n                  </span>\\n                  /\\n                  <span class=\"publisher\">\\n                    后浪丨四川人民出版社\\n                  </span>\\n                </p>\\n                <p class=\"abstract\">\\n                  \\n                  “意大利普鲁斯特”斯韦沃成名作；\\n库切、乔伊斯、蒙塔莱力荐；\\n遗落的意识流经典。\\n◎ 编辑推荐\\n☆ 首次将精神分析运用到文学作品里的意大利心理小说，深刻影响乔伊斯《尤利西斯》的创作，库切、蒙塔莱等诺奖得主极力称赞，受到蒂姆•帕克斯、詹姆斯•伍德、格雷米约和拉尔博等欧美著名作家及评论家的广泛好评。\\n☆《泽诺的意识》是一部未老先衰但欲望不减的人的独白书，...\\n                </p>\\n              </div>\\n            </div>\\n          </li>\\n          \\n  \\n          <li class=\"\">\\n            <div class=\"cover\">\\n              <a href=\"https://book.douban.com/subject/33435992/?icn=index-latestbook-subject\" title=\"思想史研究课堂讲录（增订版）\">\\n                <img src=\"https://img1.doubanio.com/view/subject/m/public/s32328468.jpg\" class=\"\"\\n                  width=\"115px\" height=\"172px\" alt=\"思想史研究课堂讲录（增订版）\">\\n              </a>\\n            </div>\\n            <div class=\"info\">\\n              <div class=\"title\">\\n                <a class=\"\" href=\"https://book.douban.com/subject/33435992/?icn=index-latestbook-subject\"\\n                  title=\"思想史研究课堂讲录（增订版）\">思想史研究课堂讲录（增订版）</a>\\n              </div>\\n              <div class=\"author\">\\n                葛兆光\\n              </div>\\n              <div class=\"more-meta\">\\n                <h4 class=\"title\">\\n                  思想史研究课堂讲录（增订版）\\n                </h4>\\n                <p>\\n                  <span class=\"author\">\\n                    葛兆光\\n                  </span>\\n                  /\\n                  <span class=\"year\">\\n                    2019-5\\n                  </span>\\n                  /\\n                  <span class=\"publisher\">\\n                    生活·读书·新知三联书店\\n                  </span>\\n                </p>\\n                <p class=\"abstract\">\\n                  \\n                  最好的老师，讲最著名的课程，跟随葛兆光的目光，领略人类思想史的灿烂版图；\\n从政令文书到天文历法，沉入一手材料底层，重返“思想”发生的现场，用全球视野做中国学问，作者学贯中西的知识结构使该作品成为一部世界思想史的百科全书。\\n初编：视野·角度与方法\\n本书的主题是中国思想史研究方法。本卷的几讲主要讨论现代西方新理论和新方法如何运用到中国思想史的研究中...\\n                </p>\\n              </div>\\n            </div>\\n          </li>\\n          \\n  \\n          <li class=\"\">\\n            <div class=\"cover\">\\n              <a href=\"https://book.douban.com/subject/30396696/?icn=index-latestbook-subject\" title=\"地球的回忆\">\\n                <img src=\"https://img3.doubanio.com/view/subject/m/public/s32301364.jpg\" class=\"\"\\n                  width=\"115px\" height=\"172px\" alt=\"地球的回忆\">\\n              </a>\\n            </div>\\n            <div class=\"info\">\\n              <div class=\"title\">\\n                <a class=\"\" href=\"https://book.douban.com/subject/30396696/?icn=index-latestbook-subject\"\\n                  title=\"地球的回忆\">地球的回忆</a>\\n              </div>\\n              <div class=\"author\">\\n                [美] 奥森·斯科特·卡德\\n              </div>\\n              <div class=\"more-meta\">\\n                <h4 class=\"title\">\\n                  地球的回忆\\n                </h4>\\n                <p>\\n                  <span class=\"author\">\\n                    [美] 奥森·斯科特·卡德\\n                  </span>\\n                  /\\n                  <span class=\"year\">\\n                    2019-4\\n                  </span>\\n                  /\\n                  <span class=\"publisher\">\\n                    新星出版社\\n                  </span>\\n                </p>\\n                <p class=\"abstract\">\\n                  \\n                  《地球的回忆》开始于人类逃离地球之后，在和谐星球生活了4000万年，此时却再次面临危机——和谐星球的主机日渐虚弱，无力守护这个星球上的人类。为了不重蹈星球毁灭的覆辙，一台被称为上灵的计算机重新成为星球的守护者。但是，上灵不可能独立完成远征，整个计划需要人类的协助，佛意漫一家由此开始惊心动魄的故事。\\n                </p>\\n              </div>\\n            </div>\\n          </li>\\n          \\n  \\n          <li class=\"\">\\n            <div class=\"cover\">\\n              <a href=\"https://book.douban.com/subject/33393524/?icn=index-latestbook-subject\" title=\"青年变革者\">\\n                <img src=\"https://img1.doubanio.com/view/subject/m/public/s32302539.jpg\" class=\"\"\\n                  width=\"115px\" height=\"172px\" alt=\"青年变革者\">\\n              </a>\\n            </div>\\n            <div class=\"info\">\\n              <div class=\"title\">\\n                <a class=\"\" href=\"https://book.douban.com/subject/33393524/?icn=index-latestbook-subject\"\\n                  title=\"青年变革者\">青年变革者</a>\\n              </div>\\n              <div class=\"author\">\\n                许知远\\n              </div>\\n              <div class=\"more-meta\">\\n                <h4 class=\"title\">\\n                  青年变革者\\n                </h4>\\n                <p>\\n                  <span class=\"author\">\\n                    许知远\\n                  </span>\\n                  /\\n                  <span class=\"year\">\\n                    2019-5\\n                  </span>\\n                  /\\n                  <span class=\"publisher\">\\n                    上海人民出版社\\n                  </span>\\n                </p>\\n                <p class=\"abstract\">\\n                  \\n                  许知远积淀五年的转型力作\\n“做视频节目，我只花了30％的精力，剩下70％的精神在写一本新书，关于梁启超。”\\n· 许知远回访历史现场，探寻先哲足迹，纵览相关文献及研究，以了解之同情，状摹有血有肉的青年梁启超，让人既觉熟悉又感陌生，并以想象激活史料，复活时代的细节与情绪。\\n· 梁启超逝世九十周年倾心敬献，承接梁氏“笔端常带感情”的写法，以青年梁启超个人成...\\n                </p>\\n              </div>\\n            </div>\\n          </li>\\n    </ul>\\n    <ul class=\"list-col list-col5 list-express slide-item\">\\n          \\n  \\n          <li class=\"\">\\n            <div class=\"cover\">\\n              <a href=\"https://book.douban.com/subject/33408001/?icn=index-latestbook-subject\" title=\"少年赫比\">\\n                <img src=\"https://img3.doubanio.com/view/subject/m/public/s32331176.jpg\" class=\"\"\\n                  width=\"115px\" height=\"172px\" alt=\"少年赫比\">\\n              </a>\\n            </div>\\n            <div class=\"info\">\\n              <div class=\"title\">\\n                <a class=\"\" href=\"https://book.douban.com/subject/33408001/?icn=index-latestbook-subject\"\\n                  title=\"少年赫比\">少年赫比</a>\\n              </div>\\n              <div class=\"author\">\\n                [美] 赫尔曼·沃克\\n              </div>\\n              <div class=\"more-meta\">\\n                <h4 class=\"title\">\\n                  少年赫比\\n                </h4>\\n                <p>\\n                  <span class=\"author\">\\n                    [美] 赫尔曼·沃克\\n                  </span>\\n                  /\\n                  <span class=\"year\">\\n                    2019-5\\n                  </span>\\n                  /\\n                  <span class=\"publisher\">\\n                    北京联合出版公司\\n                  </span>\\n                </p>\\n                <p class=\"abstract\">\\n                  \\n                  一个男孩的成长，源自与全世界的较量\\n笨拙，但不惧冒险；失败，却总有奇迹\\n这是男孩的成长史，更是每个人长大的必经时光\\n普利策文学奖得主、《凯恩舰哗变》作者赫尔曼·沃克 唯一一部儿童文学作品\\n105岁文坛巨匠的另一座文学高峰\\n\\n书写永恒的少年与成长\\n多次入选美国课本\\n住在纽 约布朗克斯区的十一岁胖小子赫比，在学校、街头和乡村夏令营经历了种种冒险和遭遇。\\n他聪明但不...\\n                </p>\\n              </div>\\n            </div>\\n          </li>\\n          \\n  \\n          <li class=\"\">\\n            <div class=\"cover\">\\n              <a href=\"https://book.douban.com/subject/33408138/?icn=index-latestbook-subject\" title=\"言利\">\\n                <img src=\"https://img3.doubanio.com/view/subject/m/public/s32302726.jpg\" class=\"\"\\n                  width=\"115px\" height=\"172px\" alt=\"言利\">\\n              </a>\\n            </div>\\n            <div class=\"info\">\\n              <div class=\"title\">\\n                <a class=\"\" href=\"https://book.douban.com/subject/33408138/?icn=index-latestbook-subject\"\\n                  title=\"言利\">言利</a>\\n              </div>\\n              <div class=\"author\">\\n                [美]罗威廉（William T. Rowe）\\n              </div>\\n              <div class=\"more-meta\">\\n                <h4 class=\"title\">\\n                  言利\\n                </h4>\\n                <p>\\n                  <span class=\"author\">\\n                    [美]罗威廉（William T. Rowe）\\n                  </span>\\n                  /\\n                  <span class=\"year\">\\n                    2019-5\\n                  </span>\\n                  /\\n                  <span class=\"publisher\">\\n                    社会科学文献出版社\\n                  </span>\\n                </p>\\n                <p class=\"abstract\">\\n                  \\n                  嘉道时期是清朝由盛转衰的时期。政府腐败、人口压力、内部和边疆动乱、来自西方的威胁，这些都是那个时代清朝面对的挑战。罗威廉（William T. Rowe）以包世臣为切入点，详尽分析了当时的改革精英如何面对这些挑战。罗威廉认为包世臣始终主张追求物质利益，对19世纪下半叶的洋务运动影响很大。\\n                </p>\\n              </div>\\n            </div>\\n          </li>\\n          \\n  \\n          <li class=\"\">\\n            <div class=\"cover\">\\n              <a href=\"https://book.douban.com/subject/33423702/?icn=index-latestbook-subject\" title=\"镀金时代\">\\n                <img src=\"https://img3.doubanio.com/view/subject/m/public/s32311913.jpg\" class=\"\"\\n                  width=\"115px\" height=\"172px\" alt=\"镀金时代\">\\n              </a>\\n            </div>\\n            <div class=\"info\">\\n              <div class=\"title\">\\n                <a class=\"\" href=\"https://book.douban.com/subject/33423702/?icn=index-latestbook-subject\"\\n                  title=\"镀金时代\">镀金时代</a>\\n              </div>\\n              <div class=\"author\">\\n                夏清影\\n              </div>\\n              <div class=\"more-meta\">\\n                <h4 class=\"title\">\\n                  镀金时代\\n                </h4>\\n                <p>\\n                  <span class=\"author\">\\n                    夏清影\\n                  </span>\\n                  /\\n                  <span class=\"year\">\\n                    2019-5-1\\n                  </span>\\n                  /\\n                  <span class=\"publisher\">\\n                    上海文化出版社\\n                  </span>\\n                </p>\\n                <p class=\"abstract\">\\n                  \\n                  弱肉强食的海洋世界，他们是上帝鱼缸里的金鱼。\\n◆沃顿商学院才女首部留学成长小说\\n◆精英云集的商学院，年少多金的留学生，幽默讽刺的金融圈\\n◆封面黑金搭配，自然光下呈现炫彩效果，一如流光溢彩的青春时光\\n《镀金时代》是一部16万字的留学成长小说，讲述了一群留学美国、在常青藤名校就读的年轻人的故事。女主角司马金17岁赴美留学，面对异国他乡的独立生活，一面是...\\n                </p>\\n              </div>\\n            </div>\\n          </li>\\n          \\n  \\n          <li class=\"\">\\n            <div class=\"cover\">\\n              <a href=\"https://book.douban.com/subject/30284742/?icn=index-latestbook-subject\" title=\"冲击与回应\">\\n                <img src=\"https://img3.doubanio.com/view/subject/m/public/s32314273.jpg\" class=\"\"\\n                  width=\"115px\" height=\"172px\" alt=\"冲击与回应\">\\n              </a>\\n            </div>\\n            <div class=\"info\">\\n              <div class=\"title\">\\n                <a class=\"\" href=\"https://book.douban.com/subject/30284742/?icn=index-latestbook-subject\"\\n                  title=\"冲击与回应\">冲击与回应</a>\\n              </div>\\n              <div class=\"author\">\\n                费正清&nbsp;/&nbsp;邓嗣禹 编著\\n              </div>\\n              <div class=\"more-meta\">\\n                <h4 class=\"title\">\\n                  冲击与回应\\n                </h4>\\n                <p>\\n                  <span class=\"author\">\\n                    费正清&nbsp;/&nbsp;邓嗣禹 编著\\n                  </span>\\n                  /\\n                  <span class=\"year\">\\n                    2019-6\\n                  </span>\\n                  /\\n                  <span class=\"publisher\">\\n                    后浪丨民主与建设出版社\\n                  </span>\\n                </p>\\n                <p class=\"abstract\">\\n                  \\n                  费正清主编并撰写导论\\n中国近代思想领域的文献汇编与评论的完美结合\\n◎ 编辑推荐\\n费正清提出的“冲击-回应”理论，影响了20世纪后半叶的海内外关于近代中国的研究。本书将中国近代重要的历史文献组织在“冲击-回应”的理论框架下，将原本零散的史料整合起来，探讨了在西方挑战的刺激 下，中国长久稳定的意识形态和知识阶层做出了怎样的回应。\\n现代读史更多的是接受学者们...\\n                </p>\\n              </div>\\n            </div>\\n          </li>\\n          \\n  \\n          <li class=\"\">\\n            <div class=\"cover\">\\n              <a href=\"https://book.douban.com/subject/30421975/?icn=index-latestbook-subject\" title=\"罪与罚\">\\n                <img src=\"https://img1.doubanio.com/view/subject/m/public/s32293119.jpg\" class=\"\"\\n                  width=\"115px\" height=\"172px\" alt=\"罪与罚\">\\n              </a>\\n            </div>\\n            <div class=\"info\">\\n              <div class=\"title\">\\n                <a class=\"\" href=\"https://book.douban.com/subject/30421975/?icn=index-latestbook-subject\"\\n                  title=\"罪与罚\">罪与罚</a>\\n              </div>\\n              <div class=\"author\">\\n                （俄）费奥多尔·陀思妥耶夫斯基\\n              </div>\\n              <div class=\"more-meta\">\\n                <h4 class=\"title\">\\n                  罪与罚\\n                </h4>\\n                <p>\\n                  <span class=\"author\">\\n                    （俄）费奥多尔·陀思妥耶夫斯基\\n                  </span>\\n                  /\\n                  <span class=\"year\">\\n                    2019-6\\n                  </span>\\n                  /\\n                  <span class=\"publisher\">\\n                    广西师范大学出版社\\n                  </span>\\n                </p>\\n                <p class=\"abstract\">\\n                  \\n                  《罪与罚》系十九世纪俄国大文豪陀思妥耶夫斯基的代表作之一。小说描写一心想成为拿破仑式的人物、认定自己是个超人的穷大学生拉斯柯尔尼科夫，受无政府主义思想毒害，为生活所迫，杀死放高利贷的房东老太婆和她的无辜的妹妹，制造了一起震惊全俄的凶杀案。经历了一场内心痛苦的忏悔后，他最终在基督教徒索尼雅姑娘的规劝下，投案自首，被判流放西伯利亚。作品着重表...\\n                </p>\\n              </div>\\n            </div>\\n          </li>\\n          \\n  \\n          <li class=\"\">\\n            <div class=\"cover\">\\n              <a href=\"https://book.douban.com/subject/33411972/?icn=index-latestbook-subject\" title=\"故事写作大师班\">\\n                <img src=\"https://img3.doubanio.com/view/subject/m/public/s32314611.jpg\" class=\"\"\\n                  width=\"115px\" height=\"172px\" alt=\"故事写作大师班\">\\n              </a>\\n            </div>\\n            <div class=\"info\">\\n              <div class=\"title\">\\n                <a class=\"\" href=\"https://book.douban.com/subject/33411972/?icn=index-latestbook-subject\"\\n                  title=\"故事写作大师班\">故事写作大师班</a>\\n              </div>\\n              <div class=\"author\">\\n                [美]约翰•特鲁比\\n              </div>\\n              <div class=\"more-meta\">\\n                <h4 class=\"title\">\\n                  故事写作大师班\\n                </h4>\\n                <p>\\n                  <span class=\"author\">\\n                    [美]约翰•特鲁比\\n                  </span>\\n                  /\\n                  <span class=\"year\">\\n                    2019-5\\n                  </span>\\n                  /\\n                  <span class=\"publisher\">\\n                    浦睿文化·湖南文艺出版社\\n                  </span>\\n                </p>\\n                <p class=\"abstract\">\\n                  \\n                  ◎与《故事》作者罗伯特•麦基齐名，好莱坞故事写作教学大师约翰•特鲁比风行全美30年故事写作课程大公开！\\n--------------------------------\\n◎《怪物史莱克》《猩球崛起》《加勒比海盗》《美食总动员》《西雅图夜未眠》《星球大战》……你所熟知的经典电影都出自他的学生之手！\\n--------------------------------\\n◎知名“剧本医生”以一套完整、精准、实用、有机的写作技法，22步带你穿越...\\n                </p>\\n              </div>\\n            </div>\\n          </li>\\n          \\n  \\n          <li class=\"\">\\n            <div class=\"cover\">\\n              <a href=\"https://book.douban.com/subject/30391624/?icn=index-latestbook-subject\" title=\"三折画\">\\n                <img src=\"https://img1.doubanio.com/view/subject/m/public/s29992119.jpg\" class=\"\"\\n                  width=\"115px\" height=\"172px\" alt=\"三折画\">\\n              </a>\\n            </div>\\n            <div class=\"info\">\\n              <div class=\"title\">\\n                <a class=\"\" href=\"https://book.douban.com/subject/30391624/?icn=index-latestbook-subject\"\\n                  title=\"三折画\">三折画</a>\\n              </div>\\n              <div class=\"author\">\\n                [法] 克洛德·西蒙\\n              </div>\\n              <div class=\"more-meta\">\\n                <h4 class=\"title\">\\n                  三折画\\n                </h4>\\n                <p>\\n                  <span class=\"author\">\\n                    [法] 克洛德·西蒙\\n                  </span>\\n                  /\\n                  <span class=\"year\">\\n                    2019-6-6\\n                  </span>\\n                  /\\n                  <span class=\"publisher\">\\n                    南京大学出版社\\n                  </span>\\n                </p>\\n                <p class=\"abstract\">\\n                  \\n                  法国新小说派代表人物、1985年诺贝尔文学奖得主克洛德·西蒙的《三折画》，于1973年由子夜出版社出版发行，是西蒙第三创作阶段的作品。“三折画”指画在三折画屏上，展示圣人的生活片段、圣经故事和传说的多重片段的画作，这种画整体包含三幅画作，中间一幅画作是主体，两旁的两幅可以折叠在中间的主体之上。小说《三折画》以绘画艺术手法“三折画”为标题，结构上...\\n                </p>\\n              </div>\\n            </div>\\n          </li>\\n          \\n  \\n          <li class=\"\">\\n            <div class=\"cover\">\\n              <a href=\"https://book.douban.com/subject/30420870/?icn=index-latestbook-subject\" title=\"王权派的革命\">\\n                <img src=\"https://img3.doubanio.com/view/subject/m/public/s32299960.jpg\" class=\"\"\\n                  width=\"115px\" height=\"172px\" alt=\"王权派的革命\">\\n              </a>\\n            </div>\\n            <div class=\"info\">\\n              <div class=\"title\">\\n                <a class=\"\" href=\"https://book.douban.com/subject/30420870/?icn=index-latestbook-subject\"\\n                  title=\"王权派的革命\">王权派的革命</a>\\n              </div>\\n              <div class=\"author\">\\n                埃里克·纳尔逊\\n              </div>\\n              <div class=\"more-meta\">\\n                <h4 class=\"title\">\\n                  王权派的革命\\n                </h4>\\n                <p>\\n                  <span class=\"author\">\\n                    埃里克·纳尔逊\\n                  </span>\\n                  /\\n                  <span class=\"year\">\\n                    2019-4-22\\n                  </span>\\n                  /\\n                  <span class=\"publisher\">\\n                    中国政法大学出版社\\n                  </span>\\n                </p>\\n                <p class=\"abstract\">\\n                  \\n                  长期以来我们都认为，美国革命是对英王暴政的反抗。而在这部发覆之作中，埃里克·纳尔逊却指出，“美国国父”中的相当一部分人事实上将自己视为英国议会而非王权的反叛者，驱动他们的是这样一种观念——英国议会僭用了国王独有的专权。在1787年制定美国宪法时，正是上述这些“王权派”投身于论战中，主张将极大的专权赋予行政首脑。而他们所取得的战果是，美国宪法...\\n                </p>\\n              </div>\\n            </div>\\n          </li>\\n          \\n  \\n          <li class=\"\">\\n            <div class=\"cover\">\\n              <a href=\"https://book.douban.com/subject/30353889/?icn=index-latestbook-subject\" title=\"两姐妹\">\\n                <img src=\"https://img3.doubanio.com/view/subject/m/public/s32288925.jpg\" class=\"\"\\n                  width=\"115px\" height=\"172px\" alt=\"两姐妹\">\\n              </a>\\n            </div>\\n            <div class=\"info\">\\n              <div class=\"title\">\\n                <a class=\"\" href=\"https://book.douban.com/subject/30353889/?icn=index-latestbook-subject\"\\n                  title=\"两姐妹\">两姐妹</a>\\n              </div>\\n              <div class=\"author\">\\n                (挪) 奥斯娜·塞厄斯塔\\n              </div>\\n              <div class=\"more-meta\">\\n                <h4 class=\"title\">\\n                  两姐妹\\n                </h4>\\n                <p>\\n                  <span class=\"author\">\\n                    (挪) 奥斯娜·塞厄斯塔\\n                  </span>\\n                  /\\n                  <span class=\"year\">\\n                    2019-4\\n                  </span>\\n                  /\\n                  <span class=\"publisher\">\\n                    中信出版社\\n                  </span>\\n                </p>\\n                <p class=\"abstract\">\\n                  \\n                  2013年10月17日，挪威籍索马里姐妹阿扬和莱拉像往常一样出门，随后在一封发给家人的邮件里写道：我们决定前往叙利亚，尽我们所能去帮助那里的人……这件事我俩思考策划了一整年。\\n故事由此展开，一个平凡的挪威移民家庭因为两姐妹的这一举动而分崩离析。父亲萨迪克不远千里、冒着生命危险寻找女儿，命悬一线时仍不放弃要把女儿带回家的希望。母亲萨拉则带着两个幼子...\\n                </p>\\n              </div>\\n            </div>\\n          </li>\\n          \\n  \\n          <li class=\"\">\\n            <div class=\"cover\">\\n              <a href=\"https://book.douban.com/subject/32492398/?icn=index-latestbook-subject\" title=\"穿在身上的历史\">\\n                <img src=\"https://img1.doubanio.com/view/subject/m/public/s32259438.jpg\" class=\"\"\\n                  width=\"115px\" height=\"172px\" alt=\"穿在身上的历史\">\\n              </a>\\n            </div>\\n            <div class=\"info\">\\n              <div class=\"title\">\\n                <a class=\"\" href=\"https://book.douban.com/subject/32492398/?icn=index-latestbook-subject\"\\n                  title=\"穿在身上的历史\">穿在身上的历史</a>\\n              </div>\\n              <div class=\"author\">\\n                [法]阿尔贝·奥古斯特·拉西内著\\n              </div>\\n              <div class=\"more-meta\">\\n                <h4 class=\"title\">\\n                  穿在身上的历史\\n                </h4>\\n                <p>\\n                  <span class=\"author\">\\n                    [法]阿尔贝·奥古斯特·拉西内著\\n                  </span>\\n                  /\\n                  <span class=\"year\">\\n                    2019-4\\n                  </span>\\n                  /\\n                  <span class=\"publisher\">\\n                    中国画报出版社\\n                  </span>\\n                </p>\\n                <p class=\"abstract\">\\n                  \\n                  《历史上的服装》（Le costume historique）首版于1876年出版，作者奥古斯特·拉西内耗时12年，于1888年最终完成全六卷的绘制和印制。这是一部描绘历史上服装的鸿篇巨制，是法国出版史上首部描绘服装史并首次运用彩色平版印刷的服饰类图书。书中图片全部为作者临摹手绘，其中有304幅全彩图版，大部分使用金色和银色勾勒；170幅双色或三色的淡着色图版；附有12张古...\\n                </p>\\n              </div>\\n            </div>\\n          </li>\\n    </ul>\\n    <ul class=\"list-col list-col5 list-express slide-item\">\\n          \\n  \\n          <li class=\"\">\\n            <div class=\"cover\">\\n              <a href=\"https://book.douban.com/subject/30441553/?icn=index-latestbook-subject\" title=\"书店\">\\n                <img src=\"https://img3.doubanio.com/view/subject/m/public/s32279900.jpg\" class=\"\"\\n                  width=\"115px\" height=\"172px\" alt=\"书店\">\\n              </a>\\n            </div>\\n            <div class=\"info\">\\n              <div class=\"title\">\\n                <a class=\"\" href=\"https://book.douban.com/subject/30441553/?icn=index-latestbook-subject\"\\n                  title=\"书店\">书店</a>\\n              </div>\\n              <div class=\"author\">\\n                [英]佩内洛普·菲茨杰拉德\\n              </div>\\n              <div class=\"more-meta\">\\n                <h4 class=\"title\">\\n                  书店\\n                </h4>\\n                <p>\\n                  <span class=\"author\">\\n                    [英]佩内洛普·菲茨杰拉德\\n                  </span>\\n                  /\\n                  <span class=\"year\">\\n                    2019-5\\n                  </span>\\n                  /\\n                  <span class=\"publisher\">\\n                    中信出版集团\\n                  </span>\\n                </p>\\n                <p class=\"abstract\">\\n                  \\n                  我就是想开一家书店。\\n1959年，一位善心的寡妇弗洛伦斯·格林，带着她仅有的财产，决心开一家书店。那是镇上唯一的书店。这个看上去不切实际的想法最终取得了成功，却也引出小镇人们深藏的恶意。为了丰富邻里的日常生活，她得罪了加马特夫人，镇上位高权重的贵妇。弗洛伦斯的仓库不断漏水，渗进地窖，接着书店也难逃灾祸。她终于开始怀疑一件事：一个没有书店的小镇...\\n                </p>\\n              </div>\\n            </div>\\n          </li>\\n          \\n  \\n          <li class=\"\">\\n            <div class=\"cover\">\\n              <a href=\"https://book.douban.com/subject/30473225/?icn=index-latestbook-subject\" title=\"平安朝的生活与文学\">\\n                <img src=\"https://img3.doubanio.com/view/subject/m/public/s32304992.jpg\" class=\"\"\\n                  width=\"115px\" height=\"172px\" alt=\"平安朝的生活与文学\">\\n              </a>\\n            </div>\\n            <div class=\"info\">\\n              <div class=\"title\">\\n                <a class=\"\" href=\"https://book.douban.com/subject/30473225/?icn=index-latestbook-subject\"\\n                  title=\"平安朝的生活与文学\">平安朝的生活与文学</a>\\n              </div>\\n              <div class=\"author\">\\n                [日] 池田龟鉴\\n              </div>\\n              <div class=\"more-meta\">\\n                <h4 class=\"title\">\\n                  平安朝的生活与文学\\n                </h4>\\n                <p>\\n                  <span class=\"author\">\\n                    [日] 池田龟鉴\\n                  </span>\\n                  /\\n                  <span class=\"year\">\\n                    2019-5\\n                  </span>\\n                  /\\n                  <span class=\"publisher\">\\n                    后浪丨四川人民出版社\\n                  </span>\\n                </p>\\n                <p class=\"abstract\">\\n                  \\n                  平安朝宫廷女性生活百科全书\\n《源氏物语》专家写给普通读者的入门读物\\n为读者展开宁静而幽娴、朦胧而深邃的平安文学画卷\\n◎ 编辑推荐\\n☆ 平安时代宫廷女性生活的百科全书\\n☆ “平安文学的视角，毋宁说就是女性的视角。”一千年前宫廷女性的文学记忆，塑造了我们对平安朝的历史想象。\\n☆ 著名平安文学学者池田龟鉴通过搜罗整理物语文学原著，为读者搭建宫廷女性生活的模型，还...\\n                </p>\\n              </div>\\n            </div>\\n          </li>\\n          \\n  \\n          <li class=\"\">\\n            <div class=\"cover\">\\n              <a href=\"https://book.douban.com/subject/33400116/?icn=index-latestbook-subject\" title=\"悬崖上的谋杀\">\\n                <img src=\"https://img3.doubanio.com/view/subject/m/public/s32310181.jpg\" class=\"\"\\n                  width=\"115px\" height=\"172px\" alt=\"悬崖上的谋杀\">\\n              </a>\\n            </div>\\n            <div class=\"info\">\\n              <div class=\"title\">\\n                <a class=\"\" href=\"https://book.douban.com/subject/33400116/?icn=index-latestbook-subject\"\\n                  title=\"悬崖上的谋杀\">悬崖上的谋杀</a>\\n              </div>\\n              <div class=\"author\">\\n                [英] 阿加莎·克里斯蒂\\n              </div>\\n              <div class=\"more-meta\">\\n                <h4 class=\"title\">\\n                  悬崖上的谋杀\\n                </h4>\\n                <p>\\n                  <span class=\"author\">\\n                    [英] 阿加莎·克里斯蒂\\n                  </span>\\n                  /\\n                  <span class=\"year\">\\n                    2019-5\\n                  </span>\\n                  /\\n                  <span class=\"publisher\">\\n                    新星出版社\\n                  </span>\\n                </p>\\n                <p class=\"abstract\">\\n                  \\n                  博比•琼斯是个不着调的年轻人。一天，他在高尔夫球场发现有人跌落悬崖，赶过去时此人已经奄奄一息，挣扎着在死前留下了一句莫名其妙的话：\\n“他们干嘛不找埃文斯呢？”\\n博比没有多想，却在事后遭人谋杀未遂。回过神来，他的生活俨然成了一本刺激的侦探小说：危机暗藏的田园生活，新开的精神疗养院，邪恶的医生，吸食毒品的丈夫，角落里的丑闻……\\n                </p>\\n              </div>\\n            </div>\\n          </li>\\n          \\n  \\n          <li class=\"\">\\n            <div class=\"cover\">\\n              <a href=\"https://book.douban.com/subject/33396395/?icn=index-latestbook-subject\" title=\"幕后产品\">\\n                <img src=\"https://img3.doubanio.com/view/subject/m/public/s32281121.jpg\" class=\"\"\\n                  width=\"115px\" height=\"172px\" alt=\"幕后产品\">\\n              </a>\\n            </div>\\n            <div class=\"info\">\\n              <div class=\"title\">\\n                <a class=\"\" href=\"https://book.douban.com/subject/33396395/?icn=index-latestbook-subject\"\\n                  title=\"幕后产品\">幕后产品</a>\\n              </div>\\n              <div class=\"author\">\\n                王诗沐\\n              </div>\\n              <div class=\"more-meta\">\\n                <h4 class=\"title\">\\n                  幕后产品\\n                </h4>\\n                <p>\\n                  <span class=\"author\">\\n                    王诗沐\\n                  </span>\\n                  /\\n                  <span class=\"year\">\\n                    2019-4\\n                  </span>\\n                  /\\n                  <span class=\"publisher\">\\n                    电子工业出版社\\n                  </span>\\n                </p>\\n                <p class=\"abstract\">\\n                  \\n                  网易云音乐在激烈的竞争中实现了红海突围，获得了很好的口碑，实现了用户量行业前三，这一切离不开背后的核心人物王诗沐。在《幕后产品：打造突破式产品思维》一书中作者（王诗沐）将自己做产品过程的心路历程、细节决策、思维模式等鞭辟入里地分享出来，阅读本书就像高手手把手地教你做产品。\\n《幕后产品：打造突破式产品思维》不仅是一部严谨的用户型产品经理全阶段...\\n                </p>\\n              </div>\\n            </div>\\n          </li>\\n          \\n  \\n          <li class=\"\">\\n            <div class=\"cover\">\\n              <a href=\"https://book.douban.com/subject/33400559/?icn=index-latestbook-subject\" title=\"睡莲花下的奇书\">\\n                <img src=\"https://img3.doubanio.com/view/subject/m/public/s32312602.jpg\" class=\"\"\\n                  width=\"115px\" height=\"172px\" alt=\"睡莲花下的奇书\">\\n              </a>\\n            </div>\\n            <div class=\"info\">\\n              <div class=\"title\">\\n                <a class=\"\" href=\"https://book.douban.com/subject/33400559/?icn=index-latestbook-subject\"\\n                  title=\"睡莲花下的奇书\">睡莲花下的奇书</a>\\n              </div>\\n              <div class=\"author\">\\n                [以]斯维特拉娜·多洛舍娃\\n              </div>\\n              <div class=\"more-meta\">\\n                <h4 class=\"title\">\\n                  睡莲花下的奇书\\n                </h4>\\n                <p>\\n                  <span class=\"author\">\\n                    [以]斯维特拉娜·多洛舍娃\\n                  </span>\\n                  /\\n                  <span class=\"year\">\\n                    2019-4\\n                  </span>\\n                  /\\n                  <span class=\"publisher\">\\n                    北京联合出版公司\\n                  </span>\\n                </p>\\n                <p class=\"abstract\">\\n                  \\n                  我们的手指缝里存在着一个神奇的国度，里面住着矮人、精灵、仙女、食人魔、巨人、女巫……这里的居民们并不相信人类的存在，但他们中间总有一些淘气的生灵会以各种各样的神秘方式偶然落入我们的世界，看到人类世界的种种不可思议的事情，于是这些笨笨的神奇国度的居民便成了这本书的作者。他们通过对人类生活的观察，写下了关于人类的很多事，包括人类的起源和类型、...\\n                </p>\\n              </div>\\n            </div>\\n          </li>\\n          \\n  \\n          <li class=\"\">\\n            <div class=\"cover\">\\n              <a href=\"https://book.douban.com/subject/33387440/?icn=index-latestbook-subject\" title=\"我在挪威做木匠\">\\n                <img src=\"https://img1.doubanio.com/view/subject/m/public/s32301637.jpg\" class=\"\"\\n                  width=\"115px\" height=\"172px\" alt=\"我在挪威做木匠\">\\n              </a>\\n            </div>\\n            <div class=\"info\">\\n              <div class=\"title\">\\n                <a class=\"\" href=\"https://book.douban.com/subject/33387440/?icn=index-latestbook-subject\"\\n                  title=\"我在挪威做木匠\">我在挪威做木匠</a>\\n              </div>\\n              <div class=\"author\">\\n                [挪] 奥勒·托斯滕森\\n              </div>\\n              <div class=\"more-meta\">\\n                <h4 class=\"title\">\\n                  我在挪威做木匠\\n                </h4>\\n                <p>\\n                  <span class=\"author\">\\n                    [挪] 奥勒·托斯滕森\\n                  </span>\\n                  /\\n                  <span class=\"year\">\\n                    2019-5\\n                  </span>\\n                  /\\n                  <span class=\"publisher\">\\n                    未读·生活家·北京联合出版公司\\n                  </span>\\n                </p>\\n                <p class=\"abstract\">\\n                  \\n                  本书讲述的是一个挪威小镇的木匠的故事。全书以他经手的阁楼改建项目为线索，记录了整个项目的进展始末。但本书并不止于一般意义上的匠人生活，在细致的工艺、繁琐的细节处理、无所不在的问题之外，作者不停探究这一传统工艺的本质，并由此延展出对生活和自我的思考。全书文字平实幽默，能够 轻松带领读者走进挪威木匠的生活，领略北欧小镇风土人情的同时，感受平凡...\\n                </p>\\n              </div>\\n            </div>\\n          </li>\\n          \\n  \\n          <li class=\"\">\\n            <div class=\"cover\">\\n              <a href=\"https://book.douban.com/subject/30321026/?icn=index-latestbook-subject\" title=\"修道院纪事\">\\n                <img src=\"https://img1.doubanio.com/view/subject/m/public/s32301449.jpg\" class=\"\"\\n                  width=\"115px\" height=\"172px\" alt=\"修道院纪事\">\\n              </a>\\n            </div>\\n            <div class=\"info\">\\n              <div class=\"title\">\\n                <a class=\"\" href=\"https://book.douban.com/subject/30321026/?icn=index-latestbook-subject\"\\n                  title=\"修道院纪事\">修道院纪事</a>\\n              </div>\\n              <div class=\"author\">\\n                [葡]若泽·萨拉马戈\\n              </div>\\n              <div class=\"more-meta\">\\n                <h4 class=\"title\">\\n                  修道院纪事\\n                </h4>\\n                <p>\\n                  <span class=\"author\">\\n                    [葡]若泽·萨拉马戈\\n                  </span>\\n                  /\\n                  <span class=\"year\">\\n                    2019-5-15\\n                  </span>\\n                  /\\n                  <span class=\"publisher\">\\n                    南海出版公司\\n                  </span>\\n                </p>\\n                <p class=\"abstract\">\\n                  \\n                  ★ 诺贝尔文学奖得主若泽·萨拉马戈代表作\\n★ 获葡语文学桂冠奖项“卡蒙斯文学奖”，被译成四十余种语言\\n-\\n★ 一部虚构而极富原创性的历史小说，足以比肩加西亚·马尔克斯巅峰时期的任何作品。——《费城问询报》\\n★ 阅读《修道院纪事》，就会明白：“世界对思考者而言是喜剧，对感受者而言是悲剧。”——《图书馆期刊》\\n★ 一部强力的小说，有下流也有高尚，有愤怒也有温柔...\\n                </p>\\n              </div>\\n            </div>\\n          </li>\\n          \\n  \\n          <li class=\"\">\\n            <div class=\"cover\">\\n              <a href=\"https://book.douban.com/subject/30362709/?icn=index-latestbook-subject\" title=\"重返查令十字街84号\">\\n                <img src=\"https://img3.doubanio.com/view/subject/m/public/s32273120.jpg\" class=\"\"\\n                  width=\"115px\" height=\"172px\" alt=\"重返查令十字街84号\">\\n              </a>\\n            </div>\\n            <div class=\"info\">\\n              <div class=\"title\">\\n                <a class=\"\" href=\"https://book.douban.com/subject/30362709/?icn=index-latestbook-subject\"\\n                  title=\"重返查令十字街84号\">重返查令十字街84号</a>\\n              </div>\\n              <div class=\"author\">\\n                [美]海莲·汉芙\\n              </div>\\n              <div class=\"more-meta\">\\n                <h4 class=\"title\">\\n                  重返查令十字街84号\\n                </h4>\\n                <p>\\n                  <span class=\"author\">\\n                    [美]海莲·汉芙\\n                  </span>\\n                  /\\n                  <span class=\"year\">\\n                    2019-4\\n                  </span>\\n                  /\\n                  <span class=\"publisher\">\\n                    南海出版公司\\n                  </span>\\n                </p>\\n                <p class=\"abstract\">\\n                  \\n                  ★《查令十字街84号》续集，中文版首度面世！\\n★世界爱书人必读珍藏。廿年缘悭一面。\\n★那时候，写信和读书，都是一件幸福的事情。\\n=======\\n《查令十字街84号》没有使我富有，它只是让我收到数以百计的来信和电话，使我受到好评，恢复我一路走来丢失已久的自信和自尊。\\n我一生都在期盼 来伦敦看看，我在查令十字街84号下车，来到昔日的马克斯与科恩书店。\\n我心中想着一个...\\n                </p>\\n              </div>\\n            </div>\\n          </li>\\n          \\n  \\n          <li class=\"\">\\n            <div class=\"cover\">\\n              <a href=\"https://book.douban.com/subject/32567841/?icn=index-latestbook-subject\" title=\"奇遇办\">\\n                <img src=\"https://img1.doubanio.com/view/subject/m/public/s31459918.jpg\" class=\"\"\\n                  width=\"115px\" height=\"172px\" alt=\"奇遇办\">\\n              </a>\\n            </div>\\n            <div class=\"info\">\\n              <div class=\"title\">\\n                <a class=\"\" href=\"https://book.douban.com/subject/32567841/?icn=index-latestbook-subject\"\\n                  title=\"奇遇办\">奇遇办</a>\\n              </div>\\n              <div class=\"author\">\\n                伊谢尔伦的风\\n              </div>\\n              <div class=\"more-meta\">\\n                <h4 class=\"title\">\\n                  奇遇办\\n                </h4>\\n                <p>\\n                  <span class=\"author\">\\n                    伊谢尔伦的风\\n                  </span>\\n                  /\\n                  <span class=\"year\">\\n                    2019-5\\n                  </span>\\n                  /\\n                  <span class=\"publisher\">\\n                    中国致公出版社\\n                  </span>\\n                </p>\\n                <p class=\"abstract\">\\n                  \\n                  编辑推荐\\n●  一部集青春感、热血感、动漫风于一体的幻想小说。小说讲述了十余个青少年奇遇的故事，围绕着“热血成长”的主题，以正义的抗争与热血的成长，唤醒读者内心深处的兴奋和对人性的思考，这对于正在经历和曾经历过的人，魅力不可抗拒。\\n●  整部作品从人物到故事，从构思到情感，从文字到感觉，都极具创新感和突破感。故事中有远古的神秘大陆，有贴近读者生活的...\\n                </p>\\n              </div>\\n            </div>\\n          </li>\\n          \\n  \\n          <li class=\"\">\\n            <div class=\"cover\">\\n              <a href=\"https://book.douban.com/subject/27141016/?icn=index-latestbook-subject\" title=\"黑羊与灰鹰\">\\n                <img src=\"https://img3.doubanio.com/view/subject/m/public/s29983033.jpg\" class=\"\"\\n                  width=\"115px\" height=\"172px\" alt=\"黑羊与灰鹰\">\\n              </a>\\n            </div>\\n            <div class=\"info\">\\n              <div class=\"title\">\\n                <a class=\"\" href=\"https://book.douban.com/subject/27141016/?icn=index-latestbook-subject\"\\n                  title=\"黑羊与灰鹰\">黑羊与灰鹰</a>\\n              </div>\\n              <div class=\"author\">\\n                [英] 丽贝卡·韦斯特\\n              </div>\\n              <div class=\"more-meta\">\\n                <h4 class=\"title\">\\n                  黑羊与灰鹰\\n                </h4>\\n                <p>\\n                  <span class=\"author\">\\n                    [英] 丽贝卡·韦斯特\\n                  </span>\\n                  /\\n                  <span class=\"year\">\\n                    2019-4\\n                  </span>\\n                  /\\n                  <span class=\"publisher\">\\n                    三辉图书 / 中信出版社\\n                  </span>\\n                </p>\\n                <p class=\"abstract\">\\n                  \\n                  ◆史诗级的纪实文学典范    逾半世纪历久不衰的巴尔干必读文本\\n◆兰登书屋、《卫报》、《国家评论》一致评选为“20世纪百佳非虚构作品”\\n···\\n【内容简介】\\n第二次世界大战是新旧欧洲的转折点，作为欧洲火药桶的巴尔干，在 20 世纪 40 年代前后的命运截然不同。 本书观照了自 14 世纪中叶至“二战”爆发这漫长岁月中的巴尔干历史。 这片土地经历过什么？为什么会蜕变为浸透...\\n                </p>\\n              </div>\\n            </div>\\n          </li>\\n    </ul>\\n    <ul class=\"list-col list-col5 list-express slide-item\">\\n          \\n  \\n          <li class=\"\">\\n            <div class=\"cover\">\\n              <a href=\"https://book.douban.com/subject/30200837/?icn=index-latestbook-subject\" title=\"命运的长线\">\\n                <img src=\"https://img3.doubanio.com/view/subject/m/public/s30017700.jpg\" class=\"\"\\n                  width=\"115px\" height=\"172px\" alt=\"命运的长线\">\\n              </a>\\n            </div>\\n            <div class=\"info\">\\n              <div class=\"title\">\\n                <a class=\"\" href=\"https://book.douban.com/subject/30200837/?icn=index-latestbook-subject\"\\n                  title=\"命运的长线\">命运的长线</a>\\n              </div>\\n              <div class=\"author\">\\n                [日] 青山七惠\\n              </div>\\n              <div class=\"more-meta\">\\n                <h4 class=\"title\">\\n                  命运的长线\\n                </h4>\\n                <p>\\n                  <span class=\"author\">\\n                    [日] 青山七惠\\n                  </span>\\n                  /\\n                  <span class=\"year\">\\n                    2019-4-30\\n                  </span>\\n                  /\\n                  <span class=\"publisher\">\\n                    上海译文出版社\\n                  </span>\\n                </p>\\n                <p class=\"abstract\">\\n                  \\n                  《命运的长线》是日本年轻一代小说家的代表青山七惠的长篇小说新作。\\n故事由主线的贯穿大半生的情缘与辅线的家庭关系和夫妻关系组成。情节张弛有度，心理描写细腻。集合了青山七惠惯有的细腻笔触与她在长篇中不断尝试的设伏线技法，悬念不断、看点充足。\\n时间跨度长达六十余年，透过这部作品，读者可以一窥“二战”后日本社会半个世纪的发展，了解普通民众的生活图景。\\n\\n...\\n                </p>\\n              </div>\\n            </div>\\n          </li>\\n          \\n  \\n          <li class=\"\">\\n            <div class=\"cover\">\\n              <a href=\"https://book.douban.com/subject/33412681/?icn=index-latestbook-subject\" title=\"欢迎来到你的世界\">\\n                <img src=\"https://img3.doubanio.com/view/subject/m/public/s32294090.jpg\" class=\"\"\\n                  width=\"115px\" height=\"172px\" alt=\"欢迎来到你的世界\">\\n              </a>\\n            </div>\\n            <div class=\"info\">\\n              <div class=\"title\">\\n                <a class=\"\" href=\"https://book.douban.com/subject/33412681/?icn=index-latestbook-subject\"\\n                  title=\"欢迎来到你的世界\">欢迎来到你的世界</a>\\n              </div>\\n              <div class=\"author\">\\n                [美]莎拉·威廉姆斯·戈德哈根\\n              </div>\\n              <div class=\"more-meta\">\\n                <h4 class=\"title\">\\n                  欢迎来到你的世界\\n                </h4>\\n                <p>\\n                  <span class=\"author\">\\n                    [美]莎拉·威廉姆斯·戈德哈根\\n                  </span>\\n                  /\\n                  <span class=\"year\">\\n                    2019-4-16\\n                  </span>\\n                  /\\n                  <span class=\"publisher\">\\n                    机械工业出版社\\n                  </span>\\n                </p>\\n                <p class=\"abstract\">\\n                  \\n                  建筑不仅是我们栖居之所，更是我们观照世界的角度。\\n\\n我们在医院出生、在校园学习、在公寓安家、在写字楼办公......\\n我们生命中90%的时间都栖息在建筑之中，\\n我们无意识地感受着建筑对我们的影响，却从未真正理解我们与建筑的关系：\\n为什么在开阔的空间中，我们更具有创造性？\\n为什么自然光照和绿植会让我们心率变慢、体质变强？\\n为什么不同的人在相同的环境下会表现出类似的...\\n                </p>\\n              </div>\\n            </div>\\n          </li>\\n          \\n  \\n          <li class=\"\">\\n            <div class=\"cover\">\\n              <a href=\"https://book.douban.com/subject/30281429/?icn=index-latestbook-subject\" title=\"黄金案\">\\n                <img src=\"https://img3.doubanio.com/view/subject/m/public/s30021281.jpg\" class=\"\"\\n                  width=\"115px\" height=\"172px\" alt=\"黄金案\">\\n              </a>\\n            </div>\\n            <div class=\"info\">\\n              <div class=\"title\">\\n                <a class=\"\" href=\"https://book.douban.com/subject/30281429/?icn=index-latestbook-subject\"\\n                  title=\"黄金案\">黄金案</a>\\n              </div>\\n              <div class=\"author\">\\n                [荷] 高罗佩\\n              </div>\\n              <div class=\"more-meta\">\\n                <h4 class=\"title\">\\n                  黄金案\\n                </h4>\\n                <p>\\n                  <span class=\"author\">\\n                    [荷] 高罗佩\\n                  </span>\\n                  /\\n                  <span class=\"year\">\\n                    2019-4\\n                  </span>\\n                  /\\n                  <span class=\"publisher\">\\n                    上海译文出版社\\n                  </span>\\n                </p>\\n                <p class=\"abstract\">\\n                  \\n                  荷兰汉学家高罗佩重写初唐名臣狄仁杰传奇\\n兼具中国古典文学雅韵与西方侦探小说妙趣\\n-\\n□全新无删减译本\\n□高罗佩手绘插图\\n□创作背景全解析\\n□译者研究高罗佩多年，独自担纲翻译，保证文风统一\\n-\\n“大唐狄公案”成功地造成了“中国的福尔摩斯”，并被译成多种外文出版，在中国与世 界文化交流史上留下重重的一笔。译文版“大唐狄公案”计划出版十五种，由研究高罗佩多年的 张...\\n                </p>\\n              </div>\\n            </div>\\n          </li>\\n          \\n  \\n          <li class=\"\">\\n            <div class=\"cover\">\\n              <a href=\"https://book.douban.com/subject/33424246/?icn=index-latestbook-subject\" title=\"完整的天下经验\">\\n                <img src=\"https://img3.doubanio.com/view/subject/m/public/s32302472.jpg\" class=\"\"\\n                  width=\"115px\" height=\"172px\" alt=\"完整的天下经验\">\\n              </a>\\n            </div>\\n            <div class=\"info\">\\n              <div class=\"title\">\\n                <a class=\"\" href=\"https://book.douban.com/subject/33424246/?icn=index-latestbook-subject\"\\n                  title=\"完整的天下经验\">完整的天下经验</a>\\n              </div>\\n              <div class=\"author\">\\n                韦兵\\n              </div>\\n              <div class=\"more-meta\">\\n                <h4 class=\"title\">\\n                  完整的天下经验\\n                </h4>\\n                <p>\\n                  <span class=\"author\">\\n                    韦兵\\n                  </span>\\n                  /\\n                  <span class=\"year\">\\n                    2019-5-14\\n                  </span>\\n                  /\\n                  <span class=\"publisher\">\\n                    北京师范大学出版社\\n                  </span>\\n                </p>\\n                <p class=\"abstract\">\\n                  \\n                  本书从观念和实证两方面论述华夏天下世界的多元一体，农耕游牧两个世界，既跌宕互动，又共生共融。阴、阳永远不可能消灭其中一方，中国也是这种夷夏之间对立、互动、互融的势的产物。夷、夏二维，缺少任何一方，都不成其为中国。理解中国的关键就是要从这种双向、动态的“势”去把握，这才是完整的天下经验。从实证的角度，将这种夷夏如阴阳观念的考察落实到具体的诸...\\n                </p>\\n              </div>\\n            </div>\\n          </li>\\n          \\n  \\n          <li class=\"\">\\n            <div class=\"cover\">\\n              <a href=\"https://book.douban.com/subject/30475773/?icn=index-latestbook-subject\" title=\"那时上帝是只兔子\">\\n                <img src=\"https://img1.doubanio.com/view/subject/m/public/s32326127.jpg\" class=\"\"\\n                  width=\"115px\" height=\"172px\" alt=\"那时上帝是只兔子\">\\n              </a>\\n            </div>\\n            <div class=\"info\">\\n              <div class=\"title\">\\n                <a class=\"\" href=\"https://book.douban.com/subject/30475773/?icn=index-latestbook-subject\"\\n                  title=\"那时上帝是只兔子\">那时上帝是只兔子</a>\\n              </div>\\n              <div class=\"author\">\\n                [英] 莎拉·韦曼\\n              </div>\\n              <div class=\"more-meta\">\\n                <h4 class=\"title\">\\n                  那时上帝是只兔子\\n                </h4>\\n                <p>\\n                  <span class=\"author\">\\n                    [英] 莎拉·韦曼\\n                  </span>\\n                  /\\n                  <span class=\"year\">\\n                    2019-5\\n                  </span>\\n                  /\\n                  <span class=\"publisher\">\\n                    四川文艺出版社\\n                  </span>\\n                </p>\\n                <p class=\"abstract\">\\n                  \\n                  ❤那时梦想渺小而能实现，那时一便士便能带来甜蜜，那时上帝是只兔子。\\n❤从4岁到33岁，一对兄妹间如星月般的守护和陪伴\\n❤“很少有一本书你读到60页就想同时推荐给朋友、家人和同事”！\\n【内容简介】\\n她叫埃莉。四岁就能读会 写，爱与比她大的人交朋友。一天，埃莉认识了新搬来的邻居戈兰先生。懵懵懂懂地走入成人世界的她，不知道这个八十岁的老人竟会伤害她。埃莉感...\\n                </p>\\n              </div>\\n            </div>\\n          </li>\\n          \\n  \\n          <li class=\"\">\\n            <div class=\"cover\">\\n              <a href=\"https://book.douban.com/subject/33435429/?icn=index-latestbook-subject\" title=\"游戏图鉴\">\\n                <img src=\"https://img3.doubanio.com/view/subject/m/public/s32311622.jpg\" class=\"\"\\n                  width=\"115px\" height=\"172px\" alt=\"游戏图鉴\">\\n              </a>\\n            </div>\\n            <div class=\"info\">\\n              <div class=\"title\">\\n                <a class=\"\" href=\"https://book.douban.com/subject/33435429/?icn=index-latestbook-subject\"\\n                  title=\"游戏图鉴\">游戏图鉴</a>\\n              </div>\\n              <div class=\"author\">\\n                [日] 奥成达 著&nbsp;/&nbsp;[日] 永田晴美 绘\\n              </div>\\n              <div class=\"more-meta\">\\n                <h4 class=\"title\">\\n                  游戏图鉴\\n                </h4>\\n                <p>\\n                  <span class=\"author\">\\n                    [日] 奥成达 著&nbsp;/&nbsp;[日] 永田晴美 绘\\n                  </span>\\n                  /\\n                  <span class=\"year\">\\n                    2019-6\\n                  </span>\\n                  /\\n                  <span class=\"publisher\">\\n                    后浪丨四川人民出版社\\n                  </span>\\n                </p>\\n                <p class=\"abstract\">\\n                  \\n                  畅销日本30年 销量超过百万套\\n4000幅插图详解800种日常游戏\\n9—99岁都能用的游戏全书\\n◎ 编辑推荐\\n• 这是一本成人和孩子都会喜爱的游戏全书。书中既有经久不衰、代代相传的经典游戏，也囊括了近年来的一些流行游戏；既有可以亲近自然、了解自然的户外游戏，也有需要坐下来精心雕琢的室内游戏。\\n• 捉迷藏、踩影子、纸飞机、七巧板……翻开这本书，暂时远离电子设备的嘈杂...\\n                </p>\\n              </div>\\n            </div>\\n          </li>\\n          \\n  \\n          <li class=\"\">\\n            <div class=\"cover\">\\n              <a href=\"https://book.douban.com/subject/30487144/?icn=index-latestbook-subject\" title=\"炎昼\">\\n                <img src=\"https://img1.doubanio.com/view/subject/m/public/s32316147.jpg\" class=\"\"\\n                  width=\"115px\" height=\"172px\" alt=\"炎昼\">\\n              </a>\\n            </div>\\n            <div class=\"info\">\\n              <div class=\"title\">\\n                <a class=\"\" href=\"https://book.douban.com/subject/30487144/?icn=index-latestbook-subject\"\\n                  title=\"炎昼\">炎昼</a>\\n              </div>\\n              <div class=\"author\">\\n                [日] 京极夏彦\\n              </div>\\n              <div class=\"more-meta\">\\n                <h4 class=\"title\">\\n                  炎昼\\n                </h4>\\n                <p>\\n                  <span class=\"author\">\\n                    [日] 京极夏彦\\n                  </span>\\n                  /\\n                  <span class=\"year\">\\n                    2019-4\\n                  </span>\\n                  /\\n                  <span class=\"publisher\">\\n                    上海人民出版社\\n                  </span>\\n                </p>\\n                <p class=\"abstract\">\\n                  \\n                  ★上承“巷说百物语”下接“百鬼夜行”，京极夏彦书楼系列第二册《炎昼》。以女性视角为主，京极笔下的女性话题，令人惊喜。通篇行文流畅，延续京极一贯风格，引人入胜。\\n★一家旧书店，暗藏日本明治出版业的变迁史，实乃一幅再现明治日本社会风情的京极版《清明上河图》。\\n★追求绝对自然 的写作者，否定自我身份的诗人，意外造访的名人大家，一同被裹挟于大时代之中...\\n                </p>\\n              </div>\\n            </div>\\n          </li>\\n          \\n  \\n          <li class=\"\">\\n            <div class=\"cover\">\\n              <a href=\"https://book.douban.com/subject/30481930/?icn=index-latestbook-subject\" title=\"写给所有人的编程思维\">\\n                <img src=\"https://img3.doubanio.com/view/subject/m/public/s30019054.jpg\" class=\"\"\\n                  width=\"115px\" height=\"172px\" alt=\"写给所有人的编程思维\">\\n              </a>\\n            </div>\\n            <div class=\"info\">\\n              <div class=\"title\">\\n                <a class=\"\" href=\"https://book.douban.com/subject/30481930/?icn=index-latestbook-subject\"\\n                  title=\"写给所有人的编程思维\">写给所有人的编程思维</a>\\n              </div>\\n              <div class=\"author\">\\n                (英) 吉姆·克里斯蒂安&nbsp;/&nbsp;于应机&nbsp;/&nbsp;李阳欢\\n              </div>\\n              <div class=\"more-meta\">\\n                <h4 class=\"title\">\\n                  写给所有人的编程思维\\n                </h4>\\n                <p>\\n                  <span class=\"author\">\\n                    (英) 吉姆·克里斯蒂安&nbsp;/&nbsp;于应机&nbsp;/&nbsp;李阳欢\\n                  </span>\\n                  /\\n                  <span class=\"year\">\\n                    2019-4-1\\n                  </span>\\n                  /\\n                  <span class=\"publisher\">\\n                    北京日报出版社   策划/一米阳光童书馆\\n                  </span>\\n                </p>\\n                <p class=\"abstract\">\\n                  \\n                  什么是编程思维？编程思维除了指数字、符号或代码，最重要的就是指创造性地解决问题、表达思想。\\n把编程语言的过去、现在，也许还有未来，紧紧联系在一起的，其实是一整套核心概念，这些核心概念都源于计算机科学、逻辑学和数学——这也正是本书将要探讨的内容。\\n在本书学习编程思维的过程中，不需要你事先接触一行实际的代码，不需要一台专用的电脑，也不需要什么专门...\\n                </p>\\n              </div>\\n            </div>\\n          </li>\\n          \\n  \\n          <li class=\"\">\\n            <div class=\"cover\">\\n              <a href=\"https://book.douban.com/subject/30434081/?icn=index-latestbook-subject\" title=\"帝国轶闻\">\\n                <img src=\"https://img3.doubanio.com/view/subject/m/public/s32312864.jpg\" class=\"\"\\n                  width=\"115px\" height=\"172px\" alt=\"帝国轶闻\">\\n              </a>\\n            </div>\\n            <div class=\"info\">\\n              <div class=\"title\">\\n                <a class=\"\" href=\"https://book.douban.com/subject/30434081/?icn=index-latestbook-subject\"\\n                  title=\"帝国轶闻\">帝国轶闻</a>\\n              </div>\\n              <div class=\"author\">\\n                [墨西哥]费尔南多·德尔帕索(Fernado del Paso)\\n              </div>\\n              <div class=\"more-meta\">\\n                <h4 class=\"title\">\\n                  帝国轶闻\\n                </h4>\\n                <p>\\n                  <span class=\"author\">\\n                    [墨西哥]费尔南多·德尔帕索(Fernado del Paso)\\n                  </span>\\n                  /\\n                  <span class=\"year\">\\n                    2019-6\\n                  </span>\\n                  /\\n                  <span class=\"publisher\">\\n                    后浪丨四川人民出版社\\n                  </span>\\n                </p>\\n                <p class=\"abstract\">\\n                  \\n                  马尔克斯推崇的大作家，2015 年塞万提斯奖得主\\n费尔南多·德尔帕索潜心十年创作的全景文学巨著\\n《百年孤独》之后最拉美的拉美小说\\n◎ 编辑推荐\\n★ 费尔南多·德尔帕索是拉美文学爆炸后重量级作家，也是 2015 年塞万提斯奖得主，其创作成就堪与加西亚·马尔克斯、卡洛斯·富恩特斯 、巴尔加斯‧略萨等大师并列。\\n★ 2007 年墨西哥杂志《NEXOS》召集包括马尔克斯等六十名作...\\n                </p>\\n              </div>\\n            </div>\\n          </li>\\n          \\n  \\n          <li class=\"\">\\n            <div class=\"cover\">\\n              <a href=\"https://book.douban.com/subject/30415984/?icn=index-latestbook-subject\" title=\"崩溃\">\\n                <img src=\"https://img3.doubanio.com/view/subject/m/public/s32285594.jpg\" class=\"\"\\n                  width=\"115px\" height=\"172px\" alt=\"崩溃\">\\n              </a>\\n            </div>\\n            <div class=\"info\">\\n              <div class=\"title\">\\n                <a class=\"\" href=\"https://book.douban.com/subject/30415984/?icn=index-latestbook-subject\"\\n                  title=\"崩溃\">崩溃</a>\\n              </div>\\n              <div class=\"author\">\\n                [美] 克里斯·克利尔菲尔德&nbsp;/&nbsp;[美] 安德拉什·蒂尔克斯\\n              </div>\\n              <div class=\"more-meta\">\\n                <h4 class=\"title\">\\n                  崩溃\\n                </h4>\\n                <p>\\n                  <span class=\"author\">\\n                    [美] 克里斯·克利尔菲尔德&nbsp;/&nbsp;[美] 安德拉什·蒂尔克斯\\n                  </span>\\n                  /\\n                  <span class=\"year\">\\n                    2019-4\\n                  </span>\\n                  /\\n                  <span class=\"publisher\">\\n                    后浪丨四川人民出版社\\n                  </span>\\n                </p>\\n                <p class=\"abstract\">\\n                  \\n                  在所有人忽视的地方，发现扭转局面的关键线索，比趋势领先一步！\\n◎ 编辑推荐\\n☆ 查尔斯·杜希格、丹尼尔·平克、亚当·格兰特、傅军等诚意推荐\\n☆《金融时报》评选的 2018 年度商业类书籍\\n早高峰地铁 2 分钟一趟，它能够平顺运行，得益于设计合理的轨道系统，操控中心的实时监控， 工程师和维修团队的定期检修，地铁司机的技术，以及站内工作人员的随机应变。其中任何一环...\\n                </p>\\n              </div>\\n            </div>\\n          </li>\\n    </ul>\\n\\n        </div>\\n      </div>\\n    </div>\\n  </div>\\n\\n\\n  <!-- douban ad begin -->\\n  <div id=\"dale_book_home_left_top\" class=\"ad-placeholder\" style=\"margin:-30px 0 30px;\"></div>\\n  <!-- douban app end -->\\n\\n  \\n    \\n    \\n\\n    <div class=\"section book_information\">\\n        <div class=\"hd\">\\n            \\n  <h2 class=\\'\\'>\\n    <span class=\"\">图书资讯</span>\\n  </h2>\\n\\n            <div class=\"slide-controls\">\\n                <ol class=\"slide-dots\">\\n                    <li><a data-index=\"1\" href=\"#\"></a></li>\\n                    <li><a data-index=\"2\" href=\"#\"></a></li>\\n                    <li><a data-index=\"3\" href=\"#\"></a></li>\\n                    <li><a data-index=\"4\" href=\"#\"></a></li>\\n                </ol>\\n                <div class=\"slide-btns\">\\n                    <a href=\"#\" class=\"prev information-prev\">&#8249;</a>\\n                    <a href=\"#\" class=\"next information-next\">&#8250;</a>\\n                </div>\\n            </div>\\n        </div>\\n        <div class=\"bd\">\\n            <div class=\"slide-block\">\\n                <ul class=\"col slide-list\">\\n                        <li class=\"slide-item info-block\">\\n                            <a href=\"https://www.douban.com/note/720747085/\">\\n                                <div class=\"cover\" style=\"background-image: url()\"></div>\\n                                <div class=\"content\">\\n                                    <span class=\"title\">【豆瓣鉴书团 第91期】《我在挪威做木匠》这本书怎么样？</span>\\n                                    <span class=\"meta\">豆瓣读书</span>\\n                                    <p class=\"abstract\">大家好，这里是豆瓣鉴书团。 本期活动诚邀大家先行品鉴的书是《我在挪威做木匠》。活动赠书为50本纸书，由未读提供。 本书讲述的是一个挪威小镇的木匠的故事。全书以他经手的阁楼改建项目为线索，记录了整个项目...</p>\\n                                </div>\\n                            </a>\\n                        </li>\\n                        <li class=\"slide-item info-block\">\\n                            <a href=\"https://www.douban.com/note/721045674/\">\\n                                <div class=\"cover\" style=\"background-image: url(https://img3.doubanio.com/view/note/l/public/p61668993.jpg)\"></div>\\n                                <div class=\"content\">\\n                                    <span class=\"title\">马未都： 年轻时候，错以为文学是我一生的事</span>\\n                                    <span class=\"meta\">长江新世纪</span>\\n                                    <p class=\"abstract\">我特别愿意讲因果，凡事皆有因果。我年轻的时候做文学编辑，你们知道的文学大家我差不多都认得。前两天我出门在机场候机厅里一进门就看到一个很熟悉的作家，多年未见，见我亲得要死。这个作家是余华，余华见我就...</p>\\n                                </div>\\n                            </a>\\n                        </li>\\n                        <li class=\"slide-item info-block\">\\n                            <a href=\"https://www.douban.com/note/720597989/\">\\n                                <div class=\"cover\" style=\"background-image: url()\"></div>\\n                                <div class=\"content\">\\n                                    <span class=\"title\">豆瓣一周热门图书｜本书以密码似的乐山方言写就，讲述一段消失在历史烟云中的家族故事</span>\\n                                    <span class=\"meta\">豆瓣读书</span>\\n                                    <p class=\"abstract\">五月最后一周，新上榜热门图书有《喜鹊谋杀案》《本店招牌菜》《悠长的告别》《格雷厄姆·格林短篇小说全集》和《艺术与恐惧》《崩溃》《死屋》《文学传记：柯勒律治的写作生涯纪事》。 虚构类 *特别推荐 90后新...</p>\\n                                </div>\\n                            </a>\\n                        </li>\\n                        <li class=\"slide-item info-block\">\\n                            <a href=\"https://book.douban.com/review/10210274/\">\\n                                <div class=\"cover\" style=\"background-image: url(https://img3.doubanio.com/view/subject/l/public/s32293152.jpg)\"></div>\\n                                <div class=\"content\">\\n                                    <span class=\"title\">“如果找不到，就自己写吧。”</span>\\n                                    <span class=\"meta\">曾铮</span>\\n                                    <p class=\"abstract\">学生时代最讨厌写作文的我，一定不相信自己后来竟会将写作视为事业。我周围的人不理解，曾有不止一位朋友问我说，你一个理科生，怎么就突然写小说去了？对此我很有些哑然。我本科和研究生都是物理学专业，那时候...</p>\\n                                </div>\\n                            </a>\\n                        </li>\\n                </ul>\\n            </div>\\n        </div>\\n    </div>\\n\\n\\n  \\n    \\n\\n  <div class=\"section popular-books\">\\n    <div class=\"hd\">\\n      <h2>\\n        <span>最受关注图书榜</span>\\n        <span class=\"link-more\">\\n          <a href=\"/chart?subcat=F&amp;icn=index-topchart-fiction\">虚构类»</a>\\n        </span>\\n        <span class=\"link-more\">\\n          <a href=\"/chart?icn=index-topchart-nonfiction\">非虚构类»</a>\\n        </span>\\n      </h2>\\n    </div>\\n    <div class=\"bd\">\\n      <ul class=\"list-col list-col2 list-summary s\"\\n        data-dstat-areaid=\"61\" data-dstat-mode=\"click,expose\">\\n              \\n  \\n\\n  <li class=\"\">\\n    <div class=\"cover\">\\n      <a onclick=\"moreurl(this, {from:\\'pop_fiction\\'})\" href=\"https://book.douban.com/subject/30475767/?icn=index-topchart-subject\">\\n        <img src=\"https://img3.doubanio.com/view/subject/m/public/s32266692.jpg\"\\n          alt=\"人生海海\" class=\"\">\\n      </a>\\n    </div>\\n    <div class=\"info\">\\n      <h4 class=\"title\">\\n        <a onclick=\"moreurl(this, {from:\\'pop_fiction\\'})\"\\n          href=\"https://book.douban.com/subject/30475767/?icn=index-topchart-subject\" class=\"\">人生海海</a>\\n      </h4>\\n      <p class=\"entry-star-small\">\\n        <span class=\"allstar45 star-img\">\\n        </span>\\n        <span class=\"average-rating\">\\n          8.3\\n        </span>\\n      </p>\\n      <p class=\"author\">\\n        作者：麦家\\n      </p>\\n      <p class=\"book-list-classification\">\\n        小说&nbsp;/&nbsp;中国文学\\n      </p>\\n      <p class=\"extra-info\">\\n        \\n      </p>\\n        \\n        <p class=\"reviews\">\\n          回归乡村，回到家庭叙事，写得曲折回环，荡人心肠。\\n          (<a onclick=\"moreurl(this, {from:\\'pop_fiction\\'})\" href=\"https://book.douban.com/review/10129710/?icn=index-topchart-subject\">Amberdream评论</a>)\\n        </p>\\n    </div>\\n  </li>\\n\\n              \\n  \\n\\n  <li class=\"\">\\n    <div class=\"cover\">\\n      <a onclick=\"moreurl(this, {from:\\'pop_nonfiction\\'})\" href=\"https://book.douban.com/subject/30484795/?icn=index-topchart-subject\">\\n        <img src=\"https://img3.doubanio.com/view/subject/m/public/s30025945.jpg\"\\n          alt=\"黑箱\" class=\"\">\\n      </a>\\n    </div>\\n    <div class=\"info\">\\n      <h4 class=\"title\">\\n        <a onclick=\"moreurl(this, {from:\\'pop_nonfiction\\'})\"\\n          href=\"https://book.douban.com/subject/30484795/?icn=index-topchart-subject\" class=\"\">黑箱</a>\\n      </h4>\\n      <p class=\"entry-star-small\">\\n        <span class=\"allstar45 star-img\">\\n        </span>\\n        <span class=\"average-rating\">\\n          8.9\\n        </span>\\n      </p>\\n      <p class=\"author\">\\n        作者：[日]伊藤诗织\\n      </p>\\n      <p class=\"book-list-classification\">\\n        女性&nbsp;/&nbsp;纪实\\n      </p>\\n      <p class=\"extra-info\">\\n        \\n          <span class=\"meta-label\">有电子书</span>\\n      </p>\\n        \\n        <p class=\"reviews\">\\n          “我的声音会化作你的声音，或者你珍视的人的声音。”\\n          (<a onclick=\"moreurl(this, {from:\\'pop_nonfiction\\'})\" href=\"https://book.douban.com/review/10126074/?icn=index-topchart-subject\">一个羊评论</a>)\\n        </p>\\n    </div>\\n  </li>\\n\\n              \\n  \\n\\n  <li class=\"\">\\n    <div class=\"cover\">\\n      <a onclick=\"moreurl(this, {from:\\'pop_fiction\\'})\" href=\"https://book.douban.com/subject/30207738/?icn=index-topchart-subject\">\\n        <img src=\"https://img3.doubanio.com/view/subject/m/public/s29972205.jpg\"\\n          alt=\"3秒\" class=\"\">\\n      </a>\\n    </div>\\n    <div class=\"info\">\\n      <h4 class=\"title\">\\n        <a onclick=\"moreurl(this, {from:\\'pop_fiction\\'})\"\\n          href=\"https://book.douban.com/subject/30207738/?icn=index-topchart-subject\" class=\"\">3秒</a>\\n      </h4>\\n      <p class=\"entry-star-small\">\\n        <span class=\"allstar45 star-img\">\\n        </span>\\n        <span class=\"average-rating\">\\n          8.8\\n        </span>\\n      </p>\\n      <p class=\"author\">\\n        作者：[法] 马克-安托万·马修\\n      </p>\\n      <p class=\"book-list-classification\">\\n        法国&nbsp;/&nbsp;图像小说\\n      </p>\\n      <p class=\"extra-info\">\\n        \\n      </p>\\n        \\n        <p class=\"reviews\">\\n          用3秒钟讲述了一桩惊天阴谋的来龙去脉。\\n          (<a onclick=\"moreurl(this, {from:\\'pop_fiction\\'})\" href=\"https://book.douban.com/review/10138946/?icn=index-topchart-subject\">后浪漫评论</a>)\\n        </p>\\n    </div>\\n  </li>\\n\\n              \\n  \\n\\n  <li class=\"\">\\n    <div class=\"cover\">\\n      <a onclick=\"moreurl(this, {from:\\'pop_nonfiction\\'})\" href=\"https://book.douban.com/subject/30398413/?icn=index-topchart-subject\">\\n        <img src=\"https://img3.doubanio.com/view/subject/m/public/s30011086.jpg\"\\n          alt=\"午夜北平\" class=\"\">\\n      </a>\\n    </div>\\n    <div class=\"info\">\\n      <h4 class=\"title\">\\n        <a onclick=\"moreurl(this, {from:\\'pop_nonfiction\\'})\"\\n          href=\"https://book.douban.com/subject/30398413/?icn=index-topchart-subject\" class=\"\">午夜北平</a>\\n      </h4>\\n      <p class=\"entry-star-small\">\\n        <span class=\"allstar45 star-img\">\\n        </span>\\n        <span class=\"average-rating\">\\n          8.8\\n        </span>\\n      </p>\\n      <p class=\"author\">\\n        作者：[英]保罗·法兰奇\\n      </p>\\n      <p class=\"book-list-classification\">\\n        海外中国研究&nbsp;/&nbsp;近代史\\n      </p>\\n      <p class=\"extra-info\">\\n        \\n      </p>\\n        \\n        <p class=\"reviews\">\\n          作者如小说家般耐心地叙述始末，午夜北平的紧张气氛，像展开一幅错综、吊诡的画卷，令人屏息。\\n          (<a onclick=\"moreurl(this, {from:\\'pop_nonfiction\\'})\" href=\"https://book.douban.com/review/10057558/?icn=index-topchart-subject\">璃人泪@2011评论</a>)\\n        </p>\\n    </div>\\n  </li>\\n\\n              \\n  \\n\\n  <li class=\"\">\\n    <div class=\"cover\">\\n      <a onclick=\"moreurl(this, {from:\\'pop_fiction\\'})\" href=\"https://book.douban.com/subject/30282302/?icn=index-topchart-subject\">\\n        <img src=\"https://img3.doubanio.com/view/subject/m/public/s29840640.jpg\"\\n          alt=\"2081\" class=\"\">\\n      </a>\\n    </div>\\n    <div class=\"info\">\\n      <h4 class=\"title\">\\n        <a onclick=\"moreurl(this, {from:\\'pop_fiction\\'})\"\\n          href=\"https://book.douban.com/subject/30282302/?icn=index-topchart-subject\" class=\"\">2081</a>\\n      </h4>\\n      <p class=\"entry-star-small\">\\n        <span class=\"allstar50 star-img\">\\n        </span>\\n        <span class=\"average-rating\">\\n          9.5\\n        </span>\\n      </p>\\n      <p class=\"author\">\\n        作者：[美] 库尔特·冯内古特\\n      </p>\\n      <p class=\"book-list-classification\">\\n        短篇小说&nbsp;/&nbsp;美国文学\\n      </p>\\n      <p class=\"extra-info\">\\n        \\n      </p>\\n        \\n        <p class=\"reviews\">\\n          也许只有精通痛苦的人才能精通幽默。\\n          (<a onclick=\"moreurl(this, {from:\\'pop_fiction\\'})\" href=\"https://book.douban.com/review/10129515/?icn=index-topchart-subject\">楚尘文化评论</a>)\\n        </p>\\n    </div>\\n  </li>\\n\\n              \\n  \\n\\n  <li class=\"\">\\n    <div class=\"cover\">\\n      <a onclick=\"moreurl(this, {from:\\'pop_nonfiction\\'})\" href=\"https://book.douban.com/subject/30389969/?icn=index-topchart-subject\">\\n        <img src=\"https://img3.doubanio.com/view/subject/m/public/s29969202.jpg\"\\n          alt=\"女性与权力\" class=\"\">\\n      </a>\\n    </div>\\n    <div class=\"info\">\\n      <h4 class=\"title\">\\n        <a onclick=\"moreurl(this, {from:\\'pop_nonfiction\\'})\"\\n          href=\"https://book.douban.com/subject/30389969/?icn=index-topchart-subject\" class=\"\">女性与权力</a>\\n      </h4>\\n      <p class=\"entry-star-small\">\\n        <span class=\"allstar45 star-img\">\\n        </span>\\n        <span class=\"average-rating\">\\n          8.4\\n        </span>\\n      </p>\\n      <p class=\"author\">\\n        作者：[英] 玛丽·比尔德\\n      </p>\\n      <p class=\"book-list-classification\">\\n        社会学&nbsp;/&nbsp;女权\\n      </p>\\n      <p class=\"extra-info\">\\n        \\n      </p>\\n        \\n        <p class=\"reviews\">\\n          人们对男性的态度是“我不同意你的看法”，而对女性则只会觉得她很蠢。\\n          (<a onclick=\"moreurl(this, {from:\\'pop_nonfiction\\'})\" href=\"https://book.douban.com/review/10159278/?icn=index-topchart-subject\">羽南评论</a>)\\n        </p>\\n    </div>\\n  </li>\\n\\n              \\n  \\n\\n  <li class=\"\">\\n    <div class=\"cover\">\\n      <a onclick=\"moreurl(this, {from:\\'pop_fiction\\'})\" href=\"https://book.douban.com/subject/30420900/?icn=index-topchart-subject\">\\n        <img src=\"https://img1.doubanio.com/view/subject/m/public/s29993079.jpg\"\\n          alt=\"奥丽芙·基特里奇\" class=\"\">\\n      </a>\\n    </div>\\n    <div class=\"info\">\\n      <h4 class=\"title\">\\n        <a onclick=\"moreurl(this, {from:\\'pop_fiction\\'})\"\\n          href=\"https://book.douban.com/subject/30420900/?icn=index-topchart-subject\" class=\"\">奥丽芙·基特里奇</a>\\n      </h4>\\n      <p class=\"entry-star-small\">\\n        <span class=\"allstar45 star-img\">\\n        </span>\\n        <span class=\"average-rating\">\\n          9.0\\n        </span>\\n      </p>\\n      <p class=\"author\">\\n        作者：[美] 伊丽莎白·斯特劳特\\n      </p>\\n      <p class=\"book-list-classification\">\\n        小说&nbsp;/&nbsp;美国文学\\n      </p>\\n      <p class=\"extra-info\">\\n        \\n      </p>\\n        \\n        <p class=\"reviews\">\\n          所有人都穿着皇帝的新装，却好像他们自己并不是游行的一部分。\\n          (<a onclick=\"moreurl(this, {from:\\'pop_fiction\\'})\" href=\"https://book.douban.com/review/10089816/?icn=index-topchart-subject\">安东。评论</a>)\\n        </p>\\n    </div>\\n  </li>\\n\\n              \\n  \\n\\n  <li class=\"\">\\n    <div class=\"cover\">\\n      <a onclick=\"moreurl(this, {from:\\'pop_nonfiction\\'})\" href=\"https://book.douban.com/subject/30473907/?icn=index-topchart-subject\">\\n        <img src=\"https://img3.doubanio.com/view/subject/m/public/s32288675.jpg\"\\n          alt=\"坏血\" class=\"\">\\n      </a>\\n    </div>\\n    <div class=\"info\">\\n      <h4 class=\"title\">\\n        <a onclick=\"moreurl(this, {from:\\'pop_nonfiction\\'})\"\\n          href=\"https://book.douban.com/subject/30473907/?icn=index-topchart-subject\" class=\"\">坏血</a>\\n      </h4>\\n      <p class=\"entry-star-small\">\\n        <span class=\"allstar45 star-img\">\\n        </span>\\n        <span class=\"average-rating\">\\n          8.4\\n        </span>\\n      </p>\\n      <p class=\"author\">\\n        作者：[美]约翰·卡雷鲁（John Carreyrou）\\n      </p>\\n      <p class=\"book-list-classification\">\\n        商业&nbsp;/&nbsp;美国\\n      </p>\\n      <p class=\"extra-info\">\\n        \\n          <span class=\"meta-label\">有电子书</span>\\n      </p>\\n        \\n        <p class=\"reviews\">\\n          在希拉洛斯的骗局中，没有一家专注于生物技术领域的风投公司上当。\\n          (<a onclick=\"moreurl(this, {from:\\'pop_nonfiction\\'})\" href=\"https://book.douban.com/review/10145763/?icn=index-topchart-subject\">timeregister评论</a>)\\n        </p>\\n    </div>\\n  </li>\\n\\n              \\n  \\n\\n  <li class=\"\">\\n    <div class=\"cover\">\\n      <a onclick=\"moreurl(this, {from:\\'pop_fiction\\'})\" href=\"https://book.douban.com/subject/30390667/?icn=index-topchart-subject\">\\n        <img src=\"https://img3.doubanio.com/view/subject/m/public/s29951872.jpg\"\\n          alt=\"奥斯特利茨\" class=\"\">\\n      </a>\\n    </div>\\n    <div class=\"info\">\\n      <h4 class=\"title\">\\n        <a onclick=\"moreurl(this, {from:\\'pop_fiction\\'})\"\\n          href=\"https://book.douban.com/subject/30390667/?icn=index-topchart-subject\" class=\"\">奥斯特利茨</a>\\n      </h4>\\n      <p class=\"entry-star-small\">\\n        <span class=\"allstar50 star-img\">\\n        </span>\\n        <span class=\"average-rating\">\\n          9.2\\n        </span>\\n      </p>\\n      <p class=\"author\">\\n        作者：[德]温弗里德•塞巴尔德\\n      </p>\\n      <p class=\"book-list-classification\">\\n        德语文学&nbsp;/&nbsp;长篇小说\\n      </p>\\n      <p class=\"extra-info\">\\n        \\n      </p>\\n        \\n        <p class=\"reviews\">\\n          德国作家塞巴尔德也许找到了一种抒情与批判共存、轻与重兼备的叙事方式。\\n          (<a onclick=\"moreurl(this, {from:\\'pop_fiction\\'})\" href=\"https://book.douban.com/review/10146254/?icn=index-topchart-subject\">远子评论</a>)\\n        </p>\\n    </div>\\n  </li>\\n\\n              \\n  \\n\\n  <li class=\"\">\\n    <div class=\"cover\">\\n      <a onclick=\"moreurl(this, {from:\\'pop_nonfiction\\'})\" href=\"https://book.douban.com/subject/30411849/?icn=index-topchart-subject\">\\n        <img src=\"https://img1.doubanio.com/view/subject/m/public/s32271479.jpg\"\\n          alt=\"棉花帝国\" class=\"\">\\n      </a>\\n    </div>\\n    <div class=\"info\">\\n      <h4 class=\"title\">\\n        <a onclick=\"moreurl(this, {from:\\'pop_nonfiction\\'})\"\\n          href=\"https://book.douban.com/subject/30411849/?icn=index-topchart-subject\" class=\"\">棉花帝国</a>\\n      </h4>\\n      <p class=\"entry-star-small\">\\n        <span class=\"allstar45 star-img\">\\n        </span>\\n        <span class=\"average-rating\">\\n          8.9\\n        </span>\\n      </p>\\n      <p class=\"author\">\\n        作者：[美]斯文·贝克特\\n      </p>\\n      <p class=\"book-list-classification\">\\n        全球史&nbsp;/&nbsp;资本主义\\n      </p>\\n      <p class=\"extra-info\">\\n        \\n          <span class=\"meta-label\">有电子书</span>\\n      </p>\\n        \\n        <p class=\"reviews\">\\n          棉花帝国的扩张过程，也是一个全球化的过程。\\n          (<a onclick=\"moreurl(this, {from:\\'pop_nonfiction\\'})\" href=\"https://book.douban.com/review/10088718/?icn=index-topchart-subject\">汗青堂评论</a>)\\n        </p>\\n    </div>\\n  </li>\\n\\n      </ul>\\n    </div>\\n  </div>\\n\\n\\n  <!-- douban ad begin -->\\n  <div id=\"dale_book_home_left_middle\" class=\"ad-placeholder\" style=\"margin:-50px 0 30px;\"></div>\\n  <!-- douban app end -->\\n\\n  \\n  <div class=\"section market-books\">\\n    <div class=\"hd\">\\n      <h2>\\n        <span>豆瓣书店</span>\\n        <span class=\"link-more\">\\n          <a href=\"https://market.douban.com/book/?utm_campaign=book_freyr_section&amp;utm_source=douban&amp;utm_medium=pc_web\">查看全部»</a>\\n        </span>\\n      </h2>\\n    </div>\\n    <div class=\"bd\">\\n      \\n      <div class=\"top\">\\n        <div class=\"cover\">\\n          <a href=\"https://market.douban.com/book/threebody?utm_campaign=book_freyr_section&amp;utm_source=douban&amp;utm_medium=pc_web\">\\n            <div class=\"pic\" style=\"background-image: url(https://img3.doubanio.com/view/freyr_page_photo/raw/public/3953.jpg)\"></div>\\n          </a>\\n        </div>\\n        <div id=\"market_books_header_info\" class=\"info\">\\n          <p class=\"title\">三体艺术插画集\\n            <span class=\"price\">￥249.00</span>\\n              <span class=\"free_delivery\">／包邮</span>\\n          </p>\\n          <p class=\"desc indent-paragraph\" data-row=\"4\">集结近百位顶级艺术家，打造“三体世界”视觉盛宴</p>\\n        </div>\\n      </div>\\n      <ul class=\"list-col list-col5\">\\n          \\n          <li>\\n            <div class=\"cover\">\\n              <a href=\"https://market.douban.com/book/transperceneige?utm_campaign=book_freyr_section&amp;utm_source=douban&amp;utm_medium=pc_web\" target=\"_blank\">\\n                <img src=\"https://img1.doubanio.com/view/freyr_page_photo/raw/public/3938.jpg\" width=\"106\" height=\"140\" alt=\"雪国列车（全两册）\"/>\\n              </a>\\n            </div>\\n            <div class=\"info\">\\n              <div class=\"title\">\\n                <a href=\"https://market.douban.com/book/transperceneige?utm_campaign=book_freyr_section&amp;utm_source=douban&amp;utm_medium=pc_web\" target=\"_blank\">雪国列车（全两册）</a>\\n              </div>\\n              <div class=\"price\">￥230.40</div>\\n            </div>\\n          </li>\\n          \\n          <li>\\n            <div class=\"cover\">\\n              <a href=\"https://market.douban.com/book/sempe?utm_campaign=book_freyr_section&amp;utm_source=douban&amp;utm_medium=pc_web\" target=\"_blank\">\\n                <img src=\"https://img1.doubanio.com/view/freyr_page_photo/raw/public/3889.jpg\" width=\"106\" height=\"140\" alt=\"《童年》《桑贝在纽约》\"/>\\n              </a>\\n            </div>\\n            <div class=\"info\">\\n              <div class=\"title\">\\n                <a href=\"https://market.douban.com/book/sempe?utm_campaign=book_freyr_section&amp;utm_source=douban&amp;utm_medium=pc_web\" target=\"_blank\">《童年》《桑贝在纽约》</a>\\n              </div>\\n              <div class=\"price\">￥245.00</div>\\n            </div>\\n          </li>\\n          \\n          <li>\\n            <div class=\"cover\">\\n              <a href=\"https://market.douban.com/book/kurosawa?utm_campaign=book_freyr_section&amp;utm_source=douban&amp;utm_medium=pc_web\" target=\"_blank\">\\n                <img src=\"https://img1.doubanio.com/view/freyr_page_photo/raw/public/3879.jpg\" width=\"106\" height=\"140\" alt=\"黑泽明的罗生门\"/>\\n              </a>\\n            </div>\\n            <div class=\"info\">\\n              <div class=\"title\">\\n                <a href=\"https://market.douban.com/book/kurosawa?utm_campaign=book_freyr_section&amp;utm_source=douban&amp;utm_medium=pc_web\" target=\"_blank\">黑泽明的罗生门</a>\\n              </div>\\n              <div class=\"price\">￥60.00</div>\\n            </div>\\n          </li>\\n          \\n          <li>\\n            <div class=\"cover\">\\n              <a href=\"https://market.douban.com/book/racinet?utm_campaign=book_freyr_section&amp;utm_source=douban&amp;utm_medium=pc_web\" target=\"_blank\">\\n                <img src=\"https://img3.doubanio.com/view/freyr_page_photo/raw/public/3786.jpg\" width=\"106\" height=\"140\" alt=\"穿在身上的历史：世界服饰图鉴\"/>\\n              </a>\\n            </div>\\n            <div class=\"info\">\\n              <div class=\"title\">\\n                <a href=\"https://market.douban.com/book/racinet?utm_campaign=book_freyr_section&amp;utm_source=douban&amp;utm_medium=pc_web\" target=\"_blank\">穿在身上的历史：世界服饰图鉴</a>\\n              </div>\\n              <div class=\"price\">￥246.00</div>\\n            </div>\\n          </li>\\n          \\n          <li>\\n            <div class=\"cover\">\\n              <a href=\"https://market.douban.com/book/single?utm_campaign=book_freyr_section&amp;utm_source=douban&amp;utm_medium=pc_web\" target=\"_blank\">\\n                <img src=\"https://img3.doubanio.com/view/freyr_page_photo/raw/public/3581.jpg\" width=\"106\" height=\"140\" alt=\"一个人生活\"/>\\n              </a>\\n            </div>\\n            <div class=\"info\">\\n              <div class=\"title\">\\n                <a href=\"https://market.douban.com/book/single?utm_campaign=book_freyr_section&amp;utm_source=douban&amp;utm_medium=pc_web\" target=\"_blank\">一个人生活</a>\\n              </div>\\n              <div class=\"price\">￥36.00</div>\\n            </div>\\n          </li>\\n      </ul>\\n    </div>\\n  </div>\\n\\n\\n    <div class=\"section ebook-area\"></div>\\n\\n    <div id=\"reviews\" class=\"section\" ></div>\\n\\n</div>\\n      <div class=\"aside\">\\n        \\n  <!-- douban ad begin -->\\n  <div id=\"dale_book_home_top_right\" class=\"s ad-placeholder\"\\n    data-dstat-areaid=\"51\" data-dstat-mode=\"click,expose\"\\n    style=\"margin-top: 30px;\"></div>\\n  <!-- douban ad end -->\\n\\n  <!-- douban ad begin -->\\n  <div id=\"dale_book_home_top_right2\" class=\"ad-placeholder\"></div>\\n  <!-- douban ad end -->\\n\\n  \\n\\n  \\n\\n  \\n  <h2 class=\\'\\'>\\n    <span class=\"\">热门标签</span>\\n      <span class=\"link-more\">\\n        <a class=\"\" href=\"/tag/?view=type&amp;icn=index-sorttags-all\"\\n          >所有热门标签»</a>\\n      </span>\\n  </h2>\\n\\n  <ul class=\"hot-tags-col5 s\" data-dstat-areaid=\"54\" data-dstat-mode=\"click,expose\">\\n      \\n    \\n\\n    <li>\\n        <ul class=\"clearfix\">\\n            <li class=\"tag_title\">\\n                文学\\n            </li>\\n            <li>\\n                <a href=\"/tag/小说\" class=\"tag\">小说</a>\\n            </li>\\n            <li>\\n                <a href=\"/tag/随笔\" class=\"tag\">随笔</a>\\n            </li>\\n            <li>\\n                <a href=\"/tag/日本文学\" class=\"tag\">日本文学</a>\\n            </li>\\n            <li class=\"last\">\\n                  <a href=\"/tag/散文\" class=\"tag\">散文</a>\\n            </li>\\n            <li>\\n                <a href=\"/tag/诗歌\" class=\"tag\">诗歌</a>\\n            </li>\\n            <li>\\n                <a href=\"/tag/童话\" class=\"tag\">童话</a>\\n            </li>\\n            <li>\\n                <a href=\"/tag/名著\" class=\"tag\">名著</a>\\n            </li>\\n            <li class=\"last\">\\n                  <a href=\"/tag/港台\" class=\"tag\">港台</a>\\n            </li>\\n            <li class=\"last\">\\n                  <a href=\"/tag/?view=type&amp;icn=index-sorttags-hot#文学\" class=\"tag more_tag\">更多»</a>\\n            </li>\\n        </ul>\\n    </li>\\n\\n      \\n    \\n\\n    <li>\\n        <ul class=\"clearfix\">\\n            <li class=\"tag_title\">\\n                流行\\n            </li>\\n            <li>\\n                <a href=\"/tag/漫画\" class=\"tag\">漫画</a>\\n            </li>\\n            <li>\\n                <a href=\"/tag/推理\" class=\"tag\">推理</a>\\n            </li>\\n            <li>\\n                <a href=\"/tag/绘本\" class=\"tag\">绘本</a>\\n            </li>\\n            <li class=\"last\">\\n                  <a href=\"/tag/青春\" class=\"tag\">青春</a>\\n            </li>\\n            <li>\\n                <a href=\"/tag/科幻\" class=\"tag\">科幻</a>\\n            </li>\\n            <li>\\n                <a href=\"/tag/言情\" class=\"tag\">言情</a>\\n            </li>\\n            <li>\\n                <a href=\"/tag/奇幻\" class=\"tag\">奇幻</a>\\n            </li>\\n            <li class=\"last\">\\n                  <a href=\"/tag/武侠\" class=\"tag\">武侠</a>\\n            </li>\\n            <li class=\"last\">\\n                  <a href=\"/tag/?view=type&amp;icn=index-sorttags-hot#流行\" class=\"tag more_tag\">更多»</a>\\n            </li>\\n        </ul>\\n    </li>\\n\\n      \\n    \\n\\n    <li>\\n        <ul class=\"clearfix\">\\n            <li class=\"tag_title\">\\n                文化\\n            </li>\\n            <li>\\n                <a href=\"/tag/历史\" class=\"tag\">历史</a>\\n            </li>\\n            <li>\\n                <a href=\"/tag/哲学\" class=\"tag\">哲学</a>\\n            </li>\\n            <li>\\n                <a href=\"/tag/传记\" class=\"tag\">传记</a>\\n            </li>\\n            <li class=\"last\">\\n                  <a href=\"/tag/设计\" class=\"tag\">设计</a>\\n            </li>\\n            <li>\\n                <a href=\"/tag/建筑\" class=\"tag\">建筑</a>\\n            </li>\\n            <li>\\n                <a href=\"/tag/电影\" class=\"tag\">电影</a>\\n            </li>\\n            <li>\\n                <a href=\"/tag/回忆录\" class=\"tag\">回忆录</a>\\n            </li>\\n            <li class=\"last\">\\n                  <a href=\"/tag/音乐\" class=\"tag\">音乐</a>\\n            </li>\\n            <li class=\"last\">\\n                  <a href=\"/tag/?view=type&amp;icn=index-sorttags-hot#文化\" class=\"tag more_tag\">更多»</a>\\n            </li>\\n        </ul>\\n    </li>\\n\\n      \\n    \\n\\n    <li>\\n        <ul class=\"clearfix\">\\n            <li class=\"tag_title\">\\n                生活\\n            </li>\\n            <li>\\n                <a href=\"/tag/旅行\" class=\"tag\">旅行</a>\\n            </li>\\n            <li>\\n                <a href=\"/tag/励志\" class=\"tag\">励志</a>\\n            </li>\\n            <li>\\n                <a href=\"/tag/教育\" class=\"tag\">教育</a>\\n            </li>\\n            <li class=\"last\">\\n                  <a href=\"/tag/职场\" class=\"tag\">职场</a>\\n            </li>\\n            <li>\\n                <a href=\"/tag/美食\" class=\"tag\">美食</a>\\n            </li>\\n            <li>\\n                <a href=\"/tag/灵修\" class=\"tag\">灵修</a>\\n            </li>\\n            <li>\\n                <a href=\"/tag/健康\" class=\"tag\">健康</a>\\n            </li>\\n            <li class=\"last\">\\n                  <a href=\"/tag/家居\" class=\"tag\">家居</a>\\n            </li>\\n            <li class=\"last\">\\n                  <a href=\"/tag/?view=type&amp;icn=index-sorttags-hot#生活\" class=\"tag more_tag\">更多»</a>\\n            </li>\\n        </ul>\\n    </li>\\n\\n      \\n    \\n\\n    <li>\\n        <ul class=\"clearfix\">\\n            <li class=\"tag_title\">\\n                经管\\n            </li>\\n            <li>\\n                <a href=\"/tag/经济学\" class=\"tag\">经济学</a>\\n            </li>\\n            <li>\\n                <a href=\"/tag/管理\" class=\"tag\">管理</a>\\n            </li>\\n            <li>\\n                <a href=\"/tag/商业\" class=\"tag\">商业</a>\\n            </li>\\n            <li class=\"last\">\\n                  <a href=\"/tag/金融\" class=\"tag\">金融</a>\\n            </li>\\n            <li>\\n                <a href=\"/tag/营销\" class=\"tag\">营销</a>\\n            </li>\\n            <li>\\n                <a href=\"/tag/理财\" class=\"tag\">理财</a>\\n            </li>\\n            <li>\\n                <a href=\"/tag/股票\" class=\"tag\">股票</a>\\n            </li>\\n            <li class=\"last\">\\n                  <a href=\"/tag/企业史\" class=\"tag\">企业史</a>\\n            </li>\\n            <li class=\"last\">\\n                  <a href=\"/tag/?view=type&amp;icn=index-sorttags-hot#经管\" class=\"tag more_tag\">更多»</a>\\n            </li>\\n        </ul>\\n    </li>\\n\\n      \\n    \\n\\n    <li>\\n        <ul class=\"clearfix\">\\n            <li class=\"tag_title\">\\n                科技\\n            </li>\\n            <li>\\n                <a href=\"/tag/科普\" class=\"tag\">科普</a>\\n            </li>\\n            <li>\\n                <a href=\"/tag/互联网\" class=\"tag\">互联网</a>\\n            </li>\\n            <li>\\n                <a href=\"/tag/编程\" class=\"tag\">编程</a>\\n            </li>\\n            <li class=\"last\">\\n                  <a href=\"/tag/交互设计\" class=\"tag\">交互设计</a>\\n            </li>\\n            <li>\\n                <a href=\"/tag/算法\" class=\"tag\">算法</a>\\n            </li>\\n            <li>\\n                <a href=\"/tag/通信\" class=\"tag\">通信</a>\\n            </li>\\n            <li>\\n                <a href=\"/tag/神经网络\" class=\"tag\">神经网络</a>\\n            </li>\\n            <li class=\"last\">\\n                  <a href=\"/tag/?view=type&amp;icn=index-sorttags-hot#科技\" class=\"tag more_tag\">更多»</a>\\n            </li>\\n        </ul>\\n    </li>\\n\\n  </ul>\\n\\n\\n  <!-- douban ad begin -->\\n  <div id=\"dale_book_homepage_right_bottom\" class=\"ad-placeholder\"></div>\\n  <!-- douban ad end -->\\n\\n    \\n<div class=\"section weekly-top\">\\n    <div class=\"hd\">\\n        <h2>畅销图书榜</h2>\\n    </div>\\n    <div class=\"bd\">\\n        <ul class=\"nav-vendor\">\\n            <li class=\"on book-chart-hd\" id=\"jd-book-chart-hd\">\\n                <img src=\"https://img3.doubanio.com/f/book/7fd9bf017a2b6c0349981f25700e2b71c12df7d0/pics/book/partner/jd_chart_hover.png\" width=\"18\" height=\"18\"/>\\n                <span>京东</span>\\n            </li>\\n            <li class=\"book-chart-hd\" id=\"dangdang-book-chart-hd\">\\n                <img src=\"https://img3.doubanio.com/f/book/31b437b71ced2d15e1e110d6be26b070da8c0d4a/pics/book/partner/dangdang_chart.png\" width=\"18\" height=\"18\"/>\\n                <span>当当</span>\\n            </li>\\n        </ul>\\n        \\n            <ul class=\"list list-ranking\">\\n                <li class=\"item\">\\n                    <span class=\"rank-num\">1.</span>\\n                    <div class=\"book-info\">\\n                        <a href=\"https://book.douban.com/subject/30388796/\" class=\"name\" target=\"_blank\">当动物有钱了</a>\\n                        <div class=\"author\"></div>\\n                    </div>\\n                    <a href=\"https://book.douban.com/link2/?pre=0&amp;vendor=jingdong&amp;srcpage=bestseller&amp;price=2270&amp;pos=1&amp;url=http%3A%2F%2Funion-click.jd.com%2Fjdc%3Fe%3D%26p%3DAyIHZRtYFAcXBFIZWR0yEgRXHVIcBRs3EUQDS10iXhBeGh4cDF8QTwcKWUcYB0UHCwIRBVMSUhILDV4QRwYlZxR0LH8sbmZ3Uzd7A3dUZXU8GT5cRB4LOxhaFQsSB1YdWBQyFQJSHVwcARU3VR9aEQYiN1Uaa0dsyrHjw%252F6kHsat2s7TgjITN1UfXhcAEQRSGVkXABU3UiuClbXEpcfCxZ%252FXmpBlK2slMiIHZRhrSkZPWmUa%26t%3DW1dCFBBFC1pXUwkEAEAdQFkJBVsWABQOXBxSCltXWwg%253D&amp;srcsubj=&amp;type=bkbuy&amp;subject=30388796\" target=\"_blank\"><span class=\"buy-button\">去购买</span></a>\\n                </li>\\n                <li class=\"item\">\\n                    <span class=\"rank-num\">2.</span>\\n                    <div class=\"book-info\">\\n                        <a href=\"https://book.douban.com/subject/10831090/\" class=\"name\" target=\"_blank\">我们的身体</a>\\n                        <div class=\"author\">帕斯卡尔·艾德兰</div>\\n                    </div>\\n                    <a href=\"https://book.douban.com/link2/?pre=0&amp;vendor=jingdong&amp;srcpage=bestseller&amp;price=11630&amp;pos=2&amp;url=http%3A%2F%2Funion-click.jd.com%2Fjdc%3Fe%3D%26p%3DAyIOZR5aEQISA1AYUyUCEg9UE1kTByJDCkMFSjJLQhBaUAscSkIBR0ROVw1VC0dFFQIaBl0ZXRAdS0IJRmtOdm1PEHIOVmdydVxBWFxrSmEWTC5DDh43Uh5cEwUbBFIrWxEDFgNlK1sUMkBpja3tzaejG4Gx1MCKhTdUK1sQCxsDUBhaEQMVA1crXCXbkrCDucnMnJjS3YxrJTIi%26t%3DW1dCFBBFC1pXUwkEAEAdQFkJBVsVChMPVx1eCltXWwg%253D&amp;srcsubj=&amp;type=bkbuy&amp;subject=10831090\" target=\"_blank\"><span class=\"buy-button\">去购买</span></a>\\n                </li>\\n                <li class=\"item\">\\n                    <span class=\"rank-num\">3.</span>\\n                    <div class=\"book-info\">\\n                        <a href=\"https://book.douban.com/subject/26278316/\" class=\"name\" target=\"_blank\">夏洛的网</a>\\n                        <div class=\"author\">[美] E·B·怀特</div>\\n                    </div>\\n                    <a href=\"https://book.douban.com/link2/?pre=0&amp;vendor=jingdong&amp;srcpage=bestseller&amp;price=2340&amp;pos=3&amp;url=http%3A%2F%2Funion-click.jd.com%2Fjdc%3Fe%3D%26p%3DAyIOZR5aEQISA1AYUyUCEgNUG1MVByJDCkMFSjJLQhBaUAscSkIBR0ROVw1VC0dFFQIWBlUTWxAdS0IJRmtCUEcED0ccTWFrV1McOHN%252FZgEpbChTDh43Uh5cEwUbBFIrWxEDFgNlK1sUMkBpja3tzaejG4Gx1MCKhTdUK1sQCxsDUBpfEwoSD1wrXCXbkrCDucnMnJjS3YxrJTIi%26t%3DW1dCFBBFC1pXUwkEAEAdQFkJBVsVBhMHXRteCltXWwg%253D&amp;srcsubj=&amp;type=bkbuy&amp;subject=26278316\" target=\"_blank\"><span class=\"buy-button\">去购买</span></a>\\n                </li>\\n                <li class=\"item\">\\n                    <span class=\"rank-num\">4.</span>\\n                    <div class=\"book-info\">\\n                        <a href=\"https://book.douban.com/subject/33379779/\" class=\"name\" target=\"_blank\">美国陷阱</a>\\n                        <div class=\"author\">[法] 弗雷德里克·皮耶鲁齐/[法] 马修·阿伦</div>\\n                    </div>\\n                    <a href=\"https://book.douban.com/link2/?pre=0&amp;vendor=jingdong&amp;srcpage=bestseller&amp;price=6190&amp;pos=4&amp;url=https%3A%2F%2Funion-click.jd.com%2Fjdc%3Fe%3D%26p%3DAyIHZRtYFAcXBFIZWR0yEgRRGlMRBho3EUQDS10iXhBeGlcJDBkNXg9JHUlSSkkFSRwSBFEaUxEGGhgMXgdIMnpiPXBBc0ZlZAMBW2F3aWVTeV5Cf1QLWStcEAUUAFwYXCUCFgZRH2slAhM3B3WDo7TKouQHj7%252BNx4%252FCK1olAhYDUxleFQURAlQbXyUFIt7VrI23kMuZ387TgjIiN2UraxUyETcKXwZIMhM%253D%26t%3DW1dCFFlQCxxKQgFHRE5XDVULR0UVARYGXR9fHR1LQglG&amp;srcsubj=&amp;type=bkbuy&amp;subject=33379779\" target=\"_blank\"><span class=\"buy-button\">去购买</span></a>\\n                </li>\\n                <li class=\"item\">\\n                    <span class=\"rank-num\">5.</span>\\n                    <div class=\"book-info\">\\n                        <a href=\"https://book.douban.com/subject/26428611/\" class=\"name\" target=\"_blank\">宫西达也恐龙系列</a>\\n                        <div class=\"author\">[日]宫西达也</div>\\n                    </div>\\n                    <a href=\"https://book.douban.com/link2/?pre=0&amp;vendor=jingdong&amp;srcpage=bestseller&amp;price=11590&amp;pos=5&amp;url=http%3A%2F%2Fitem.jd.com%2F12053830.html&amp;srcsubj=&amp;type=bkbuy&amp;subject=26428611\" target=\"_blank\"><span class=\"buy-button\">去购买</span></a>\\n                </li>\\n                <li class=\"item\">\\n                    <span class=\"rank-num\">6.</span>\\n                    <div class=\"book-info\">\\n                        <a href=\"https://book.douban.com/subject/1041482/\" class=\"name\" target=\"_blank\">万历十五年</a>\\n                        <div class=\"author\">[美] 黄仁宇</div>\\n                    </div>\\n                    <a href=\"https://book.douban.com/link2/?pre=0&amp;vendor=jingdong&amp;srcpage=bestseller&amp;price=2390&amp;pos=6&amp;url=http%3A%2F%2Funion-click.jd.com%2Fjdc%3Fe%3D%26p%3DAyIOZR5aEQISA1AYUyUCEgJWGlsdBiJDCkMFSjJLQhBaUAscSkIBR0ROVw1VC0dFFQIXBFQbUxEdS0IJRmtcV05RAkgAUWdLR1VQIUFeFAMRTyBDDh43Uh5cEwUbBFIrWxEDFgNlK1sUMkBpja3tzaejG4Gx1MCKhTdUK1sQCxsDUBtaEwIVAlUrXCXbkrCDucnMnJjS3YxrJTIi%26t%3DW1dCFBBFC1pXUwkEAEAdQFkJBVsVBxEGVRNfCltXWwg%253D&amp;srcsubj=&amp;type=bkbuy&amp;subject=1041482\" target=\"_blank\"><span class=\"buy-button\">去购买</span></a>\\n                </li>\\n                <li class=\"item\">\\n                    <span class=\"rank-num\">7.</span>\\n                    <div class=\"book-info\">\\n                        <a href=\"https://book.douban.com/subject/26995832/\" class=\"name\" target=\"_blank\">我不敢说，我怕被骂</a>\\n                        <div class=\"author\">皮姆·范·赫斯特/妮可·塔斯马</div>\\n                    </div>\\n                    <a href=\"https://book.douban.com/link2/?pre=0&amp;vendor=jingdong&amp;srcpage=bestseller&amp;price=3110&amp;pos=7&amp;url=http%3A%2F%2Funion-click.jd.com%2Fjdc%3Fe%3D%26p%3DAyIOZR5aEQISA1AYUyUCEQZTGVkdByJDCkMFSjJLQhBaUAscSkIBR0ROVw1VC0dFFQETAVcZUxAdS0IJRmt9VEdAMHAoHWJXYSteWF1ATl8hWyB1Dh43Uh5cEwUbBFIrWxEDFgNlK1sUMkBpja3tzaejG4Gx1MCKhTdUK1sQCxoCUx9aEAIVAFArXCXbkrCDucnMnJjS3YxrJTIi%26t%3DW1dCFBBFC1pXUwkEAEAdQFkJBVsWAxQFVxNeCltXWwg%253D&amp;srcsubj=&amp;type=bkbuy&amp;subject=26995832\" target=\"_blank\"><span class=\"buy-button\">去购买</span></a>\\n                </li>\\n                <li class=\"item\">\\n                    <span class=\"rank-num\">8.</span>\\n                    <div class=\"book-info\">\\n                        <a href=\"https://book.douban.com/subject/30203254/\" class=\"name\" target=\"_blank\">窗边的小豆豆</a>\\n                        <div class=\"author\">（日）黑柳彻子</div>\\n                    </div>\\n                    <a href=\"https://book.douban.com/link2/?pre=0&amp;vendor=jingdong&amp;srcpage=bestseller&amp;price=3790&amp;pos=8&amp;url=http%3A%2F%2Funion-click.jd.com%2Fjdc%3Fe%3D%26p%3DAyIHZRtYFAcXBFIZWR0yEgRXH1MSAhs3EUQDS10iXhBeGh4cDF8QTwcKWUcYB0UHCwIRBVETXBULDV4QRwYlYmECUHtfRUF3TxFzDEdfEEwoYwV8VB4LOxhaFQsOBlIHWxwTEQdeGFMeAxs3Uh5cEwUbBFIrWxEDFgNlK1sUMkBpja3tzaejG4Gx1MCKhTdUK1sRARoFVhJfEAsSDlUrXCXbkrCDucnMnJjS3YxrJTIiN2UbaxY%253D%26t%3DW1dCFBBFC1pXUwkEAEAdQFkJBVsWABYPUhtSCltXWwg%253D&amp;srcsubj=&amp;type=bkbuy&amp;subject=30203254\" target=\"_blank\"><span class=\"buy-button\">去购买</span></a>\\n                </li>\\n                <li class=\"item\">\\n                    <span class=\"rank-num\">9.</span>\\n                    <div class=\"book-info\">\\n                        <a href=\"https://book.douban.com/subject/26685750/\" class=\"name\" target=\"_blank\">一堆好朋友</a>\\n                        <div class=\"author\">[德]凯瑟提恩·舍尼</div>\\n                    </div>\\n                    <a href=\"https://book.douban.com/link2/?pre=0&amp;vendor=jingdong&amp;srcpage=bestseller&amp;price=2880&amp;pos=9&amp;url=http%3A%2F%2Funion-click.jd.com%2Fjdc%3Fe%3D%26p%3DAyIOZR5aEQISA1AYUyUCEgNdHFkWAiJDCkMFSjJLQhBaUAscSkIBR0ROVw1VC0dFFQIWD1IZWBUdS0IJRmtRe0hdDxw5fGB5eTRlPU1qS3wUHV1TDh43Uh5cEwUbBFIrWxEDFgNlK1sUMkBpja3tzaejG4Gx1MCKhTdUK1sQCxsAXRJYEgEVAFMrXCXbkrCDucnMnJjS3YxrJTIi%26t%3DW1dCFBBFC1pXUwkEAEAdQFkJBVsVBhoAVxhbCltXWwg%253D&amp;srcsubj=&amp;type=bkbuy&amp;subject=26685750\" target=\"_blank\"><span class=\"buy-button\">去购买</span></a>\\n                </li>\\n                <li class=\"item\">\\n                    <span class=\"rank-num\">10.</span>\\n                    <div class=\"book-info\">\\n                        <a href=\"https://book.douban.com/subject/30335893/\" class=\"name\" target=\"_blank\">一看就停不下来的中国史</a>\\n                        <div class=\"author\">最爱君</div>\\n                    </div>\\n                    <a href=\"https://book.douban.com/link2/?pre=0&amp;vendor=jingdong&amp;srcpage=bestseller&amp;price=3740&amp;pos=10&amp;url=http%3A%2F%2Funion-click.jd.com%2Fjdc%3Fe%3D%26p%3DAyIHZRtYFAcXBFIZWR0yEgRQGV4VBRY3EUQDS10iXhBeGh4cDF8QTwcKWUcYB0UHCwIRAlceWxIGDV4QRwYldlBQFXgrZlJxehVaWWtZElUPUBhXRB4LOxhaFQsOB1QHWhITEg9eHloeBxc3Uh5cEwUbBFIrWxEDFgNlK1sUMkBpja3tzaejG4Gx1MCKhTdUK1sRABsOVhxaEAcSB1ErXCXbkrCDucnMnJjS3YxrJTIiN2UbaxYyTUMIRg%253D%253D%26t%3DW1dCFBBFC1pXUwkEAEAdQFkJBVsWBxACVRxfCltXWwg%253D&amp;srcsubj=&amp;type=bkbuy&amp;subject=30335893\" target=\"_blank\"><span class=\"buy-button\">去购买</span></a>\\n                </li>\\n            </ul>\\n            <ul class=\"list list-ranking\">\\n                <li class=\"item\">\\n                    <span class=\"rank-num\">1.</span>\\n                    <div class=\"book-info\">\\n                        <a href=\"https://book.douban.com/subject/26647769/\" class=\"name\" target=\"_blank\">人间失格</a>\\n                        <div class=\"author\">太宰治</div>\\n                    </div>\\n                    <a href=\"\" target=\"_blank\"><span class=\"buy-button\">去购买</span></a>\\n                </li>\\n                <li class=\"item\">\\n                    <span class=\"rank-num\">2.</span>\\n                    <div class=\"book-info\">\\n                        <a href=\"https://book.douban.com/subject/30162713/\" class=\"name\" target=\"_blank\">流浪的地球</a>\\n                        <div class=\"author\">刘慈欣</div>\\n                    </div>\\n                    <a href=\"\" target=\"_blank\"><span class=\"buy-button\">去购买</span></a>\\n                </li>\\n                <li class=\"item\">\\n                    <span class=\"rank-num\">3.</span>\\n                    <div class=\"book-info\">\\n                        <a href=\"https://book.douban.com/subject/4913064/\" class=\"name\" target=\"_blank\">活着</a>\\n                        <div class=\"author\">余华</div>\\n                    </div>\\n                    <a href=\"\" target=\"_blank\"><span class=\"buy-button\">去购买</span></a>\\n                </li>\\n                <li class=\"item\">\\n                    <span class=\"rank-num\">4.</span>\\n                    <div class=\"book-info\">\\n                        <a href=\"https://book.douban.com/subject/30419261/\" class=\"name\" target=\"_blank\">天才在左，疯子在右</a>\\n                        <div class=\"author\">高铭</div>\\n                    </div>\\n                    <a href=\"\" target=\"_blank\"><span class=\"buy-button\">去购买</span></a>\\n                </li>\\n                <li class=\"item\">\\n                    <span class=\"rank-num\">5.</span>\\n                    <div class=\"book-info\">\\n                        <a href=\"https://book.douban.com/subject/25969064/\" class=\"name\" target=\"_blank\">神奇校车 桥梁书版</a>\\n                        <div class=\"author\">乔安娜柯尔\\u3000著/布鲁斯迪根 图</div>\\n                    </div>\\n                    <a href=\"\" target=\"_blank\"><span class=\"buy-button\">去购买</span></a>\\n                </li>\\n                <li class=\"item\">\\n                    <span class=\"rank-num\">6.</span>\\n                    <div class=\"book-info\">\\n                        <a href=\"https://book.douban.com/subject/30264297/\" class=\"name\" target=\"_blank\">万般滋味，都是生活：丰子恺散文漫画精选集</a>\\n                        <div class=\"author\">丰子恺</div>\\n                    </div>\\n                    <a href=\"\" target=\"_blank\"><span class=\"buy-button\">去购买</span></a>\\n                </li>\\n                <li class=\"item\">\\n                    <span class=\"rank-num\">7.</span>\\n                    <div class=\"book-info\">\\n                        <a href=\"https://book.douban.com/subject/26954760/\" class=\"name\" target=\"_blank\">月亮与六便士</a>\\n                        <div class=\"author\">[英] 威廉·萨默塞特·毛姆</div>\\n                    </div>\\n                    <a href=\"https://book.douban.com/link2/?pre=0&amp;vendor=dangdang&amp;srcpage=bestseller&amp;price=1989&amp;pos=7&amp;url=http%3A%2F%2Funion.dangdang.com%2Ftransfer.php%3Ffrom%3DP-306226-0-s26954760%26backurl%3Dhttp%3A%2F%2Fproduct.dangdang.com%2Fproduct.aspx%3Fproduct_id%3D24175371&amp;srcsubj=&amp;type=bkbuy&amp;subject=26954760\" target=\"_blank\"><span class=\"buy-button\">去购买</span></a>\\n                </li>\\n                <li class=\"item\">\\n                    <span class=\"rank-num\">8.</span>\\n                    <div class=\"book-info\">\\n                        <a href=\"https://book.douban.com/subject/26968034/\" class=\"name\" target=\"_blank\">正面管教</a>\\n                        <div class=\"author\">简·尼尔森 (Jane Nelsen)</div>\\n                    </div>\\n                    <a href=\"\" target=\"_blank\"><span class=\"buy-button\">去购买</span></a>\\n                </li>\\n                <li class=\"item\">\\n                    <span class=\"rank-num\">9.</span>\\n                    <div class=\"book-info\">\\n                        <a href=\"https://book.douban.com/subject/2274208/\" class=\"name\" target=\"_blank\">小熊和最好的爸爸（全7册）</a>\\n                        <div class=\"author\">阿兰德·丹姆 文/亚历克斯·沃尔弗 图</div>\\n                    </div>\\n                    <a href=\"\" target=\"_blank\"><span class=\"buy-button\">去购买</span></a>\\n                </li>\\n                <li class=\"item\">\\n                    <span class=\"rank-num\">10.</span>\\n                    <div class=\"book-info\">\\n                        <a href=\"https://book.douban.com/subject/27012154/\" class=\"name\" target=\"_blank\">我喜欢生命本来的样子</a>\\n                        <div class=\"author\">周国平</div>\\n                    </div>\\n                    <a href=\"\" target=\"_blank\"><span class=\"buy-button\">去购买</span></a>\\n                </li>\\n            </ul>\\n    </div>\\n</div>\\n\\n\\n\\n  <div class=\"block5\">\\n    \\n    \\n  <h2 class=\\'\\'>\\n    <span class=\"\">豆瓣图书250</span>\\n      <span class=\"link-more\">\\n        <a class=\"\" href=\"/top250?icn=index-book250-all\"\\n          >更多»</a>\\n      </span>\\n  </h2>\\n\\n    \\n    <div class=\"content clearfix s\" id=\"book_rec\"\\n      data-dstat-areaid=\"58\"\\n      data-dstat-mode=\"click,expose\">\\n          \\n    \\n    <dl>\\n      <dt>\\n        <a onclick=\"moreurl(this, {from:\\'top\\'})\" href=\"https://book.douban.com/subject/3259440/?icn=index-book250-subject\">\\n          <img src=\"https://img3.doubanio.com/view/subject/m/public/s4610502.jpg\" class=\"m_sub_img\">\\n        </a>\\n      </dt>\\n      <dd>\\n        <a onclick=\"moreurl(this, {from:\\'top\\'})\" href=\"https://book.douban.com/subject/3259440/?icn=index-book250-subject\">\\n          白夜行\\n        </a>\\n        <p class=\"extra-info\">\\n          \\n  \\n        </p>\\n      </dd>\\n    </dl>\\n    \\n    <dl>\\n      <dt>\\n        <a onclick=\"moreurl(this, {from:\\'top\\'})\" href=\"https://book.douban.com/subject/1003000/?icn=index-book250-subject\">\\n          <img src=\"https://img3.doubanio.com/view/subject/m/public/s9026255.jpg\" class=\"m_sub_img\">\\n        </a>\\n      </dt>\\n      <dd>\\n        <a onclick=\"moreurl(this, {from:\\'top\\'})\" href=\"https://book.douban.com/subject/1003000/?icn=index-book250-subject\">\\n          悟空传\\n        </a>\\n        <p class=\"extra-info\">\\n          \\n  \\n        </p>\\n      </dd>\\n    </dl>\\n    \\n    <dl>\\n      <dt>\\n        <a onclick=\"moreurl(this, {from:\\'top\\'})\" href=\"https://book.douban.com/subject/1090043/?icn=index-book250-subject\">\\n          <img src=\"https://img3.doubanio.com/view/subject/m/public/s1077102.jpg\" class=\"m_sub_img\">\\n        </a>\\n      </dt>\\n      <dd>\\n        <a onclick=\"moreurl(this, {from:\\'top\\'})\" href=\"https://book.douban.com/subject/1090043/?icn=index-book250-subject\">\\n          倾城之恋\\n        </a>\\n        <p class=\"extra-info\">\\n          \\n  \\n        </p>\\n      </dd>\\n    </dl>\\n      <div class=\"clearfix rr\" style=\"width:100%\"></div>\\n    \\n    <dl>\\n      <dt>\\n        <a onclick=\"moreurl(this, {from:\\'top\\'})\" href=\"https://book.douban.com/subject/1045818/?icn=index-book250-subject\">\\n          <img src=\"https://img3.doubanio.com/view/subject/m/public/s2153661.jpg\" class=\"m_sub_img\">\\n        </a>\\n      </dt>\\n      <dd>\\n        <a onclick=\"moreurl(this, {from:\\'top\\'})\" href=\"https://book.douban.com/subject/1045818/?icn=index-book250-subject\">\\n          苏菲的世界\\n        </a>\\n        <p class=\"extra-info\">\\n          \\n  \\n        </p>\\n      </dd>\\n    </dl>\\n    \\n    <dl>\\n      <dt>\\n        <a onclick=\"moreurl(this, {from:\\'top\\'})\" href=\"https://book.douban.com/subject/1020670/?icn=index-book250-subject\">\\n          <img src=\"https://img3.doubanio.com/view/subject/m/public/s1231290.jpg\" class=\"m_sub_img\">\\n        </a>\\n      </dt>\\n      <dd>\\n        <a onclick=\"moreurl(this, {from:\\'top\\'})\" href=\"https://book.douban.com/subject/1020670/?icn=index-book250-subject\">\\n          舞！舞！舞！\\n        </a>\\n        <p class=\"extra-info\">\\n          \\n  \\n        </p>\\n      </dd>\\n    </dl>\\n    \\n    <dl>\\n      <dt>\\n        <a onclick=\"moreurl(this, {from:\\'top\\'})\" href=\"https://book.douban.com/subject/26698660/?icn=index-book250-subject\">\\n          <img src=\"https://img3.doubanio.com/view/subject/m/public/s28668834.jpg\" class=\"m_sub_img\">\\n        </a>\\n      </dt>\\n      <dd>\\n        <a onclick=\"moreurl(this, {from:\\'top\\'})\" href=\"https://book.douban.com/subject/26698660/?icn=index-book250-subject\">\\n          巨人的陨落\\n        </a>\\n        <p class=\"extra-info\">\\n          \\n  \\n  <span class=\"meta-label\">\\n    有电子书\\n  </span>\\n\\n        </p>\\n      </dd>\\n    </dl>\\n      <div class=\"clearfix rr\" style=\"width:100%\"></div>\\n    \\n    <dl>\\n      <dt>\\n        <a onclick=\"moreurl(this, {from:\\'top\\'})\" href=\"https://book.douban.com/subject/1035848/?icn=index-book250-subject\">\\n          <img src=\"https://img1.doubanio.com/view/subject/m/public/s1070937.jpg\" class=\"m_sub_img\">\\n        </a>\\n      </dt>\\n      <dd>\\n        <a onclick=\"moreurl(this, {from:\\'top\\'})\" href=\"https://book.douban.com/subject/1035848/?icn=index-book250-subject\">\\n          一千零一夜\\n        </a>\\n        <p class=\"extra-info\">\\n          \\n  \\n        </p>\\n      </dd>\\n    </dl>\\n    \\n    <dl>\\n      <dt>\\n        <a onclick=\"moreurl(this, {from:\\'top\\'})\" href=\"https://book.douban.com/subject/1882933/?icn=index-book250-subject\">\\n          <img src=\"https://img3.doubanio.com/view/subject/m/public/s2001786.jpg\" class=\"m_sub_img\">\\n        </a>\\n      </dt>\\n      <dd>\\n        <a onclick=\"moreurl(this, {from:\\'top\\'})\" href=\"https://book.douban.com/subject/1882933/?icn=index-book250-subject\">\\n          鬼吹灯之精绝古城\\n        </a>\\n        <p class=\"extra-info\">\\n          \\n  \\n        </p>\\n      </dd>\\n    </dl>\\n    \\n    <dl>\\n      <dt>\\n        <a onclick=\"moreurl(this, {from:\\'top\\'})\" href=\"https://book.douban.com/subject/2340100/?icn=index-book250-subject\">\\n          <img src=\"https://img3.doubanio.com/view/subject/m/public/s3403254.jpg\" class=\"m_sub_img\">\\n        </a>\\n      </dt>\\n      <dd>\\n        <a onclick=\"moreurl(this, {from:\\'top\\'})\" href=\"https://book.douban.com/subject/2340100/?icn=index-book250-subject\">\\n          遇见未知的自己\\n        </a>\\n        <p class=\"extra-info\">\\n          \\n  \\n        </p>\\n      </dd>\\n    </dl>\\n      <div class=\"clearfix rr\" style=\"width:100%\"></div>\\n\\n    </div>\\n  </div>\\n\\n  \\n  <div class=\"contact\">\\n    <h2>联系我们</h2>\\n    <ul class=\"apply-links\">\\n      <li>\\n        合作联系：<img src=\"https://img3.doubanio.com/f/book/6a8e1160fbccbaa8c13ddf72e22145056bda0ba4/pics/book/email_book.png\" />\\n      </li>\\n    </ul>\\n  </div>\\n\\n\\n  <div class=\"contact mod\">\\n      <h2>关注我们</h2>\\n      <ul class=\"embassy-list clearfix\">\\n          <li>\\n              <a href=\"https://site.douban.com/book/\" target=\"_blank\" class=\"icon-embassy-site\"></a>\\n              <a href=\"https://site.douban.com/book/\" target=\"_blank\" class=\"primary-link\">豆瓣小站</a>\\n          </li>\\n          <li>\\n              <a href=\"http://weibo.com/doubandushu\" target=\"_blank\" class=\"icon-embassy-weibo\"></a>\\n              <a href=\"http://weibo.com/doubandushu\" target=\"_blank\" class=\"primary-link\">微博</a>\\n          </li>\\n          <li>\\n              <a class=\"icon-embassy-weixin\">\\n                  <div class=\"hover\"><img class=\"home-qrcode\" src=\"https://img3.doubanio.com/f/book/ee2d0bf8adc46ee0e1a53c28abf41a7a3b589e54/pics/book/home_qrcode@2x.jpg\"></div>\\n              </a>\\n              <a class=\"primary-link\" href=\"javascript:;\">微信</a>\\n          </li>\\n      </ul>\\n  </div>\\n  <!-- douban app begin -->\\n  <div class=\"s\" data-dstat-areaid=\"60\" data-dstat-mode=\"click,expose\">\\n    <!-- douban ad begin -->\\n    <div id=\"dale_book_home_inner_middle\"></div>\\n    <div id=\"dale_book_home_download_middle\"></div>\\n    <!-- douban ad end -->\\n  </div>\\n  <!-- douban app end -->\\n\\n  <!-- douban ad begin -->\\n  <div id=\"dale_book_home_bottem_right\" class=\"ad-placeholder\"></div>\\n  <!-- douban ad end -->\\n\\n      </div>\\n      <div class=\"extra\">\\n        \\n  <!-- douban ad begin -->\\n  <div id=\"dale_book_home_bottom_super_banner\" class=\"ad-placeholder\"></div>\\n  <!-- douban app end -->\\n\\n      </div>\\n    </div>\\n  </div>\\n\\n    \\n  <div id=\"footer\">\\n    \\n<span id=\"icp\" class=\"fleft gray-link\">\\n    &copy; 2005－2019 douban.com, all rights reserved 北京豆网科技有限公司\\n</span>\\n\\n<a href=\"https://www.douban.com/hnypt/variformcyst.py\" style=\"display: none;\"></a>\\n\\n<span class=\"fright\">\\n    <a href=\"https://www.douban.com/about\">关于豆瓣</a>\\n    · <a href=\"https://www.douban.com/jobs\">在豆瓣工作</a>\\n    · <a href=\"https://www.douban.com/about?topic=contactus\">联系我们</a>\\n    · <a href=\"https://www.douban.com/about/legal\">法律声明</a>\\n    \\n    · <a href=\"https://help.douban.com/?app=book\" target=\"_blank\">帮助中心</a>\\n    · <a href=\"https://book.douban.com/library_invitation\">图书馆合作</a>\\n    · <a href=\"https://www.douban.com/doubanapp/\">移动应用</a>\\n    · <a href=\"https://www.douban.com/partner/\">豆瓣广告</a>\\n</span>\\n\\n    <script src=\"https://img3.doubanio.com/f/book/7495d157b1564be6aae1d21c79280b5ea374400a/js/book/lib/do/init.js\"\\n      data-cfg-corelib=\"https://img3.doubanio.com/f/book/0495cb173e298c28593766009c7b0a953246c5b5/js/book/lib/jquery/jquery.js\">\\n    </script>\\n  </div>\\n\\n  </div>\\n    \\n  \\n\\n  <script type=\"text/javascript\" src=\"https://img3.doubanio.com/misc/mixed_static/14a849b70e265daa.js\"></script>\\n  <!-- mako -->\\n  \\n\\n<script>\\n  window.user_id = window.user_id || \\'\\'\\n  define.config({\\n    \\'ui/slide\\': \\'Book.slide\\'\\n  , \\'ui/bubble\\': \\'Book.Bubble\\'\\n  })\\n  Do.add(\\'book/index\\', { path: \\'https://img3.doubanio.com/f/book/50b2790ba59deba551045acc3fd335f868155ec8/js/book/index.js\\' })\\n  Do.add(\\'ui/slide\\', { path: \\'https://img3.doubanio.com/f/book/2f473e3eae1803f9e743ea632607ad4f9677fb3b/js/book/ui/slide.js\\' })\\n  Do.add(\\'ui/bubble\\', { path: \\'https://img3.doubanio.com/f/book/95c407df830e0ab6119ed622ee42033acf0af414/js/book/ui/bubble.js\\' })\\n  Do.add(\\'widget/tabs\\', { path: \\'https://img3.doubanio.com/f/book/1c240c18b397f6c8583254c27b9c1f1ecebb6075/js/book/widget/tabs.js\\' })\\n  Do(\\'book/index\\')\\n</script>\\n  <!-- douban ad begin -->\\n  \\n  \\n\\n\\n\\n\\n    \\n<script type=\"text/javascript\">\\n    (function (global) {\\n        var newNode = global.document.createElement(\\'script\\'),\\n            existingNode = global.document.getElementsByTagName(\\'script\\')[0],\\n            adSource = \\'//erebor.douban.com/\\',\\n            userId = \\'\\',\\n            browserId = \\'-D99dx_YJps\\',\\n            criteria = \\'3:/\\',\\n            preview = \\'\\',\\n            debug = false,\\n            adSlots = [\\'dale_book_home_top_right\\', \\'dale_book_home_top_right2\\', \\'dale_book_home_left_middle\\', \\'dale_book_home_bottem_right\\', \\'dale_book_home_top_super_banner\\', \\'dale_book_home_left_top\\', \\'dale_book_homepage_right_bottom\\', \\'dale_book_home_inner_middle\\', \\'dale_book_home_download_middle\\', \\'dale_book_home_bottom_super_banner\\'];\\n\\n        global.DoubanAdRequest = {src: adSource, uid: userId, bid: browserId, crtr: criteria, prv: preview, debug: debug};\\n        global.DoubanAdSlots = (global.DoubanAdSlots || []).concat(adSlots);\\n\\n        newNode.setAttribute(\\'type\\', \\'text/javascript\\');\\n        newNode.setAttribute(\\'src\\', \\'https://img3.doubanio.com/f/adjs/b2a623018cd76036bb32ad74c28ea231fb2aa462/ad.release.js\\');\\n        newNode.setAttribute(\\'async\\', true);\\n        existingNode.parentNode.insertBefore(newNode, existingNode);\\n    })(this);\\n</script>\\n\\n\\n\\n\\n\\n\\n\\n\\n\\n\\n  <!-- douban ad end -->\\n\\n  \\n  \\n  \\n\\n<script type=\"text/javascript\">\\n  var _paq = _paq || [];\\n  _paq.push([\\'trackPageView\\']);\\n  _paq.push([\\'enableLinkTracking\\']);\\n  (function() {\\n    var p=((\\'https:\\' == document.location.protocol) ? \\'https\\' : \\'http\\'), u=p+\\'://fundin.douban.com/\\';\\n    _paq.push([\\'setTrackerUrl\\', u+\\'piwik\\']);\\n    _paq.push([\\'setSiteId\\', \\'100001\\']);\\n    var d=document, g=d.createElement(\\'script\\'), s=d.getElementsByTagName(\\'script\\')[0]; \\n    g.type=\\'text/javascript\\';\\n    g.defer=true; \\n    g.async=true; \\n    g.src=p+\\'://s.doubanio.com/dae/fundin/piwik.js\\';\\n    s.parentNode.insertBefore(g,s);\\n  })();\\n</script>\\n\\n<script type=\"text/javascript\">\\nvar setMethodWithNs = function(namespace) {\\n  var ns = namespace ? namespace + \\'.\\' : \\'\\'\\n    , fn = function(string) {\\n        if(!ns) {return string}\\n        return ns + string\\n      }\\n  return fn\\n}\\n\\nvar gaWithNamespace = function(fn, namespace) {\\n  var method = setMethodWithNs(namespace)\\n  fn.call(this, method)\\n}\\n\\nvar _gaq = _gaq || []\\n  , accounts = [\\n      { id: \\'UA-7019765-1\\', namespace: \\'douban\\' }\\n    , { id: \\'UA-7019765-16\\', namespace: \\'\\' }\\n    ]\\n  , gaInit = function(account) {\\n      gaWithNamespace(function(method) {\\n        gaInitFn.call(this, method, account)\\n      }, account.namespace)\\n    }\\n  , gaInitFn = function(method, account) {\\n      _gaq.push([method(\\'_setAccount\\'), account.id])\\n\\n      \\n  _gaq.push([method(\\'_addOrganic\\'), \\'google\\', \\'q\\'])\\n  _gaq.push([method(\\'_addOrganic\\'), \\'baidu\\', \\'wd\\'])\\n  _gaq.push([method(\\'_addOrganic\\'), \\'soso\\', \\'w\\'])\\n  _gaq.push([method(\\'_addOrganic\\'), \\'youdao\\', \\'q\\'])\\n  _gaq.push([method(\\'_addOrganic\\'), \\'so.360.cn\\', \\'q\\'])\\n  _gaq.push([method(\\'_addOrganic\\'), \\'sogou\\', \\'query\\'])\\n  if (account.namespace) {\\n    _gaq.push([method(\\'_addIgnoredOrganic\\'), \\'豆瓣\\'])\\n    _gaq.push([method(\\'_addIgnoredOrganic\\'), \\'douban\\'])\\n    _gaq.push([method(\\'_addIgnoredOrganic\\'), \\'豆瓣网\\'])\\n    _gaq.push([method(\\'_addIgnoredOrganic\\'), \\'www.douban.com\\'])\\n  }\\n\\n      if (account.namespace === \\'douban\\') {\\n        _gaq.push([method(\\'_setDomainName\\'), \\'.douban.com\\'])\\n      }\\n\\n        _gaq.push([method(\\'_setCustomVar\\'), 1, \\'responsive_view_mode\\', \\'desktop\\', 3])\\n\\n        _gaq.push([method(\\'_setCustomVar\\'), 2, \\'login_status\\', \\'0\\', 2]);\\n\\n      _gaq.push([method(\\'_trackPageview\\')])\\n    }\\n\\nfor(var i = 0, l = accounts.length; i < l; i++) {\\n  var account = accounts[i]\\n  gaInit(account)\\n}\\n\\n\\n;(function() {\\n    var ga = document.createElement(\\'script\\');\\n    ga.src = (\\'https:\\' == document.location.protocol ? \\'https://ssl\\' : \\'http://www\\') + \\'.google-analytics.com/ga.js\\';\\n    ga.setAttribute(\\'async\\', \\'true\\');\\n    document.documentElement.firstChild.appendChild(ga);\\n})()\\n</script>\\n\\n\\n\\n\\n\\n\\n\\n\\n\\n  <!-- brand36-docker-->\\n\\n  </body>\\n</html>\\n\\n\\n\\n\\n\\n\\n\\n\\n\\n\\n\\n\\n\\n\\n\\n\\n\\n\\n\\n\\n\\n\\n\\n\\n\\n\\n\\n\\n\\n\\n\\n\\n\\n\\n\\n\\n\\n'"
      ]
     },
     "execution_count": 31,
     "metadata": {},
     "output_type": "execute_result"
    }
   ],
   "source": [
    "response.text"
   ]
  },
  {
   "cell_type": "markdown",
   "metadata": {},
   "source": [
    "### 校验数字的表达式"
   ]
  },
  {
   "cell_type": "markdown",
   "metadata": {},
   "source": [
    "```\n",
    "1 数字：^[0-9]*$\n",
    " 2 n位的数字：^\\d{n}$\n",
    " 3 至少n位的数字：^\\d{n,}$\n",
    " 4 m-n位的数字：^\\d{m,n}$\n",
    " 5 零和非零开头的数字：^(0|[1-9][0-9]*)$\n",
    " 6 非零开头的最多带两位小数的数字：^([1-9][0-9]*)+(.[0-9]{1,2})?$\n",
    " 7 带1-2位小数的正数或负数：^(\\-)?\\d+(\\.\\d{1,2})?$\n",
    " 8 正数、负数、和小数：^(\\-|\\+)?\\d+(\\.\\d+)?$\n",
    " 9 有两位小数的正实数：^[0-9]+(.[0-9]{2})?$\n",
    "10 有1~3位小数的正实数：^[0-9]+(.[0-9]{1,3})?$\n",
    "11 非零的正整数：^[1-9]\\d*$ 或 ^([1-9][0-9]*){1,3}$ 或 ^\\+?[1-9][0-9]*$\n",
    "12 非零的负整数：^\\-[1-9][]0-9\"*$ 或 ^-[1-9]\\d*$\n",
    "13 非负整数：^\\d+$ 或 ^[1-9]\\d*|0$\n",
    "14 非正整数：^-[1-9]\\d*|0$ 或 ^((-\\d+)|(0+))$\n",
    "15 非负浮点数：^\\d+(\\.\\d+)?$ 或 ^[1-9]\\d*\\.\\d*|0\\.\\d*[1-9]\\d*|0?\\.0+|0$\n",
    "16 非正浮点数：^((-\\d+(\\.\\d+)?)|(0+(\\.0+)?))$ 或 ^(-([1-9]\\d*\\.\\d*|0\\.\\d*[1-9]\\d*))|0?\\.0+|0$\n",
    "17 正浮点数：^[1-9]\\d*\\.\\d*|0\\.\\d*[1-9]\\d*$ 或 ^(([0-9]+\\.[0-9]*[1-9][0-9]*)|([0-9]*[1-9][0-9]*\\.[0-9]+)|([0-9]*[1-9][0-9]*))$\n",
    "18 负浮点数：^-([1-9]\\d*\\.\\d*|0\\.\\d*[1-9]\\d*)$ 或 ^(-(([0-9]+\\.[0-9]*[1-9][0-9]*)|([0-9]*[1-9][0-9]*\\.[0-9]+)|([0-9]*[1-9][0-9]*)))$\n",
    "19 浮点数：^(-?\\d+)(\\.\\d+)?$ 或 ^-?([1-9]\\d*\\.\\d*|0\\.\\d*[1-9]\\d*|0?\\.0+|0)$\n",
    "\n",
    "```"
   ]
  },
  {
   "cell_type": "markdown",
   "metadata": {},
   "source": [
    "### 校验字符的表达式"
   ]
  },
  {
   "cell_type": "markdown",
   "metadata": {},
   "source": [
    "```\n",
    " 1 汉字：^[\\u4e00-\\u9fa5]{0,}$\n",
    " 2 英文和数字：^[A-Za-z0-9]+$ 或 ^[A-Za-z0-9]{4,40}$\n",
    " 3 长度为3-20的所有字符：^.{3,20}$\n",
    " 4 由26个英文字母组成的字符串：^[A-Za-z]+$\n",
    " 5 由26个大写英文字母组成的字符串：^[A-Z]+$\n",
    " 6 由26个小写英文字母组成的字符串：^[a-z]+$\n",
    " 7 由数字和26个英文字母组成的字符串：^[A-Za-z0-9]+$\n",
    " 8 由数字、26个英文字母或者下划线组成的字符串：^\\w+$ 或 ^\\w{3,20}$\n",
    " 9 中文、英文、数字包括下划线：^[\\u4E00-\\u9FA5A-Za-z0-9_]+$\n",
    "10 中文、英文、数字但不包括下划线等符号：^[\\u4E00-\\u9FA5A-Za-z0-9]+$ 或 ^[\\u4E00-\\u9FA5A-Za-z0-9]{2,20}$\n",
    "11 可以输入含有^%&',;=?$\\\"等字符：[^%&',;=?$\\x22]+\n",
    "12 禁止输入含有~的字符：[^~\\x22]+\n",
    "```"
   ]
  },
  {
   "cell_type": "markdown",
   "metadata": {},
   "source": [
    "### 特殊需求表达式\n",
    "\n",
    "```\n",
    " 1 Email地址：^\\w+([-+.]\\w+)*@\\w+([-.]\\w+)*\\.\\w+([-.]\\w+)*$\n",
    " 2 域名：[a-zA-Z0-9][-a-zA-Z0-9]{0,62}(/.[a-zA-Z0-9][-a-zA-Z0-9]{0,62})+/.?\n",
    " 3 InternetURL：[a-zA-z]+://[^\\s]* 或 ^http://([\\w-]+\\.)+[\\w-]+(/[\\w-./?%&=]*)?$\n",
    " 4 手机号码：^(13[0-9]|14[0-9]|15[0-9]|16[0-9]|17[0-9]|18[0-9]|19[0-9])\\d{8}$ (由于工信部放号段不定时，所以建议使用泛解析 ^([1][3,4,5,6,7,8,9])\\d{9}$)\n",
    " 5 电话号码(\"XXX-XXXXXXX\"、\"XXXX-XXXXXXXX\"、\"XXX-XXXXXXX\"、\"XXX-XXXXXXXX\"、\"XXXXXXX\"和\"XXXXXXXX)：^(\\(\\d{3,4}-)|\\d{3.4}-)?\\d{7,8}$ \n",
    " 6 国内电话号码(0511-4405222、021-87888822)：\\d{3}-\\d{8}|\\d{4}-\\d{7} \n",
    " 7 18位身份证号码(数字、字母x结尾)：^((\\d{18})|([0-9x]{18})|([0-9X]{18}))$\n",
    " 8 帐号是否合法(字母开头，允许5-16字节，允许字母数字下划线)：^[a-zA-Z][a-zA-Z0-9_]{4,15}$\n",
    " 9 密码(以字母开头，长度在6~18之间，只能包含字母、数字和下划线)：^[a-zA-Z]\\w{5,17}$\n",
    "10 强密码(必须包含大小写字母和数字的组合，不能使用特殊字符，长度在8-10之间)：^(?=.*\\d)(?=.*[a-z])(?=.*[A-Z]).{8,10}$  \n",
    "11 日期格式：^\\d{4}-\\d{1,2}-\\d{1,2}\n",
    "12 一年的12个月(01～09和1～12)：^(0?[1-9]|1[0-2])$\n",
    "13 一个月的31天(01～09和1～31)：^((0?[1-9])|((1|2)[0-9])|30|31)$ \n",
    "14 钱的输入格式：\n",
    "15    1.有四种钱的表示形式我们可以接受:\"10000.00\" 和 \"10,000.00\", 和没有 \"分\" 的 \"10000\" 和 \"10,000\"：^[1-9][0-9]*$ \n",
    "16    2.这表示任意一个不以0开头的数字,但是,这也意味着一个字符\"0\"不通过,所以我们采用下面的形式：^(0|[1-9][0-9]*)$ \n",
    "17    3.一个0或者一个不以0开头的数字.我们还可以允许开头有一个负号：^(0|-?[1-9][0-9]*)$ \n",
    "18    4.这表示一个0或者一个可能为负的开头不为0的数字.让用户以0开头好了.把负号的也去掉,因为钱总不能是负的吧.下面我们要加的是说明可能的小数部分：^[0-9]+(.[0-9]+)?$ \n",
    "19    5.必须说明的是,小数点后面至少应该有1位数,所以\"10.\"是不通过的,但是 \"10\" 和 \"10.2\" 是通过的：^[0-9]+(.[0-9]{2})?$ \n",
    "20    6.这样我们规定小数点后面必须有两位,如果你认为太苛刻了,可以这样：^[0-9]+(.[0-9]{1,2})?$ \n",
    "21    7.这样就允许用户只写一位小数.下面我们该考虑数字中的逗号了,我们可以这样：^[0-9]{1,3}(,[0-9]{3})*(.[0-9]{1,2})?$ \n",
    "22    8.1到3个数字,后面跟着任意个 逗号+3个数字,逗号成为可选,而不是必须：^([0-9]+|[0-9]{1,3}(,[0-9]{3})*)(.[0-9]{1,2})?$ \n",
    "23    备注：这就是最终结果了,别忘了\"+\"可以用\"*\"替代如果你觉得空字符串也可以接受的话(奇怪,为什么?)最后,别忘了在用函数时去掉去掉那个反斜杠,一般的错误都在这里\n",
    "24 xml文件：^([a-zA-Z]+-?)+[a-zA-Z0-9]+\\\\.[x|X][m|M][l|L]$\n",
    "25 中文字符的正则表达式：[\\u4e00-\\u9fa5]\n",
    "26 双字节字符：[^\\x00-\\xff]    (包括汉字在内，可以用来计算字符串的长度(一个双字节字符长度计2，ASCII字符计1))\n",
    "27 空白行的正则表达式：\\n\\s*\\r    (可以用来删除空白行)\n",
    "28 HTML标记的正则表达式：<(\\S*?)[^>]*>.*?</\\1>|<.*? />    (网上流传的版本太糟糕，上面这个也仅仅能部分，对于复杂的嵌套标记依旧无能为力)\n",
    "29 首尾空白字符的正则表达式：^\\s*|\\s*$或(^\\s*)|(\\s*$)    (可以用来删除行首行尾的空白字符(包括空格、制表符、换页符等等)，非常有用的表达式)\n",
    "30 腾讯QQ号：[1-9][0-9]{4,}    (腾讯QQ号从10000开始)\n",
    "31 中国邮政编码：[1-9]\\d{5}(?!\\d)    (中国邮政编码为6位数字)\n",
    "32 IP地址：\\d+\\.\\d+\\.\\d+\\.\\d+    (提取IP地址时有用)\n",
    "33 IP地址：((?:(?:25[0-5]|2[0-4]\\\\d|[01]?\\\\d?\\\\d)\\\\.){3}(?:25[0-5]|2[0-4]\\\\d|[01]?\\\\d?\\\\d))\n",
    "        ```"
   ]
  },
  {
   "cell_type": "markdown",
   "metadata": {},
   "source": [
    "### 练习"
   ]
  },
  {
   "cell_type": "markdown",
   "metadata": {},
   "source": [
    "#### 基础题"
   ]
  },
  {
   "cell_type": "markdown",
   "metadata": {},
   "source": [
    "1、编写一个函数匹配包含字母'z'的单词"
   ]
  },
  {
   "cell_type": "code",
   "execution_count": 40,
   "metadata": {},
   "outputs": [
    {
     "data": {
      "text/plain": [
       "['zoo', 'zerbra', 'dafzedadaf']"
      ]
     },
     "execution_count": 40,
     "metadata": {},
     "output_type": "execute_result"
    }
   ],
   "source": [
    "re.findall(r'\\b\\w*z\\w*\\b','da;fkdjdafa zoo zerbra a;dfa dafzedadaf')"
   ]
  },
  {
   "cell_type": "markdown",
   "metadata": {},
   "source": [
    "2、编写一个函数提取字符串中的第一个单词"
   ]
  },
  {
   "cell_type": "code",
   "execution_count": 41,
   "metadata": {},
   "outputs": [
    {
     "data": {
      "text/plain": [
       "['dafkdjdafa']"
      ]
     },
     "execution_count": 41,
     "metadata": {},
     "output_type": "execute_result"
    }
   ],
   "source": [
    "re.findall(r'^\\w*\\b','dafkdjdafa zoo zerbra a;dfa dafzedadaf')"
   ]
  },
  {
   "cell_type": "markdown",
   "metadata": {},
   "source": [
    "3、调出字符串'AV is largest Analytics community of India'中每个字母Extract each character (提示：用“\\w“)"
   ]
  },
  {
   "cell_type": "code",
   "execution_count": 43,
   "metadata": {},
   "outputs": [
    {
     "data": {
      "text/plain": [
       "['A',\n",
       " 'V',\n",
       " 'i',\n",
       " 's',\n",
       " 'l',\n",
       " 'a',\n",
       " 'r',\n",
       " 'g',\n",
       " 'e',\n",
       " 's',\n",
       " 't',\n",
       " 'A',\n",
       " 'n',\n",
       " 'a',\n",
       " 'l',\n",
       " 'y',\n",
       " 't',\n",
       " 'i',\n",
       " 'c',\n",
       " 's',\n",
       " 'c',\n",
       " 'o',\n",
       " 'm',\n",
       " 'm',\n",
       " 'u',\n",
       " 'n',\n",
       " 'i',\n",
       " 't',\n",
       " 'y',\n",
       " 'o',\n",
       " 'f',\n",
       " 'I',\n",
       " 'n',\n",
       " 'd',\n",
       " 'i',\n",
       " 'a']"
      ]
     },
     "execution_count": 43,
     "metadata": {},
     "output_type": "execute_result"
    }
   ],
   "source": [
    "re.findall(r'\\w','AV is largest Analytics community of India')"
   ]
  },
  {
   "cell_type": "markdown",
   "metadata": {},
   "source": [
    "4、提取出字符串'AV is largest Analytics community of India'中每个单词的前两个字母(提示：用“\\b“)"
   ]
  },
  {
   "cell_type": "code",
   "execution_count": 44,
   "metadata": {},
   "outputs": [
    {
     "data": {
      "text/plain": [
       "['AV', 'is', 'la', 'An', 'co', 'of', 'In']"
      ]
     },
     "execution_count": 44,
     "metadata": {},
     "output_type": "execute_result"
    }
   ],
   "source": [
    "re.findall(r'\\b\\w\\w','AV is largest Analytics community of India')"
   ]
  },
  {
   "cell_type": "markdown",
   "metadata": {},
   "source": [
    "#### 中级题"
   ]
  },
  {
   "cell_type": "markdown",
   "metadata": {},
   "source": [
    "1、编写一个函数将字符串中的'Road'简写为'Rd.'"
   ]
  },
  {
   "cell_type": "code",
   "execution_count": 48,
   "metadata": {},
   "outputs": [
    {
     "data": {
      "text/plain": [
       "'xinghua Rd., rongjing west Rd.,weieRoad jhfkgkgRoadjkf;ajfdks'"
      ]
     },
     "execution_count": 48,
     "metadata": {},
     "output_type": "execute_result"
    }
   ],
   "source": [
    "re.sub(r'\\bRoad\\b','Rd.','xinghua Road, rongjing west Road,weieRoad jhfkgkgRoadjkf;ajfdks')"
   ]
  },
  {
   "cell_type": "markdown",
   "metadata": {},
   "source": [
    "2、编写一个函数字符串是否为带2-3位小数的正数或负数"
   ]
  },
  {
   "cell_type": "code",
   "execution_count": 91,
   "metadata": {},
   "outputs": [
    {
     "name": "stdout",
     "output_type": "stream",
     "text": [
      "False\n",
      "True\n",
      "False\n",
      "False\n"
     ]
    }
   ],
   "source": [
    "def xiaoshu(s):\n",
    "    if re.match(r'-?\\d+.\\d{2,3}$',s):\n",
    "        return True\n",
    "    else:\n",
    "        return False\n",
    "    \n",
    "print(xiaoshu('5.4'))\n",
    "print(xiaoshu('-532432.32'))\n",
    "print(xiaoshu('2432.3212'))\n",
    "print(xiaoshu('dd2.3'))"
   ]
  },
  {
   "cell_type": "markdown",
   "metadata": {},
   "source": [
    "3、提取出字符串'Amit 34-3456 12-05-2007, XYZ 56-4532 11-11-2011, ABC 67-8945 12-01-2009'中的年份(提示：\"\\d\"提取数字)"
   ]
  },
  {
   "cell_type": "code",
   "execution_count": 97,
   "metadata": {},
   "outputs": [
    {
     "data": {
      "text/plain": [
       "['2007', '2011', '2009']"
      ]
     },
     "execution_count": 97,
     "metadata": {},
     "output_type": "execute_result"
    }
   ],
   "source": [
    "s = 'Amit 34-3456 12-05-2007, XYZ 56-4532 11-11-2011, ABC 67-8945 12-01-2009'\n",
    "\n",
    "re.findall(r'\\d\\d-\\d\\d-(\\d{4})\\b',s)"
   ]
  },
  {
   "cell_type": "markdown",
   "metadata": {},
   "source": [
    "4、你想在字符串 'xyz alice-b@google.com purple monkey'中找到邮箱地址.(提示：用r'\\w+@\\w+'模式)"
   ]
  },
  {
   "cell_type": "code",
   "execution_count": 109,
   "metadata": {},
   "outputs": [
    {
     "data": {
      "text/plain": [
       "['alice-b@google.com']"
      ]
     },
     "execution_count": 109,
     "metadata": {},
     "output_type": "execute_result"
    }
   ],
   "source": [
    "s = 'xyz alice-b@google.com purple monkey'\n",
    "\n",
    "re.findall(r'\\s(.*?@\\w+.\\w+)\\s',s)"
   ]
  },
  {
   "cell_type": "markdown",
   "metadata": {},
   "source": [
    "### 挑战题"
   ]
  },
  {
   "cell_type": "markdown",
   "metadata": {},
   "source": [
    "1、国内电话号码(0511-4405222、021-87888822)，编写一个函数检查电话号码是否合格"
   ]
  },
  {
   "cell_type": "code",
   "execution_count": 119,
   "metadata": {},
   "outputs": [
    {
     "name": "stdout",
     "output_type": "stream",
     "text": [
      "True\n",
      "True\n",
      "False\n",
      "False\n",
      "False\n"
     ]
    }
   ],
   "source": [
    "def is_telephone(s):\n",
    "    result = re.match(r'\\d{4}-\\d{7}|\\d{3}-\\d{8}$',s)\n",
    "    if result:\n",
    "        return True\n",
    "    else:\n",
    "        return False\n",
    "\n",
    "print(is_telephone('0511-4405222'))\n",
    "print(is_telephone('021-87888822'))\n",
    "print(is_telephone('05177-4405222'))\n",
    "print(is_telephone('021-8788882233'))\n",
    "print(is_telephone('021v-88882233'))"
   ]
  },
  {
   "cell_type": "markdown",
   "metadata": {},
   "source": [
    "2、密码(以字母开头，长度在6~18之间，只能包含字母、数字和下划线)，编写一个函数检查密码是否合格"
   ]
  },
  {
   "cell_type": "code",
   "execution_count": 131,
   "metadata": {},
   "outputs": [
    {
     "name": "stdout",
     "output_type": "stream",
     "text": [
      "False\n",
      "True\n",
      "False\n",
      "True\n"
     ]
    }
   ],
   "source": [
    "def check_password(s):\n",
    "    if re.match(r'^[A-Za-z]\\w{5,17}$',s):\n",
    "        return True\n",
    "    else:\n",
    "        return False\n",
    "\n",
    "print(check_password('ydfnasdfowiejjkfkjfioe'))\n",
    "print(check_password('adreamed'))\n",
    "print(check_password('1234555'))\n",
    "print(check_password('a12345'))"
   ]
  },
  {
   "cell_type": "code",
   "execution_count": null,
   "metadata": {},
   "outputs": [],
   "source": []
  }
 ],
 "metadata": {
  "kernelspec": {
   "display_name": "Python 3",
   "language": "python",
   "name": "python3"
  },
  "language_info": {
   "codemirror_mode": {
    "name": "ipython",
    "version": 3
   },
   "file_extension": ".py",
   "mimetype": "text/x-python",
   "name": "python",
   "nbconvert_exporter": "python",
   "pygments_lexer": "ipython3",
   "version": "3.7.1"
  }
 },
 "nbformat": 4,
 "nbformat_minor": 2
}
